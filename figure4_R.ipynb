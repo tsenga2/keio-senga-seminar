{
  "nbformat": 4,
  "nbformat_minor": 0,
  "metadata": {
    "colab": {
      "name": "figure4-R.ipynb",
      "provenance": [],
      "collapsed_sections": [],
      "authorship_tag": "ABX9TyOvjup6kR9DQEMHhZTGZ+c3",
      "include_colab_link": true
    },
    "kernelspec": {
      "name": "python3",
      "display_name": "Python 3"
    },
    "language_info": {
      "name": "python"
    }
  },
  "cells": [
    {
      "cell_type": "markdown",
      "metadata": {
        "id": "view-in-github",
        "colab_type": "text"
      },
      "source": [
        "<a href=\"https://colab.research.google.com/github/tsenga2/keio-senga-seminar/blob/main/figure4_R.ipynb\" target=\"_parent\"><img src=\"https://colab.research.google.com/assets/colab-badge.svg\" alt=\"Open In Colab\"/></a>"
      ]
    },
    {
      "cell_type": "code",
      "source": [
        "!pip install -U -q PyDrive\n",
        "from pydrive.auth import GoogleAuth\n",
        "from pydrive.drive import GoogleDrive\n",
        "from google.colab import auth\n",
        "from oauth2client.client import GoogleCredentials\n",
        "\n",
        "auth.authenticate_user()\n",
        "gauth = GoogleAuth()\n",
        "gauth.credentials = GoogleCredentials.get_application_default()\n",
        "drive = GoogleDrive(gauth)"
      ],
      "metadata": {
        "id": "rGxqgsW6JFqE"
      },
      "execution_count": 1,
      "outputs": []
    },
    {
      "cell_type": "code",
      "source": [
        "import pandas as pd"
      ],
      "metadata": {
        "id": "j1rSQMMqJGss"
      },
      "execution_count": 2,
      "outputs": []
    },
    {
      "cell_type": "code",
      "source": [
        "fileDownloaded = drive.CreateFile({'id': '11eQYM2wto2RBKI-gIQ3f-O6iCcgDBGUU'})\n",
        "fileDownloaded.GetContentFile('figure4.csv')"
      ],
      "metadata": {
        "id": "W5B27xK2JJZa"
      },
      "execution_count": 3,
      "outputs": []
    },
    {
      "cell_type": "code",
      "source": [
        "df = pd.read_csv('figure4.csv',encoding = \"cp932\")\n",
        "df.head()"
      ],
      "metadata": {
        "colab": {
          "base_uri": "https://localhost:8080/",
          "height": 267
        },
        "id": "akmgNje5R7Wx",
        "outputId": "d974a5cc-6479-4b21-9395-1d85116cb88a"
      },
      "execution_count": 4,
      "outputs": [
        {
          "output_type": "execute_result",
          "data": {
            "text/plain": [
              "   日経会社コード 企業名称      決算期  決算種別  連結基準  <貸借対照表（負債）>短期借入金・社債合計  \\\n",
              "0        1   極洋  1984/10    10     1                43039.0   \n",
              "1        1   極洋  1985/10    10     1                35854.0   \n",
              "2        1   極洋  1986/10    10     1                33587.0   \n",
              "3        1   極洋  1987/10    10     1                35390.0   \n",
              "4        1   極洋  1988/03    10     1                37819.0   \n",
              "\n",
              "   <貸借対照表（負債）>長期借入金・社債・転換社債  <貸借対照表（資産）>現金・預金／現金及び現金同等物  <貸借対照表（資産）>資産合計  \n",
              "0                   13666.0                     16300.0          93094.0  \n",
              "1                   10611.0                     14433.0          82267.0  \n",
              "2                   10385.0                     13787.0          82394.0  \n",
              "3                   10510.0                     13887.0          85497.0  \n",
              "4                    9895.0                     14008.0          82382.0  "
            ],
            "text/html": [
              "\n",
              "  <div id=\"df-63f1ef1b-b748-422b-95e4-9baabde68990\">\n",
              "    <div class=\"colab-df-container\">\n",
              "      <div>\n",
              "<style scoped>\n",
              "    .dataframe tbody tr th:only-of-type {\n",
              "        vertical-align: middle;\n",
              "    }\n",
              "\n",
              "    .dataframe tbody tr th {\n",
              "        vertical-align: top;\n",
              "    }\n",
              "\n",
              "    .dataframe thead th {\n",
              "        text-align: right;\n",
              "    }\n",
              "</style>\n",
              "<table border=\"1\" class=\"dataframe\">\n",
              "  <thead>\n",
              "    <tr style=\"text-align: right;\">\n",
              "      <th></th>\n",
              "      <th>日経会社コード</th>\n",
              "      <th>企業名称</th>\n",
              "      <th>決算期</th>\n",
              "      <th>決算種別</th>\n",
              "      <th>連結基準</th>\n",
              "      <th>&lt;貸借対照表（負債）&gt;短期借入金・社債合計</th>\n",
              "      <th>&lt;貸借対照表（負債）&gt;長期借入金・社債・転換社債</th>\n",
              "      <th>&lt;貸借対照表（資産）&gt;現金・預金／現金及び現金同等物</th>\n",
              "      <th>&lt;貸借対照表（資産）&gt;資産合計</th>\n",
              "    </tr>\n",
              "  </thead>\n",
              "  <tbody>\n",
              "    <tr>\n",
              "      <th>0</th>\n",
              "      <td>1</td>\n",
              "      <td>極洋</td>\n",
              "      <td>1984/10</td>\n",
              "      <td>10</td>\n",
              "      <td>1</td>\n",
              "      <td>43039.0</td>\n",
              "      <td>13666.0</td>\n",
              "      <td>16300.0</td>\n",
              "      <td>93094.0</td>\n",
              "    </tr>\n",
              "    <tr>\n",
              "      <th>1</th>\n",
              "      <td>1</td>\n",
              "      <td>極洋</td>\n",
              "      <td>1985/10</td>\n",
              "      <td>10</td>\n",
              "      <td>1</td>\n",
              "      <td>35854.0</td>\n",
              "      <td>10611.0</td>\n",
              "      <td>14433.0</td>\n",
              "      <td>82267.0</td>\n",
              "    </tr>\n",
              "    <tr>\n",
              "      <th>2</th>\n",
              "      <td>1</td>\n",
              "      <td>極洋</td>\n",
              "      <td>1986/10</td>\n",
              "      <td>10</td>\n",
              "      <td>1</td>\n",
              "      <td>33587.0</td>\n",
              "      <td>10385.0</td>\n",
              "      <td>13787.0</td>\n",
              "      <td>82394.0</td>\n",
              "    </tr>\n",
              "    <tr>\n",
              "      <th>3</th>\n",
              "      <td>1</td>\n",
              "      <td>極洋</td>\n",
              "      <td>1987/10</td>\n",
              "      <td>10</td>\n",
              "      <td>1</td>\n",
              "      <td>35390.0</td>\n",
              "      <td>10510.0</td>\n",
              "      <td>13887.0</td>\n",
              "      <td>85497.0</td>\n",
              "    </tr>\n",
              "    <tr>\n",
              "      <th>4</th>\n",
              "      <td>1</td>\n",
              "      <td>極洋</td>\n",
              "      <td>1988/03</td>\n",
              "      <td>10</td>\n",
              "      <td>1</td>\n",
              "      <td>37819.0</td>\n",
              "      <td>9895.0</td>\n",
              "      <td>14008.0</td>\n",
              "      <td>82382.0</td>\n",
              "    </tr>\n",
              "  </tbody>\n",
              "</table>\n",
              "</div>\n",
              "      <button class=\"colab-df-convert\" onclick=\"convertToInteractive('df-63f1ef1b-b748-422b-95e4-9baabde68990')\"\n",
              "              title=\"Convert this dataframe to an interactive table.\"\n",
              "              style=\"display:none;\">\n",
              "        \n",
              "  <svg xmlns=\"http://www.w3.org/2000/svg\" height=\"24px\"viewBox=\"0 0 24 24\"\n",
              "       width=\"24px\">\n",
              "    <path d=\"M0 0h24v24H0V0z\" fill=\"none\"/>\n",
              "    <path d=\"M18.56 5.44l.94 2.06.94-2.06 2.06-.94-2.06-.94-.94-2.06-.94 2.06-2.06.94zm-11 1L8.5 8.5l.94-2.06 2.06-.94-2.06-.94L8.5 2.5l-.94 2.06-2.06.94zm10 10l.94 2.06.94-2.06 2.06-.94-2.06-.94-.94-2.06-.94 2.06-2.06.94z\"/><path d=\"M17.41 7.96l-1.37-1.37c-.4-.4-.92-.59-1.43-.59-.52 0-1.04.2-1.43.59L10.3 9.45l-7.72 7.72c-.78.78-.78 2.05 0 2.83L4 21.41c.39.39.9.59 1.41.59.51 0 1.02-.2 1.41-.59l7.78-7.78 2.81-2.81c.8-.78.8-2.07 0-2.86zM5.41 20L4 18.59l7.72-7.72 1.47 1.35L5.41 20z\"/>\n",
              "  </svg>\n",
              "      </button>\n",
              "      \n",
              "  <style>\n",
              "    .colab-df-container {\n",
              "      display:flex;\n",
              "      flex-wrap:wrap;\n",
              "      gap: 12px;\n",
              "    }\n",
              "\n",
              "    .colab-df-convert {\n",
              "      background-color: #E8F0FE;\n",
              "      border: none;\n",
              "      border-radius: 50%;\n",
              "      cursor: pointer;\n",
              "      display: none;\n",
              "      fill: #1967D2;\n",
              "      height: 32px;\n",
              "      padding: 0 0 0 0;\n",
              "      width: 32px;\n",
              "    }\n",
              "\n",
              "    .colab-df-convert:hover {\n",
              "      background-color: #E2EBFA;\n",
              "      box-shadow: 0px 1px 2px rgba(60, 64, 67, 0.3), 0px 1px 3px 1px rgba(60, 64, 67, 0.15);\n",
              "      fill: #174EA6;\n",
              "    }\n",
              "\n",
              "    [theme=dark] .colab-df-convert {\n",
              "      background-color: #3B4455;\n",
              "      fill: #D2E3FC;\n",
              "    }\n",
              "\n",
              "    [theme=dark] .colab-df-convert:hover {\n",
              "      background-color: #434B5C;\n",
              "      box-shadow: 0px 1px 3px 1px rgba(0, 0, 0, 0.15);\n",
              "      filter: drop-shadow(0px 1px 2px rgba(0, 0, 0, 0.3));\n",
              "      fill: #FFFFFF;\n",
              "    }\n",
              "  </style>\n",
              "\n",
              "      <script>\n",
              "        const buttonEl =\n",
              "          document.querySelector('#df-63f1ef1b-b748-422b-95e4-9baabde68990 button.colab-df-convert');\n",
              "        buttonEl.style.display =\n",
              "          google.colab.kernel.accessAllowed ? 'block' : 'none';\n",
              "\n",
              "        async function convertToInteractive(key) {\n",
              "          const element = document.querySelector('#df-63f1ef1b-b748-422b-95e4-9baabde68990');\n",
              "          const dataTable =\n",
              "            await google.colab.kernel.invokeFunction('convertToInteractive',\n",
              "                                                     [key], {});\n",
              "          if (!dataTable) return;\n",
              "\n",
              "          const docLinkHtml = 'Like what you see? Visit the ' +\n",
              "            '<a target=\"_blank\" href=https://colab.research.google.com/notebooks/data_table.ipynb>data table notebook</a>'\n",
              "            + ' to learn more about interactive tables.';\n",
              "          element.innerHTML = '';\n",
              "          dataTable['output_type'] = 'display_data';\n",
              "          await google.colab.output.renderOutput(dataTable, element);\n",
              "          const docLink = document.createElement('div');\n",
              "          docLink.innerHTML = docLinkHtml;\n",
              "          element.appendChild(docLink);\n",
              "        }\n",
              "      </script>\n",
              "    </div>\n",
              "  </div>\n",
              "  "
            ]
          },
          "metadata": {},
          "execution_count": 4
        }
      ]
    },
    {
      "cell_type": "code",
      "execution_count": 5,
      "metadata": {
        "id": "4bE6d_1fHjih"
      },
      "outputs": [],
      "source": [
        "%load_ext rpy2.ipython"
      ]
    },
    {
      "cell_type": "code",
      "source": [
        "%%R\n",
        "\n",
        "library(tidyverse)"
      ],
      "metadata": {
        "id": "wah8k0D_Hqv0",
        "colab": {
          "base_uri": "https://localhost:8080/"
        },
        "outputId": "0315b4b7-0e97-4d67-dce4-f7873cd731d2"
      },
      "execution_count": 6,
      "outputs": [
        {
          "output_type": "stream",
          "name": "stderr",
          "text": [
            "R[write to console]: ── Attaching packages ─────────────────────────────────────── tidyverse 1.3.1 ──\n",
            "\n",
            "R[write to console]: ✔ ggplot2 3.3.6     ✔ purrr   0.3.4\n",
            "✔ tibble  3.1.7     ✔ dplyr   1.0.9\n",
            "✔ tidyr   1.2.0     ✔ stringr 1.4.0\n",
            "✔ readr   2.1.2     ✔ forcats 0.5.1\n",
            "\n",
            "R[write to console]: ── Conflicts ────────────────────────────────────────── tidyverse_conflicts() ──\n",
            "✖ dplyr::filter() masks stats::filter()\n",
            "✖ dplyr::lag()    masks stats::lag()\n",
            "\n"
          ]
        }
      ]
    },
    {
      "cell_type": "code",
      "source": [
        "%%R\n",
        "\n",
        "df <- read_csv('figure4.csv', locale = locale(encoding = \"shift_jis\"))\n",
        "print(df)"
      ],
      "metadata": {
        "colab": {
          "base_uri": "https://localhost:8080/"
        },
        "id": "zGu731PELAAt",
        "outputId": "82be0e82-0d8e-4dc3-92ad-78efbe56fde9"
      },
      "execution_count": 7,
      "outputs": [
        {
          "output_type": "stream",
          "name": "stdout",
          "text": [
            "Rows: 62595 Columns: 9\n",
            "── Column specification ────────────────────────────────────────────────────────\n",
            "Delimiter: \",\"\n",
            "chr (3): 日経会社コード, 企業名称, 決算期\n",
            "dbl (6): 決算種別, 連結基準, <貸借対照表（負債）>短期借入金・社債合計, <貸借対照表（負債）>長期借入金・社債・転換社債, <貸借対照表...\n",
            "\n",
            "ℹ Use `spec()` to retrieve the full column specification for this data.\n",
            "ℹ Specify the column types or set `show_col_types = FALSE` to quiet this message.\n",
            "# A tibble: 62,595 × 9\n",
            "   日経会社コード 企業名称 決算期  決算種別 連結基準 `<貸借対照表（負債）>短期…`\n",
            "   <chr>          <chr>    <chr>      <dbl>    <dbl>                       <dbl>\n",
            " 1 0000001        極洋     1984/10       10        1                       43039\n",
            " 2 0000001        極洋     1985/10       10        1                       35854\n",
            " 3 0000001        極洋     1986/10       10        1                       33587\n",
            " 4 0000001        極洋     1987/10       10        1                       35390\n",
            " 5 0000001        極洋     1988/03       10        1                       37819\n",
            " 6 0000001        極洋     1989/03       10        1                       40962\n",
            " 7 0000001        極洋     1990/03       10        1                       34482\n",
            " 8 0000001        極洋     1991/03       10        1                       32559\n",
            " 9 0000001        極洋     1992/03       10        1                       31437\n",
            "10 0000001        極洋     1993/03       10        1                       33064\n",
            "# … with 62,585 more rows, and 3 more variables:\n",
            "#   `<貸借対照表（負債）>長期借入金・社債・転換社債` <dbl>,\n",
            "#   `<貸借対照表（資産）>現金・預金／現金及び現金同等物` <dbl>,\n",
            "#   `<貸借対照表（資産）>資産合計` <dbl>\n"
          ]
        }
      ]
    },
    {
      "cell_type": "code",
      "source": [
        "%%R\n",
        "\n",
        "sd <- df$`<貸借対照表（負債）>短期借入金・社債合計`\n",
        "ld <- df$`<貸借対照表（負債）>長期借入金・社債・転換社債`\n",
        "ca <- df$`<貸借対照表（資産）>現金・預金／現金及び現金同等物`\n",
        "aa <- df$`<貸借対照表（資産）>資産合計`"
      ],
      "metadata": {
        "id": "91Ir8ne7JpAy"
      },
      "execution_count": 8,
      "outputs": []
    },
    {
      "cell_type": "code",
      "source": [
        "%%R\n",
        "\n",
        "dfm <- mutate(df, Blew = (sd + ld) / aa)\n",
        "dfm.nona <- na.omit(dfm)\n",
        "dft <- dfm.nona[order(dfm.nona$決算期,decreasing = FALSE),]"
      ],
      "metadata": {
        "id": "TMPvPaTlL8ln"
      },
      "execution_count": 9,
      "outputs": []
    },
    {
      "cell_type": "code",
      "source": [
        "%%R\n",
        "\n",
        "df1975 <- dft[dft$決算期>1975 & dft$決算期<1976, ]$Blew\n",
        "df1976 <- dft[dft$決算期>1976 & dft$決算期<1977, ]$Blew\n",
        "df1977 <- dft[dft$決算期>1977 & dft$決算期<1978, ]$Blew\n",
        "df1978 <- dft[dft$決算期>1978 & dft$決算期<1979, ]$Blew\n",
        "df1979 <- dft[dft$決算期>1979 & dft$決算期<1980, ]$Blew\n",
        "df1980 <- dft[dft$決算期>1980 & dft$決算期<1981, ]$Blew\n",
        "df1981 <- dft[dft$決算期>1981 & dft$決算期<1982, ]$Blew\n",
        "df1982 <- dft[dft$決算期>1982 & dft$決算期<1983, ]$Blew\n",
        "df1983 <- dft[dft$決算期>1983 & dft$決算期<1984, ]$Blew\n",
        "df1984 <- dft[dft$決算期>1984 & dft$決算期<1985, ]$Blew\n",
        "df1985 <- dft[dft$決算期>1985 & dft$決算期<1986, ]$Blew\n",
        "df1986 <- dft[dft$決算期>1986 & dft$決算期<1987, ]$Blew\n",
        "df1987 <- dft[dft$決算期>1987 & dft$決算期<1988, ]$Blew\n",
        "df1988 <- dft[dft$決算期>1988 & dft$決算期<1989, ]$Blew\n",
        "df1989 <- dft[dft$決算期>1989 & dft$決算期<1990, ]$Blew\n",
        "df1990 <- dft[dft$決算期>1990 & dft$決算期<1991, ]$Blew\n",
        "df1991 <- dft[dft$決算期>1991 & dft$決算期<1992, ]$Blew\n",
        "df1992 <- dft[dft$決算期>1992 & dft$決算期<1993, ]$Blew\n",
        "df1993 <- dft[dft$決算期>1993 & dft$決算期<1994, ]$Blew\n",
        "df1994 <- dft[dft$決算期>1994 & dft$決算期<1995, ]$Blew\n",
        "df1995 <- dft[dft$決算期>1995 & dft$決算期<1996, ]$Blew\n",
        "df1996 <- dft[dft$決算期>1996 & dft$決算期<1997, ]$Blew\n",
        "df1997 <- dft[dft$決算期>1997 & dft$決算期<1998, ]$Blew\n",
        "df1998 <- dft[dft$決算期>1998 & dft$決算期<1999, ]$Blew\n",
        "df1999 <- dft[dft$決算期>1999 & dft$決算期<2000, ]$Blew\n",
        "df2000 <- dft[dft$決算期>2000 & dft$決算期<2001, ]$Blew\n",
        "df2001 <- dft[dft$決算期>2001 & dft$決算期<2002, ]$Blew\n",
        "df2002 <- dft[dft$決算期>2002 & dft$決算期<2003, ]$Blew\n",
        "df2003 <- dft[dft$決算期>2003 & dft$決算期<2004, ]$Blew\n",
        "df2004 <- dft[dft$決算期>2004 & dft$決算期<2005, ]$Blew\n",
        "df2005 <- dft[dft$決算期>2005 & dft$決算期<2006, ]$Blew\n",
        "df2006 <- dft[dft$決算期>2006 & dft$決算期<2007, ]$Blew\n",
        "df2007 <- dft[dft$決算期>2007 & dft$決算期<2008, ]$Blew\n",
        "df2008 <- dft[dft$決算期>2008 & dft$決算期<2009, ]$Blew\n",
        "df2009 <- dft[dft$決算期>2009 & dft$決算期<2010, ]$Blew\n",
        "df2010 <- dft[dft$決算期>2010 & dft$決算期<2011, ]$Blew\n",
        "df2011 <- dft[dft$決算期>2011 & dft$決算期<2012, ]$Blew\n",
        "df2012 <- dft[dft$決算期>2012 & dft$決算期<2013, ]$Blew\n",
        "df2013 <- dft[dft$決算期>2013 & dft$決算期<2014, ]$Blew\n",
        "df2014 <- dft[dft$決算期>2014 & dft$決算期<2015, ]$Blew\n",
        "df2015 <- dft[dft$決算期>2015 & dft$決算期<2016, ]$Blew\n",
        "df2016 <- dft[dft$決算期>2016 & dft$決算期<2017, ]$Blew\n",
        "df2017 <- dft[dft$決算期>2017 & dft$決算期<2018, ]$Blew\n",
        "df2018 <- dft[dft$決算期>2018 & dft$決算期<2019, ]$Blew\n",
        "df2019 <- dft[dft$決算期>2019 & dft$決算期<2020, ]$Blew\n",
        "df2020 <- dft[dft$決算期>2020 & dft$決算期<2021, ]$Blew\n",
        "df2021 <- dft[dft$決算期>2021 & dft$決算期<2022, ]$Blew"
      ],
      "metadata": {
        "id": "fCbOrWckMCpb"
      },
      "execution_count": 10,
      "outputs": []
    },
    {
      "cell_type": "code",
      "source": [
        "%%R\n",
        "\n",
        "e75 <- mean(df1975)\n",
        "e76 <- mean(df1976)\n",
        "e77 <- mean(df1977)\n",
        "e78 <- mean(df1978)\n",
        "e79 <- mean(df1979)\n",
        "e80 <- mean(df1980)\n",
        "e81 <- mean(df1981)\n",
        "e82 <- mean(df1982)\n",
        "e83 <- mean(df1983)\n",
        "e84 <- mean(df1984)\n",
        "e85 <- mean(df1985)\n",
        "e86 <- mean(df1986)\n",
        "e87 <- mean(df1987)\n",
        "e88 <- mean(df1988)\n",
        "e89 <- mean(df1989)\n",
        "e90 <- mean(df1990)\n",
        "e91 <- mean(df1991)\n",
        "e92 <- mean(df1992)\n",
        "e93 <- mean(df1993)\n",
        "e94 <- mean(df1994)\n",
        "e95 <- mean(df1995)\n",
        "e96 <- mean(df1996)\n",
        "e97 <- mean(df1997)\n",
        "e98 <- mean(df1998)\n",
        "e99 <- mean(df1999)\n",
        "e00 <- mean(df2000)\n",
        "e01 <- mean(df2001)\n",
        "e02 <- mean(df2002)\n",
        "e03 <- mean(df2003)\n",
        "e04 <- mean(df2004)\n",
        "e05 <- mean(df2005)\n",
        "e06 <- mean(df2006)\n",
        "e07 <- mean(df2007)\n",
        "e08 <- mean(df2008)\n",
        "e09 <- mean(df2009)\n",
        "e10 <- mean(df2010)\n",
        "e11 <- mean(df2011)\n",
        "e12 <- mean(df2012)\n",
        "e13 <- mean(df2013)\n",
        "e14 <- mean(df2014)\n",
        "e15 <- mean(df2015)\n",
        "e16 <- mean(df2016)\n",
        "e17 <- mean(df2017)\n",
        "e18 <- mean(df2018)\n",
        "e19 <- mean(df2019)\n",
        "e20 <- mean(df2020)\n",
        "e21 <- mean(df2021)"
      ],
      "metadata": {
        "id": "tkSe62VlMIce"
      },
      "execution_count": 11,
      "outputs": []
    },
    {
      "cell_type": "code",
      "source": [
        "%%R\n",
        "\n",
        "year <- 1975:2021\n",
        "Book_levarage_ew <- c(e75,e76,e77,e78,e79,e80,e81,e82,e83,e84,e85,e86,e87,e88,e89,e90,e91,e92,e93,e94,e95,e96,e97,e98,e99,e00,e01,e02,e03,e04,e05,e06,e07,e08,e09,e10,e11,e12,e13,e14,e15,e16,e17,e18,e19,e20,e21)"
      ],
      "metadata": {
        "id": "flkjZcCfMOWg"
      },
      "execution_count": 12,
      "outputs": []
    },
    {
      "cell_type": "code",
      "source": [
        "%%R\n",
        "\n",
        "dfdebt <- mutate(df, debt = sd + ld)\n",
        "dfdebt.nona <- na.omit(dfdebt)\n",
        "dfta <- dfdebt.nona[order(dfdebt.nona$決算期,decreasing = FALSE),]"
      ],
      "metadata": {
        "id": "__oTxXn0MjDP"
      },
      "execution_count": 13,
      "outputs": []
    },
    {
      "cell_type": "code",
      "source": [
        "%%R\n",
        "\n",
        "df1975a <- dfta[dfta$決算期>1975 & dfta$決算期<1976, ][c(\"debt\",\"<貸借対照表（資産）>資産合計\")]\n",
        "df1976a <- dfta[dfta$決算期>1976 & dfta$決算期<1977, ][c(\"debt\",\"<貸借対照表（資産）>資産合計\")]\n",
        "df1977a <- dfta[dfta$決算期>1977 & dfta$決算期<1978, ][c(\"debt\",\"<貸借対照表（資産）>資産合計\")]\n",
        "df1978a <- dfta[dfta$決算期>1978 & dfta$決算期<1979, ][c(\"debt\",\"<貸借対照表（資産）>資産合計\")]\n",
        "df1979a <- dfta[dfta$決算期>1979 & dfta$決算期<1980, ][c(\"debt\",\"<貸借対照表（資産）>資産合計\")]\n",
        "df1980a <- dfta[dfta$決算期>1980 & dfta$決算期<1981, ][c(\"debt\",\"<貸借対照表（資産）>資産合計\")]\n",
        "df1981a <- dfta[dfta$決算期>1981 & dfta$決算期<1982, ][c(\"debt\",\"<貸借対照表（資産）>資産合計\")]\n",
        "df1982a <- dfta[dfta$決算期>1982 & dfta$決算期<1983, ][c(\"debt\",\"<貸借対照表（資産）>資産合計\")]\n",
        "df1983a <- dfta[dfta$決算期>1983 & dfta$決算期<1984, ][c(\"debt\",\"<貸借対照表（資産）>資産合計\")]\n",
        "df1984a <- dfta[dfta$決算期>1984 & dfta$決算期<1985, ][c(\"debt\",\"<貸借対照表（資産）>資産合計\")]\n",
        "df1985a <- dfta[dfta$決算期>1985 & dfta$決算期<1986, ][c(\"debt\",\"<貸借対照表（資産）>資産合計\")]\n",
        "df1986a <- dfta[dfta$決算期>1986 & dfta$決算期<1987, ][c(\"debt\",\"<貸借対照表（資産）>資産合計\")]\n",
        "df1987a <- dfta[dfta$決算期>1987 & dfta$決算期<1988, ][c(\"debt\",\"<貸借対照表（資産）>資産合計\")]\n",
        "df1988a <- dfta[dfta$決算期>1988 & dfta$決算期<1989, ][c(\"debt\",\"<貸借対照表（資産）>資産合計\")]\n",
        "df1989a <- dfta[dfta$決算期>1989 & dfta$決算期<1990, ][c(\"debt\",\"<貸借対照表（資産）>資産合計\")]\n",
        "df1990a <- dfta[dfta$決算期>1990 & dfta$決算期<1991, ][c(\"debt\",\"<貸借対照表（資産）>資産合計\")]\n",
        "df1991a <- dfta[dfta$決算期>1991 & dfta$決算期<1992, ][c(\"debt\",\"<貸借対照表（資産）>資産合計\")]\n",
        "df1992a <- dfta[dfta$決算期>1992 & dfta$決算期<1993, ][c(\"debt\",\"<貸借対照表（資産）>資産合計\")]\n",
        "df1993a <- dfta[dfta$決算期>1993 & dfta$決算期<1994, ][c(\"debt\",\"<貸借対照表（資産）>資産合計\")]\n",
        "df1994a <- dfta[dfta$決算期>1994 & dfta$決算期<1995, ][c(\"debt\",\"<貸借対照表（資産）>資産合計\")]\n",
        "df1995a <- dfta[dfta$決算期>1995 & dfta$決算期<1996, ][c(\"debt\",\"<貸借対照表（資産）>資産合計\")]\n",
        "df1996a <- dfta[dfta$決算期>1996 & dfta$決算期<1997, ][c(\"debt\",\"<貸借対照表（資産）>資産合計\")]\n",
        "df1997a <- dfta[dfta$決算期>1997 & dfta$決算期<1998, ][c(\"debt\",\"<貸借対照表（資産）>資産合計\")]\n",
        "df1998a <- dfta[dfta$決算期>1998 & dfta$決算期<1999, ][c(\"debt\",\"<貸借対照表（資産）>資産合計\")]\n",
        "df1999a <- dfta[dfta$決算期>1999 & dfta$決算期<2000, ][c(\"debt\",\"<貸借対照表（資産）>資産合計\")]\n",
        "df2000a <- dfta[dfta$決算期>2000 & dfta$決算期<2001, ][c(\"debt\",\"<貸借対照表（資産）>資産合計\")]\n",
        "df2001a <- dfta[dfta$決算期>2001 & dfta$決算期<2002, ][c(\"debt\",\"<貸借対照表（資産）>資産合計\")]\n",
        "df2002a <- dfta[dfta$決算期>2002 & dfta$決算期<2003, ][c(\"debt\",\"<貸借対照表（資産）>資産合計\")]\n",
        "df2003a <- dfta[dfta$決算期>2003 & dfta$決算期<2004, ][c(\"debt\",\"<貸借対照表（資産）>資産合計\")]\n",
        "df2004a <- dfta[dfta$決算期>2004 & dfta$決算期<2005, ][c(\"debt\",\"<貸借対照表（資産）>資産合計\")]\n",
        "df2005a <- dfta[dfta$決算期>2005 & dfta$決算期<2006, ][c(\"debt\",\"<貸借対照表（資産）>資産合計\")]\n",
        "df2006a <- dfta[dfta$決算期>2006 & dfta$決算期<2007, ][c(\"debt\",\"<貸借対照表（資産）>資産合計\")]\n",
        "df2007a <- dfta[dfta$決算期>2007 & dfta$決算期<2008, ][c(\"debt\",\"<貸借対照表（資産）>資産合計\")]\n",
        "df2008a <- dfta[dfta$決算期>2008 & dfta$決算期<2009, ][c(\"debt\",\"<貸借対照表（資産）>資産合計\")]\n",
        "df2009a <- dfta[dfta$決算期>2009 & dfta$決算期<2010, ][c(\"debt\",\"<貸借対照表（資産）>資産合計\")]\n",
        "df2010a <- dfta[dfta$決算期>2010 & dfta$決算期<2011, ][c(\"debt\",\"<貸借対照表（資産）>資産合計\")]\n",
        "df2011a <- dfta[dfta$決算期>2011 & dfta$決算期<2012, ][c(\"debt\",\"<貸借対照表（資産）>資産合計\")]\n",
        "df2012a <- dfta[dfta$決算期>2012 & dfta$決算期<2013, ][c(\"debt\",\"<貸借対照表（資産）>資産合計\")]\n",
        "df2013a <- dfta[dfta$決算期>2013 & dfta$決算期<2014, ][c(\"debt\",\"<貸借対照表（資産）>資産合計\")]\n",
        "df2014a <- dfta[dfta$決算期>2014 & dfta$決算期<2015, ][c(\"debt\",\"<貸借対照表（資産）>資産合計\")]\n",
        "df2015a <- dfta[dfta$決算期>2015 & dfta$決算期<2016, ][c(\"debt\",\"<貸借対照表（資産）>資産合計\")]\n",
        "df2016a <- dfta[dfta$決算期>2016 & dfta$決算期<2017, ][c(\"debt\",\"<貸借対照表（資産）>資産合計\")]\n",
        "df2017a <- dfta[dfta$決算期>2017 & dfta$決算期<2018, ][c(\"debt\",\"<貸借対照表（資産）>資産合計\")]\n",
        "df2018a <- dfta[dfta$決算期>2018 & dfta$決算期<2019, ][c(\"debt\",\"<貸借対照表（資産）>資産合計\")]\n",
        "df2019a <- dfta[dfta$決算期>2019 & dfta$決算期<2020, ][c(\"debt\",\"<貸借対照表（資産）>資産合計\")]\n",
        "df2020a <- dfta[dfta$決算期>2020 & dfta$決算期<2021, ][c(\"debt\",\"<貸借対照表（資産）>資産合計\")]\n",
        "df2021a <- dfta[dfta$決算期>2021 & dfta$決算期<2022, ][c(\"debt\",\"<貸借対照表（資産）>資産合計\")]"
      ],
      "metadata": {
        "id": "8gqNrHrTMuGz"
      },
      "execution_count": 14,
      "outputs": []
    },
    {
      "cell_type": "code",
      "source": [
        "%%R\n",
        "\n",
        "a75 <- sum(df1975a$debt)/sum(df1975a$`<貸借対照表（資産）>資産合計`)\n",
        "a76 <- sum(df1976a$debt)/sum(df1976a$`<貸借対照表（資産）>資産合計`)\n",
        "a77 <- sum(df1977a$debt)/sum(df1977a$`<貸借対照表（資産）>資産合計`)\n",
        "a78 <- sum(df1978a$debt)/sum(df1978a$`<貸借対照表（資産）>資産合計`)\n",
        "a79 <- sum(df1979a$debt)/sum(df1979a$`<貸借対照表（資産）>資産合計`)\n",
        "a80 <- sum(df1980a$debt)/sum(df1980a$`<貸借対照表（資産）>資産合計`)\n",
        "a81 <- sum(df1981a$debt)/sum(df1981a$`<貸借対照表（資産）>資産合計`)\n",
        "a82 <- sum(df1982a$debt)/sum(df1982a$`<貸借対照表（資産）>資産合計`)\n",
        "a83 <- sum(df1983a$debt)/sum(df1983a$`<貸借対照表（資産）>資産合計`)\n",
        "a84 <- sum(df1984a$debt)/sum(df1984a$`<貸借対照表（資産）>資産合計`)\n",
        "a85 <- sum(df1985a$debt)/sum(df1985a$`<貸借対照表（資産）>資産合計`)\n",
        "a86 <- sum(df1986a$debt)/sum(df1986a$`<貸借対照表（資産）>資産合計`)\n",
        "a87 <- sum(df1987a$debt)/sum(df1987a$`<貸借対照表（資産）>資産合計`)\n",
        "a88 <- sum(df1988a$debt)/sum(df1988a$`<貸借対照表（資産）>資産合計`)\n",
        "a89 <- sum(df1989a$debt)/sum(df1989a$`<貸借対照表（資産）>資産合計`)\n",
        "a90 <- sum(df1990a$debt)/sum(df1990a$`<貸借対照表（資産）>資産合計`)\n",
        "a91 <- sum(df1991a$debt)/sum(df1991a$`<貸借対照表（資産）>資産合計`)\n",
        "a92 <- sum(df1992a$debt)/sum(df1992a$`<貸借対照表（資産）>資産合計`)\n",
        "a93 <- sum(df1993a$debt)/sum(df1993a$`<貸借対照表（資産）>資産合計`)\n",
        "a94 <- sum(df1994a$debt)/sum(df1994a$`<貸借対照表（資産）>資産合計`)\n",
        "a95 <- sum(df1995a$debt)/sum(df1995a$`<貸借対照表（資産）>資産合計`)\n",
        "a96 <- sum(df1996a$debt)/sum(df1996a$`<貸借対照表（資産）>資産合計`)\n",
        "a97 <- sum(df1997a$debt)/sum(df1997a$`<貸借対照表（資産）>資産合計`)\n",
        "a98 <- sum(df1998a$debt)/sum(df1998a$`<貸借対照表（資産）>資産合計`)\n",
        "a99 <- sum(df1999a$debt)/sum(df1999a$`<貸借対照表（資産）>資産合計`)\n",
        "a00 <- sum(df2000a$debt)/sum(df2000a$`<貸借対照表（資産）>資産合計`)\n",
        "a01 <- sum(df2001a$debt)/sum(df2001a$`<貸借対照表（資産）>資産合計`)\n",
        "a02 <- sum(df2002a$debt)/sum(df2002a$`<貸借対照表（資産）>資産合計`)\n",
        "a03 <- sum(df2003a$debt)/sum(df2003a$`<貸借対照表（資産）>資産合計`)\n",
        "a04 <- sum(df2004a$debt)/sum(df2004a$`<貸借対照表（資産）>資産合計`)\n",
        "a05 <- sum(df2005a$debt)/sum(df2005a$`<貸借対照表（資産）>資産合計`)\n",
        "a06 <- sum(df2006a$debt)/sum(df2006a$`<貸借対照表（資産）>資産合計`)\n",
        "a07 <- sum(df2007a$debt)/sum(df2007a$`<貸借対照表（資産）>資産合計`)\n",
        "a08 <- sum(df2008a$debt)/sum(df2008a$`<貸借対照表（資産）>資産合計`)\n",
        "a09 <- sum(df2009a$debt)/sum(df2009a$`<貸借対照表（資産）>資産合計`)\n",
        "a10 <- sum(df2010a$debt)/sum(df2010a$`<貸借対照表（資産）>資産合計`)\n",
        "a11 <- sum(df2011a$debt)/sum(df2011a$`<貸借対照表（資産）>資産合計`)\n",
        "a12 <- sum(df2012a$debt)/sum(df2012a$`<貸借対照表（資産）>資産合計`)\n",
        "a13 <- sum(df2013a$debt)/sum(df2013a$`<貸借対照表（資産）>資産合計`)\n",
        "a14 <- sum(df2014a$debt)/sum(df2014a$`<貸借対照表（資産）>資産合計`)\n",
        "a15 <- sum(df2015a$debt)/sum(df2015a$`<貸借対照表（資産）>資産合計`)\n",
        "a16 <- sum(df2016a$debt)/sum(df2016a$`<貸借対照表（資産）>資産合計`)\n",
        "a17 <- sum(df2017a$debt)/sum(df2017a$`<貸借対照表（資産）>資産合計`)\n",
        "a18 <- sum(df2018a$debt)/sum(df2018a$`<貸借対照表（資産）>資産合計`)\n",
        "a19 <- sum(df2019a$debt)/sum(df2019a$`<貸借対照表（資産）>資産合計`)\n",
        "a20 <- sum(df2020a$debt)/sum(df2020a$`<貸借対照表（資産）>資産合計`)\n",
        "a21 <- sum(df2021a$debt)/sum(df2021a$`<貸借対照表（資産）>資産合計`)"
      ],
      "metadata": {
        "id": "n7KsjegNM3iC"
      },
      "execution_count": 15,
      "outputs": []
    },
    {
      "cell_type": "code",
      "source": [
        "%%R\n",
        "\n",
        "year <- 1975:2021\n",
        "Book_levarage_aw <- c(a75,a76,a77,a78,a79,a80,a81,a82,a83,a84,a85,a86,a87,a88,a89,a90,a91,a92,a93,a94,a95,a96,a97,a98,a99,a00,a01,a02,a03,a04,a05,a06,a07,a08,a09,a10,a11,a12,a13,a14,a15,a16,a17,a18,a19,a20,a21)"
      ],
      "metadata": {
        "id": "THAW-NsvM8tC"
      },
      "execution_count": 16,
      "outputs": []
    },
    {
      "cell_type": "code",
      "source": [
        "%%R\n",
        "\n",
        "dfnet <- mutate(df, Nlew = (sd + ld - ca) / aa)\n",
        "dfnet.nona <- na.omit(dfnet)\n",
        "dftn <- dfnet.nona[order(dfnet.nona$決算期,decreasing = FALSE),]"
      ],
      "metadata": {
        "id": "rFIVh27aLBdi"
      },
      "execution_count": 17,
      "outputs": []
    },
    {
      "cell_type": "code",
      "source": [
        "%%R\n",
        "\n",
        "df1975n <- dftn[dftn$決算期>1975 & dftn$決算期<1976, ]$Nlew\n",
        "df1976n <- dftn[dftn$決算期>1976 & dftn$決算期<1977, ]$Nlew\n",
        "df1977n <- dftn[dftn$決算期>1977 & dftn$決算期<1978, ]$Nlew\n",
        "df1978n <- dftn[dftn$決算期>1978 & dftn$決算期<1979, ]$Nlew\n",
        "df1979n <- dftn[dftn$決算期>1979 & dftn$決算期<1980, ]$Nlew\n",
        "df1980n <- dftn[dftn$決算期>1980 & dftn$決算期<1981, ]$Nlew\n",
        "df1981n <- dftn[dftn$決算期>1981 & dftn$決算期<1982, ]$Nlew\n",
        "df1982n <- dftn[dftn$決算期>1982 & dftn$決算期<1983, ]$Nlew\n",
        "df1983n <- dftn[dftn$決算期>1983 & dftn$決算期<1984, ]$Nlew\n",
        "df1984n <- dftn[dftn$決算期>1984 & dftn$決算期<1985, ]$Nlew\n",
        "df1985n <- dftn[dftn$決算期>1985 & dftn$決算期<1986, ]$Nlew\n",
        "df1986n <- dftn[dftn$決算期>1986 & dftn$決算期<1987, ]$Nlew\n",
        "df1987n <- dftn[dftn$決算期>1987 & dftn$決算期<1988, ]$Nlew\n",
        "df1988n <- dftn[dftn$決算期>1988 & dftn$決算期<1989, ]$Nlew\n",
        "df1989n <- dftn[dftn$決算期>1989 & dftn$決算期<1990, ]$Nlew\n",
        "df1990n <- dftn[dftn$決算期>1990 & dftn$決算期<1991, ]$Nlew\n",
        "df1991n <- dftn[dftn$決算期>1991 & dftn$決算期<1992, ]$Nlew\n",
        "df1992n <- dftn[dftn$決算期>1992 & dftn$決算期<1993, ]$Nlew\n",
        "df1993n <- dftn[dftn$決算期>1993 & dftn$決算期<1994, ]$Nlew\n",
        "df1994n <- dftn[dftn$決算期>1994 & dftn$決算期<1995, ]$Nlew\n",
        "df1995n <- dftn[dftn$決算期>1995 & dftn$決算期<1996, ]$Nlew\n",
        "df1996n <- dftn[dftn$決算期>1996 & dftn$決算期<1997, ]$Nlew\n",
        "df1997n <- dftn[dftn$決算期>1997 & dftn$決算期<1998, ]$Nlew\n",
        "df1998n <- dftn[dftn$決算期>1998 & dftn$決算期<1999, ]$Nlew\n",
        "df1999n <- dftn[dftn$決算期>1999 & dftn$決算期<2000, ]$Nlew\n",
        "df2000n <- dftn[dftn$決算期>2000 & dftn$決算期<2001, ]$Nlew\n",
        "df2001n <- dftn[dftn$決算期>2001 & dftn$決算期<2002, ]$Nlew\n",
        "df2002n <- dftn[dftn$決算期>2002 & dftn$決算期<2003, ]$Nlew\n",
        "df2003n <- dftn[dftn$決算期>2003 & dftn$決算期<2004, ]$Nlew\n",
        "df2004n <- dftn[dftn$決算期>2004 & dftn$決算期<2005, ]$Nlew\n",
        "df2005n <- dftn[dftn$決算期>2005 & dftn$決算期<2006, ]$Nlew\n",
        "df2006n <- dftn[dftn$決算期>2006 & dftn$決算期<2007, ]$Nlew\n",
        "df2007n <- dftn[dftn$決算期>2007 & dftn$決算期<2008, ]$Nlew\n",
        "df2008n <- dftn[dftn$決算期>2008 & dftn$決算期<2009, ]$Nlew\n",
        "df2009n <- dftn[dftn$決算期>2009 & dftn$決算期<2010, ]$Nlew\n",
        "df2010n <- dftn[dftn$決算期>2010 & dftn$決算期<2011, ]$Nlew\n",
        "df2011n <- dftn[dftn$決算期>2011 & dftn$決算期<2012, ]$Nlew\n",
        "df2012n <- dftn[dftn$決算期>2012 & dftn$決算期<2013, ]$Nlew\n",
        "df2013n <- dftn[dftn$決算期>2013 & dftn$決算期<2014, ]$Nlew\n",
        "df2014n <- dftn[dftn$決算期>2014 & dftn$決算期<2015, ]$Nlew\n",
        "df2015n <- dftn[dftn$決算期>2015 & dftn$決算期<2016, ]$Nlew\n",
        "df2016n <- dftn[dftn$決算期>2016 & dftn$決算期<2017, ]$Nlew\n",
        "df2017n <- dftn[dftn$決算期>2017 & dftn$決算期<2018, ]$Nlew\n",
        "df2018n <- dftn[dftn$決算期>2018 & dftn$決算期<2019, ]$Nlew\n",
        "df2019n <- dftn[dftn$決算期>2019 & dftn$決算期<2020, ]$Nlew\n",
        "df2020n <- dftn[dftn$決算期>2020 & dftn$決算期<2021, ]$Nlew\n",
        "df2021n <- dftn[dftn$決算期>2021 & dftn$決算期<2022, ]$Nlew"
      ],
      "metadata": {
        "id": "ziJFUG4CLj89"
      },
      "execution_count": 18,
      "outputs": []
    },
    {
      "cell_type": "code",
      "source": [
        "%%R\n",
        "\n",
        "n75 <- mean(df1975n)\n",
        "n76 <- mean(df1976n)\n",
        "n77 <- mean(df1977n)\n",
        "n78 <- mean(df1978n)\n",
        "n79 <- mean(df1979n)\n",
        "n80 <- mean(df1980n)\n",
        "n81 <- mean(df1981n)\n",
        "n82 <- mean(df1982n)\n",
        "n83 <- mean(df1983n)\n",
        "n84 <- mean(df1984n)\n",
        "n85 <- mean(df1985n)\n",
        "n86 <- mean(df1986n)\n",
        "n87 <- mean(df1987n)\n",
        "n88 <- mean(df1988n)\n",
        "n89 <- mean(df1989n)\n",
        "n90 <- mean(df1990n)\n",
        "n91 <- mean(df1991n)\n",
        "n92 <- mean(df1992n)\n",
        "n93 <- mean(df1993n)\n",
        "n94 <- mean(df1994n)\n",
        "n95 <- mean(df1995n)\n",
        "n96 <- mean(df1996n)\n",
        "n97 <- mean(df1997n)\n",
        "n98 <- mean(df1998n)\n",
        "n99 <- mean(df1999n)\n",
        "n00 <- mean(df2000n)\n",
        "n01 <- mean(df2001n)\n",
        "n02 <- mean(df2002n)\n",
        "n03 <- mean(df2003n)\n",
        "n04 <- mean(df2004n)\n",
        "n05 <- mean(df2005n)\n",
        "n06 <- mean(df2006n)\n",
        "n07 <- mean(df2007n)\n",
        "n08 <- mean(df2008n)\n",
        "n09 <- mean(df2009n)\n",
        "n10 <- mean(df2010n)\n",
        "n11 <- mean(df2011n)\n",
        "n12 <- mean(df2012n)\n",
        "n13 <- mean(df2013n)\n",
        "n14 <- mean(df2014n)\n",
        "n15 <- mean(df2015n)\n",
        "n16 <- mean(df2016n)\n",
        "n17 <- mean(df2017n)\n",
        "n18 <- mean(df2018n)\n",
        "n19 <- mean(df2019n)\n",
        "n20 <- mean(df2020n)\n",
        "n21 <- mean(df2021n)"
      ],
      "metadata": {
        "id": "cMR6ap3ANO2K"
      },
      "execution_count": 19,
      "outputs": []
    },
    {
      "cell_type": "code",
      "source": [
        "%%R\n",
        "\n",
        "year <- 1975:2021\n",
        "Net_levarage_ew <- c(n75,n76,n77,n78,n79,n80,n81,n82,n83,n84,n85,n86,n87,n88,n89,n90,n91,n92,n93,n94,n95,n96,n97,n98,n99,n00,n01,n02,n03,n04,n05,n06,n07,n08,n09,n10,n11,n12,n13,n14,n15,n16,n17,n18,n19,n20,n21)"
      ],
      "metadata": {
        "id": "3lxWTE5PNyd-"
      },
      "execution_count": 20,
      "outputs": []
    },
    {
      "cell_type": "code",
      "source": [
        "%%R\n",
        "\n",
        "plot(year,Book_levarage_ew,type = \"l\",col = 1,xlim = c(1975,2021),ylim = c(0,0.6),xlab = \"year\",ylab = \"Book levarage\") \n",
        "par(new = T)\n",
        "plot(year,Book_levarage_aw,type = \"l\", col = 2,xlim = c(1975,2021),ylim = c(0,0.6),ann = F) \n",
        "par(new = T)\n",
        "plot(year,Net_levarage_ew,type = \"l\", col = 3,xlim = c(1975,2021),ylim = c(0,0.6),ann = F) \n",
        "abline(h = 0.00, lty = 2, col = grey(0.7))\n",
        "abline(h = 0.05, lty = 2, col = grey(0.7))\n",
        "abline(h = 0.10, lty = 2, col = grey(0.7))\n",
        "abline(h = 0.15, lty = 2, col = grey(0.7))\n",
        "abline(h = 0.20, lty = 2, col = grey(0.7))\n",
        "abline(h = 0.25, lty = 2, col = grey(0.7))\n",
        "abline(h = 0.30, lty = 2, col = grey(0.7))\n",
        "abline(h = 0.35, lty = 2, col = grey(0.7))\n",
        "abline(h = 0.40, lty = 2, col = grey(0.7))\n",
        "abline(h = 0.45, lty = 2, col = grey(0.7))\n",
        "abline(h = 0.50, lty = 2, col = grey(0.7))\n",
        "legend(\"topleft\", legend=c(\"equally weighted book levarage\", \"asset weighted book levarage\",\"net levarage\"), lty = 1, col = 1:2:3)\n"
      ],
      "metadata": {
        "colab": {
          "base_uri": "https://localhost:8080/",
          "height": 497
        },
        "id": "qLOO0ox3NBuS",
        "outputId": "a55ea407-7ade-4171-f8ac-b2f49c0a1df1"
      },
      "execution_count": 21,
      "outputs": [
        {
          "output_type": "display_data",
          "data": {
            "image/png": "[encoded data removed]"
          },
          "metadata": {}
        }
      ]
    },
    {
      "cell_type": "markdown",
      "source": [
        "Equally weighted book levarage, Asset weighted book levarage はそれぞれ、（長期借入金・社債・転換社債＋短期借入金・社債合計）を資産合計で割ったものの加重平均，資産加重平均"
      ],
      "metadata": {
        "id": "odgSTrnTy_RJ"
      }
    },
    {
      "cell_type": "markdown",
      "source": [
        "Net levarage は、分子から 現金・預金／現金及び現金同等物 を引いたものの加重平均"
      ],
      "metadata": {
        "id": "drvb-rd2KO56"
      }
    }
  ]
}