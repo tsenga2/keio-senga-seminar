{
  "nbformat": 4,
  "nbformat_minor": 0,
  "metadata": {
    "colab": {
      "name": "figure5.ipynb",
      "provenance": [],
      "collapsed_sections": [
        "9xRZoxu5Rf6E",
        "TjBlSajL6MPx",
        "71KAmsf8sRoA",
        "0iudS5jzX6Ss",
        "LdpFflADJGVw",
        "F98xzEkTJ0rU",
        "SeX6PryS6HLn"
      ],
      "include_colab_link": true
    },
    "kernelspec": {
      "name": "python3",
      "display_name": "Python 3"
    },
    "language_info": {
      "name": "python"
    }
  },
  "cells": [
    {
      "cell_type": "markdown",
      "metadata": {
        "id": "view-in-github",
        "colab_type": "text"
      },
      "source": [
        "<a href=\"https://colab.research.google.com/github/tsenga2/keio-senga-seminar/blob/main/figure5.ipynb\" target=\"_parent\"><img src=\"https://colab.research.google.com/assets/colab-badge.svg\" alt=\"Open In Colab\"/></a>"
      ]
    },
    {
      "cell_type": "markdown",
      "metadata": {
        "id": "9xRZoxu5Rf6E"
      },
      "source": [
        "**データの準備**\n",
        "---"
      ]
    },
    {
      "cell_type": "markdown",
      "metadata": {
        "id": "fyldZ_6bRf6F"
      },
      "source": [
        "Google Drive のファイルを読み込む準備"
      ]
    },
    {
      "cell_type": "code",
      "metadata": {
        "id": "SC1NvcyCRf6F"
      },
      "source": [
        "!pip install -U -q PyDrive\n",
        "from pydrive.auth import GoogleAuth\n",
        "from pydrive.drive import GoogleDrive\n",
        "from google.colab import auth\n",
        "from oauth2client.client import GoogleCredentials\n",
        "\n",
        "auth.authenticate_user()\n",
        "gauth = GoogleAuth()\n",
        "gauth.credentials = GoogleCredentials.get_application_default()\n",
        "drive = GoogleDrive(gauth)"
      ],
      "execution_count": 154,
      "outputs": []
    },
    {
      "cell_type": "markdown",
      "metadata": {
        "id": "3TuJgs1URf6F"
      },
      "source": [
        "pandasで読み込む準備"
      ]
    },
    {
      "cell_type": "code",
      "metadata": {
        "id": "umpekAeCRf6F"
      },
      "source": [
        "import pandas as pd\n",
        "pd.set_option('display.max_columns', 100)"
      ],
      "execution_count": 155,
      "outputs": []
    },
    {
      "cell_type": "markdown",
      "metadata": {
        "id": "hPq8d8KoRf6H"
      },
      "source": [
        "ファイルをダウンロード"
      ]
    },
    {
      "cell_type": "code",
      "source": [
        "#fileDownloaded = drive.CreateFile({'id': '1cMuRB0GcrqZJgP9q1DBY6TZ52W4pjyS-'})\n",
        "fileDownloaded = drive.CreateFile({'id': '1dDIkc9xJRiSgyj9qq61r89v8hHGVlaLy'})\n",
        "fileDownloaded.GetContentFile('NikkeiNeeds.csv')"
      ],
      "metadata": {
        "id": "PwjMx2HmRlQx"
      },
      "execution_count": 156,
      "outputs": []
    },
    {
      "cell_type": "markdown",
      "source": [
        "# データの整理"
      ],
      "metadata": {
        "id": "TjBlSajL6MPx"
      }
    },
    {
      "cell_type": "markdown",
      "metadata": {
        "id": "2JzQ33-qRf6H"
      },
      "source": [
        "pandasで読み込み"
      ]
    },
    {
      "cell_type": "code",
      "metadata": {
        "id": "V3vhOyFxRf6H"
      },
      "source": [
        "df = pd.read_csv('NikkeiNeeds.csv', encoding = \"cp932\")"
      ],
      "execution_count": 157,
      "outputs": []
    },
    {
      "cell_type": "code",
      "source": [
        "df.info()"
      ],
      "metadata": {
        "colab": {
          "base_uri": "https://localhost:8080/"
        },
        "id": "8bMYxYzAIyn2",
        "outputId": "767898a9-25d1-47b6-ae2c-d9947b708a85"
      },
      "execution_count": 158,
      "outputs": [
        {
          "output_type": "stream",
          "name": "stdout",
          "text": [
            "<class 'pandas.core.frame.DataFrame'>\n",
            "RangeIndex: 41560 entries, 0 to 41559\n",
            "Data columns (total 12 columns):\n",
            " #   Column                                                         Non-Null Count  Dtype  \n",
            "---  ------                                                         --------------  -----  \n",
            " 0   日経会社コード                                                        41560 non-null  int64  \n",
            " 1   企業名称                                                           41560 non-null  object \n",
            " 2   株式コード                                                          41560 non-null  int64  \n",
            " 3   決算期                                                            41560 non-null  object \n",
            " 4   決算種別                                                           41560 non-null  int64  \n",
            " 5   連結基準                                                           41560 non-null  int64  \n",
            " 6   <貸借対照表（資産）>資産合計(百万円)[B110]                                     41551 non-null  float64\n",
            " 7   <損益計算書（期首からの累計期間）>親会社株主に帰属する当期純利益（連結）／当期利益（単独）［累計］(百万円)[D110]  41553 non-null  float64\n",
            " 8   <【更新中止】利益処分計算書（単独）>普通株式配当金(百万円)[L015]                          0 non-null      float64\n",
            " 9   <株主資本等変動計算書>【純資産合計／資本】剰余金の配当(百万円)[G130]                        15972 non-null  float64\n",
            " 10  <株主資本等変動計算書>【純資産合計／資本】自己株式の取得(百万円)[G132]                       10203 non-null  float64\n",
            " 11  <基本項目>配当性向［累計］(％)[A065]                                        13209 non-null  float64\n",
            "dtypes: float64(6), int64(4), object(2)\n",
            "memory usage: 3.8+ MB\n"
          ]
        }
      ]
    },
    {
      "cell_type": "markdown",
      "metadata": {
        "id": "H-M21RoGCtwO"
      },
      "source": [
        "名前の変更"
      ]
    },
    {
      "cell_type": "code",
      "metadata": {
        "id": "y8mpquiKB5Pe"
      },
      "source": [
        "df = df.rename(columns={'日経会社コード':'gvkey'})\n",
        "df = df.rename(columns={'株式コード':'sc'})\n",
        "df = df.rename(columns={'決算期':'fy'})\n",
        "df = df.rename(columns={'<【更新中止】利益処分計算書（単独）>普通株式配当金(百万円)[L015]':'asdvc'})\n",
        "df = df.rename(columns={'<貸借対照表（資産）>資産合計(百万円)[B110]':'ta'})\n",
        "df = df.rename(columns={'<損益計算書（期首からの累計期間）>親会社株主に帰属する当期純利益（連結）／当期利益（単独）［累計］(百万円)[D110]':'ni'})"
      ],
      "execution_count": 159,
      "outputs": []
    },
    {
      "cell_type": "markdown",
      "source": [
        "必要な列を抽出"
      ],
      "metadata": {
        "id": "sIswNbfQGfoN"
      }
    },
    {
      "cell_type": "code",
      "source": [
        "df = df[['gvkey', 'sc', 'fy', 'asdvc', 'ta', 'ni']]"
      ],
      "metadata": {
        "id": "kq5SK2ZLGHJx"
      },
      "execution_count": 160,
      "outputs": []
    },
    {
      "cell_type": "markdown",
      "source": [
        "NaNを含む行を削除 <--- row or column?"
      ],
      "metadata": {
        "id": "YJWRbDJJHhHZ"
      }
    },
    {
      "cell_type": "code",
      "source": [
        "#df = df.dropna()"
      ],
      "metadata": {
        "id": "KbccsHhlHdLq"
      },
      "execution_count": 161,
      "outputs": []
    },
    {
      "cell_type": "markdown",
      "source": [
        ""
      ],
      "metadata": {
        "id": "fT5X5fuGjY7I"
      }
    },
    {
      "cell_type": "markdown",
      "metadata": {
        "id": "K-FEh71qFrIO"
      },
      "source": [
        "fy列の最後の2文字を取り出して西暦に直し、indexにする。"
      ]
    },
    {
      "cell_type": "code",
      "metadata": {
        "id": "X_N1_N8B-Qcz"
      },
      "source": [
        "df['fy'] = df['fy'].str[-2:]\n",
        "df['fy'] = df['fy'].astype(int)"
      ],
      "execution_count": 162,
      "outputs": []
    },
    {
      "cell_type": "code",
      "source": [
        "for i in range(len(df)):\n",
        "   if df.loc[i,'fy'] >= 75 :\n",
        "     df.loc[i,'fy'] = 1900 + df.loc[i,'fy']\n",
        "   else : df.loc[i,'fy'] = 2000 + df.loc[i,'fy']"
      ],
      "metadata": {
        "id": "JoVb5NssgcKF"
      },
      "execution_count": 163,
      "outputs": []
    },
    {
      "cell_type": "code",
      "source": [
        "df = df.set_index('fy')"
      ],
      "metadata": {
        "id": "sOu3SpjTmbRS"
      },
      "execution_count": 164,
      "outputs": []
    },
    {
      "cell_type": "markdown",
      "source": [
        "グラフ項目の計算"
      ],
      "metadata": {
        "id": "e349QUEDFpZv"
      }
    },
    {
      "cell_type": "code",
      "source": [
        "df['asdvc/ni'] = df['asdvc']/df['ni']\n",
        "df['asdvc/ta'] = df['asdvc']/df['ta']"
      ],
      "metadata": {
        "id": "f6YRuxRBFvIu"
      },
      "execution_count": 165,
      "outputs": []
    },
    {
      "cell_type": "markdown",
      "source": [
        "# データの確認"
      ],
      "metadata": {
        "id": "71KAmsf8sRoA"
      }
    },
    {
      "cell_type": "code",
      "source": [
        "df.head()"
      ],
      "metadata": {
        "id": "Sw_JTx-hsJ2Q",
        "colab": {
          "base_uri": "https://localhost:8080/",
          "height": 238
        },
        "outputId": "8f9d0f21-8e48-45ac-dace-c548d23e5f54"
      },
      "execution_count": 166,
      "outputs": [
        {
          "output_type": "execute_result",
          "data": {
            "text/plain": [
              "      gvkey    sc  asdvc       ta      ni  asdvc/ni  asdvc/ta\n",
              "fy                                                           \n",
              "2001      5  9999    NaN  48088.0   558.0       NaN       NaN\n",
              "2001      5  9999    NaN  48518.0  1255.0       NaN       NaN\n",
              "2001      5  9999    NaN  49672.0  1666.0       NaN       NaN\n",
              "2001      5  9999    NaN  54919.0   277.0       NaN       NaN\n",
              "2009      5  9999    NaN  55581.0   151.0       NaN       NaN"
            ],
            "text/html": [
              "\n",
              "  <div id=\"df-ed7bc22c-0177-42d0-a3cf-686b960707a1\">\n",
              "    <div class=\"colab-df-container\">\n",
              "      <div>\n",
              "<style scoped>\n",
              "    .dataframe tbody tr th:only-of-type {\n",
              "        vertical-align: middle;\n",
              "    }\n",
              "\n",
              "    .dataframe tbody tr th {\n",
              "        vertical-align: top;\n",
              "    }\n",
              "\n",
              "    .dataframe thead th {\n",
              "        text-align: right;\n",
              "    }\n",
              "</style>\n",
              "<table border=\"1\" class=\"dataframe\">\n",
              "  <thead>\n",
              "    <tr style=\"text-align: right;\">\n",
              "      <th></th>\n",
              "      <th>gvkey</th>\n",
              "      <th>sc</th>\n",
              "      <th>asdvc</th>\n",
              "      <th>ta</th>\n",
              "      <th>ni</th>\n",
              "      <th>asdvc/ni</th>\n",
              "      <th>asdvc/ta</th>\n",
              "    </tr>\n",
              "    <tr>\n",
              "      <th>fy</th>\n",
              "      <th></th>\n",
              "      <th></th>\n",
              "      <th></th>\n",
              "      <th></th>\n",
              "      <th></th>\n",
              "      <th></th>\n",
              "      <th></th>\n",
              "    </tr>\n",
              "  </thead>\n",
              "  <tbody>\n",
              "    <tr>\n",
              "      <th>2001</th>\n",
              "      <td>5</td>\n",
              "      <td>9999</td>\n",
              "      <td>NaN</td>\n",
              "      <td>48088.0</td>\n",
              "      <td>558.0</td>\n",
              "      <td>NaN</td>\n",
              "      <td>NaN</td>\n",
              "    </tr>\n",
              "    <tr>\n",
              "      <th>2001</th>\n",
              "      <td>5</td>\n",
              "      <td>9999</td>\n",
              "      <td>NaN</td>\n",
              "      <td>48518.0</td>\n",
              "      <td>1255.0</td>\n",
              "      <td>NaN</td>\n",
              "      <td>NaN</td>\n",
              "    </tr>\n",
              "    <tr>\n",
              "      <th>2001</th>\n",
              "      <td>5</td>\n",
              "      <td>9999</td>\n",
              "      <td>NaN</td>\n",
              "      <td>49672.0</td>\n",
              "      <td>1666.0</td>\n",
              "      <td>NaN</td>\n",
              "      <td>NaN</td>\n",
              "    </tr>\n",
              "    <tr>\n",
              "      <th>2001</th>\n",
              "      <td>5</td>\n",
              "      <td>9999</td>\n",
              "      <td>NaN</td>\n",
              "      <td>54919.0</td>\n",
              "      <td>277.0</td>\n",
              "      <td>NaN</td>\n",
              "      <td>NaN</td>\n",
              "    </tr>\n",
              "    <tr>\n",
              "      <th>2009</th>\n",
              "      <td>5</td>\n",
              "      <td>9999</td>\n",
              "      <td>NaN</td>\n",
              "      <td>55581.0</td>\n",
              "      <td>151.0</td>\n",
              "      <td>NaN</td>\n",
              "      <td>NaN</td>\n",
              "    </tr>\n",
              "  </tbody>\n",
              "</table>\n",
              "</div>\n",
              "      <button class=\"colab-df-convert\" onclick=\"convertToInteractive('df-ed7bc22c-0177-42d0-a3cf-686b960707a1')\"\n",
              "              title=\"Convert this dataframe to an interactive table.\"\n",
              "              style=\"display:none;\">\n",
              "        \n",
              "  <svg xmlns=\"http://www.w3.org/2000/svg\" height=\"24px\"viewBox=\"0 0 24 24\"\n",
              "       width=\"24px\">\n",
              "    <path d=\"M0 0h24v24H0V0z\" fill=\"none\"/>\n",
              "    <path d=\"M18.56 5.44l.94 2.06.94-2.06 2.06-.94-2.06-.94-.94-2.06-.94 2.06-2.06.94zm-11 1L8.5 8.5l.94-2.06 2.06-.94-2.06-.94L8.5 2.5l-.94 2.06-2.06.94zm10 10l.94 2.06.94-2.06 2.06-.94-2.06-.94-.94-2.06-.94 2.06-2.06.94z\"/><path d=\"M17.41 7.96l-1.37-1.37c-.4-.4-.92-.59-1.43-.59-.52 0-1.04.2-1.43.59L10.3 9.45l-7.72 7.72c-.78.78-.78 2.05 0 2.83L4 21.41c.39.39.9.59 1.41.59.51 0 1.02-.2 1.41-.59l7.78-7.78 2.81-2.81c.8-.78.8-2.07 0-2.86zM5.41 20L4 18.59l7.72-7.72 1.47 1.35L5.41 20z\"/>\n",
              "  </svg>\n",
              "      </button>\n",
              "      \n",
              "  <style>\n",
              "    .colab-df-container {\n",
              "      display:flex;\n",
              "      flex-wrap:wrap;\n",
              "      gap: 12px;\n",
              "    }\n",
              "\n",
              "    .colab-df-convert {\n",
              "      background-color: #E8F0FE;\n",
              "      border: none;\n",
              "      border-radius: 50%;\n",
              "      cursor: pointer;\n",
              "      display: none;\n",
              "      fill: #1967D2;\n",
              "      height: 32px;\n",
              "      padding: 0 0 0 0;\n",
              "      width: 32px;\n",
              "    }\n",
              "\n",
              "    .colab-df-convert:hover {\n",
              "      background-color: #E2EBFA;\n",
              "      box-shadow: 0px 1px 2px rgba(60, 64, 67, 0.3), 0px 1px 3px 1px rgba(60, 64, 67, 0.15);\n",
              "      fill: #174EA6;\n",
              "    }\n",
              "\n",
              "    [theme=dark] .colab-df-convert {\n",
              "      background-color: #3B4455;\n",
              "      fill: #D2E3FC;\n",
              "    }\n",
              "\n",
              "    [theme=dark] .colab-df-convert:hover {\n",
              "      background-color: #434B5C;\n",
              "      box-shadow: 0px 1px 3px 1px rgba(0, 0, 0, 0.15);\n",
              "      filter: drop-shadow(0px 1px 2px rgba(0, 0, 0, 0.3));\n",
              "      fill: #FFFFFF;\n",
              "    }\n",
              "  </style>\n",
              "\n",
              "      <script>\n",
              "        const buttonEl =\n",
              "          document.querySelector('#df-ed7bc22c-0177-42d0-a3cf-686b960707a1 button.colab-df-convert');\n",
              "        buttonEl.style.display =\n",
              "          google.colab.kernel.accessAllowed ? 'block' : 'none';\n",
              "\n",
              "        async function convertToInteractive(key) {\n",
              "          const element = document.querySelector('#df-ed7bc22c-0177-42d0-a3cf-686b960707a1');\n",
              "          const dataTable =\n",
              "            await google.colab.kernel.invokeFunction('convertToInteractive',\n",
              "                                                     [key], {});\n",
              "          if (!dataTable) return;\n",
              "\n",
              "          const docLinkHtml = 'Like what you see? Visit the ' +\n",
              "            '<a target=\"_blank\" href=https://colab.research.google.com/notebooks/data_table.ipynb>data table notebook</a>'\n",
              "            + ' to learn more about interactive tables.';\n",
              "          element.innerHTML = '';\n",
              "          dataTable['output_type'] = 'display_data';\n",
              "          await google.colab.output.renderOutput(dataTable, element);\n",
              "          const docLink = document.createElement('div');\n",
              "          docLink.innerHTML = docLinkHtml;\n",
              "          element.appendChild(docLink);\n",
              "        }\n",
              "      </script>\n",
              "    </div>\n",
              "  </div>\n",
              "  "
            ]
          },
          "metadata": {},
          "execution_count": 166
        }
      ]
    },
    {
      "cell_type": "code",
      "source": [
        "df.describe()"
      ],
      "metadata": {
        "id": "b4noGV3xsMN8",
        "colab": {
          "base_uri": "https://localhost:8080/",
          "height": 300
        },
        "outputId": "e72535c8-d75b-4ce0-c37f-1d5c04d09a4b"
      },
      "execution_count": 167,
      "outputs": [
        {
          "output_type": "execute_result",
          "data": {
            "text/plain": [
              "              gvkey            sc  asdvc            ta            ni  \\\n",
              "count  41560.000000  41560.000000    0.0  4.155100e+04  4.155300e+04   \n",
              "mean    7237.914942   6567.638065    NaN  2.979571e+05  6.997127e+03   \n",
              "std    11518.535081   2245.824588    NaN  1.277760e+06  4.929711e+04   \n",
              "min        5.000000   1909.000000    NaN  1.490000e+02 -9.656630e+05   \n",
              "25%      701.000000   4987.000000    NaN  2.493000e+04  1.990000e+02   \n",
              "50%     1211.000000   6472.000000    NaN  5.736800e+04  1.038000e+03   \n",
              "75%    12065.000000   7898.000000    NaN  1.737950e+05  3.870000e+03   \n",
              "max    91226.000000   9999.000000    NaN  6.226714e+07  2.493983e+06   \n",
              "\n",
              "       asdvc/ni  asdvc/ta  \n",
              "count       0.0       0.0  \n",
              "mean        NaN       NaN  \n",
              "std         NaN       NaN  \n",
              "min         NaN       NaN  \n",
              "25%         NaN       NaN  \n",
              "50%         NaN       NaN  \n",
              "75%         NaN       NaN  \n",
              "max         NaN       NaN  "
            ],
            "text/html": [
              "\n",
              "  <div id=\"df-9bc7c20d-fcf5-4369-8216-410e1a79d249\">\n",
              "    <div class=\"colab-df-container\">\n",
              "      <div>\n",
              "<style scoped>\n",
              "    .dataframe tbody tr th:only-of-type {\n",
              "        vertical-align: middle;\n",
              "    }\n",
              "\n",
              "    .dataframe tbody tr th {\n",
              "        vertical-align: top;\n",
              "    }\n",
              "\n",
              "    .dataframe thead th {\n",
              "        text-align: right;\n",
              "    }\n",
              "</style>\n",
              "<table border=\"1\" class=\"dataframe\">\n",
              "  <thead>\n",
              "    <tr style=\"text-align: right;\">\n",
              "      <th></th>\n",
              "      <th>gvkey</th>\n",
              "      <th>sc</th>\n",
              "      <th>asdvc</th>\n",
              "      <th>ta</th>\n",
              "      <th>ni</th>\n",
              "      <th>asdvc/ni</th>\n",
              "      <th>asdvc/ta</th>\n",
              "    </tr>\n",
              "  </thead>\n",
              "  <tbody>\n",
              "    <tr>\n",
              "      <th>count</th>\n",
              "      <td>41560.000000</td>\n",
              "      <td>41560.000000</td>\n",
              "      <td>0.0</td>\n",
              "      <td>4.155100e+04</td>\n",
              "      <td>4.155300e+04</td>\n",
              "      <td>0.0</td>\n",
              "      <td>0.0</td>\n",
              "    </tr>\n",
              "    <tr>\n",
              "      <th>mean</th>\n",
              "      <td>7237.914942</td>\n",
              "      <td>6567.638065</td>\n",
              "      <td>NaN</td>\n",
              "      <td>2.979571e+05</td>\n",
              "      <td>6.997127e+03</td>\n",
              "      <td>NaN</td>\n",
              "      <td>NaN</td>\n",
              "    </tr>\n",
              "    <tr>\n",
              "      <th>std</th>\n",
              "      <td>11518.535081</td>\n",
              "      <td>2245.824588</td>\n",
              "      <td>NaN</td>\n",
              "      <td>1.277760e+06</td>\n",
              "      <td>4.929711e+04</td>\n",
              "      <td>NaN</td>\n",
              "      <td>NaN</td>\n",
              "    </tr>\n",
              "    <tr>\n",
              "      <th>min</th>\n",
              "      <td>5.000000</td>\n",
              "      <td>1909.000000</td>\n",
              "      <td>NaN</td>\n",
              "      <td>1.490000e+02</td>\n",
              "      <td>-9.656630e+05</td>\n",
              "      <td>NaN</td>\n",
              "      <td>NaN</td>\n",
              "    </tr>\n",
              "    <tr>\n",
              "      <th>25%</th>\n",
              "      <td>701.000000</td>\n",
              "      <td>4987.000000</td>\n",
              "      <td>NaN</td>\n",
              "      <td>2.493000e+04</td>\n",
              "      <td>1.990000e+02</td>\n",
              "      <td>NaN</td>\n",
              "      <td>NaN</td>\n",
              "    </tr>\n",
              "    <tr>\n",
              "      <th>50%</th>\n",
              "      <td>1211.000000</td>\n",
              "      <td>6472.000000</td>\n",
              "      <td>NaN</td>\n",
              "      <td>5.736800e+04</td>\n",
              "      <td>1.038000e+03</td>\n",
              "      <td>NaN</td>\n",
              "      <td>NaN</td>\n",
              "    </tr>\n",
              "    <tr>\n",
              "      <th>75%</th>\n",
              "      <td>12065.000000</td>\n",
              "      <td>7898.000000</td>\n",
              "      <td>NaN</td>\n",
              "      <td>1.737950e+05</td>\n",
              "      <td>3.870000e+03</td>\n",
              "      <td>NaN</td>\n",
              "      <td>NaN</td>\n",
              "    </tr>\n",
              "    <tr>\n",
              "      <th>max</th>\n",
              "      <td>91226.000000</td>\n",
              "      <td>9999.000000</td>\n",
              "      <td>NaN</td>\n",
              "      <td>6.226714e+07</td>\n",
              "      <td>2.493983e+06</td>\n",
              "      <td>NaN</td>\n",
              "      <td>NaN</td>\n",
              "    </tr>\n",
              "  </tbody>\n",
              "</table>\n",
              "</div>\n",
              "      <button class=\"colab-df-convert\" onclick=\"convertToInteractive('df-9bc7c20d-fcf5-4369-8216-410e1a79d249')\"\n",
              "              title=\"Convert this dataframe to an interactive table.\"\n",
              "              style=\"display:none;\">\n",
              "        \n",
              "  <svg xmlns=\"http://www.w3.org/2000/svg\" height=\"24px\"viewBox=\"0 0 24 24\"\n",
              "       width=\"24px\">\n",
              "    <path d=\"M0 0h24v24H0V0z\" fill=\"none\"/>\n",
              "    <path d=\"M18.56 5.44l.94 2.06.94-2.06 2.06-.94-2.06-.94-.94-2.06-.94 2.06-2.06.94zm-11 1L8.5 8.5l.94-2.06 2.06-.94-2.06-.94L8.5 2.5l-.94 2.06-2.06.94zm10 10l.94 2.06.94-2.06 2.06-.94-2.06-.94-.94-2.06-.94 2.06-2.06.94z\"/><path d=\"M17.41 7.96l-1.37-1.37c-.4-.4-.92-.59-1.43-.59-.52 0-1.04.2-1.43.59L10.3 9.45l-7.72 7.72c-.78.78-.78 2.05 0 2.83L4 21.41c.39.39.9.59 1.41.59.51 0 1.02-.2 1.41-.59l7.78-7.78 2.81-2.81c.8-.78.8-2.07 0-2.86zM5.41 20L4 18.59l7.72-7.72 1.47 1.35L5.41 20z\"/>\n",
              "  </svg>\n",
              "      </button>\n",
              "      \n",
              "  <style>\n",
              "    .colab-df-container {\n",
              "      display:flex;\n",
              "      flex-wrap:wrap;\n",
              "      gap: 12px;\n",
              "    }\n",
              "\n",
              "    .colab-df-convert {\n",
              "      background-color: #E8F0FE;\n",
              "      border: none;\n",
              "      border-radius: 50%;\n",
              "      cursor: pointer;\n",
              "      display: none;\n",
              "      fill: #1967D2;\n",
              "      height: 32px;\n",
              "      padding: 0 0 0 0;\n",
              "      width: 32px;\n",
              "    }\n",
              "\n",
              "    .colab-df-convert:hover {\n",
              "      background-color: #E2EBFA;\n",
              "      box-shadow: 0px 1px 2px rgba(60, 64, 67, 0.3), 0px 1px 3px 1px rgba(60, 64, 67, 0.15);\n",
              "      fill: #174EA6;\n",
              "    }\n",
              "\n",
              "    [theme=dark] .colab-df-convert {\n",
              "      background-color: #3B4455;\n",
              "      fill: #D2E3FC;\n",
              "    }\n",
              "\n",
              "    [theme=dark] .colab-df-convert:hover {\n",
              "      background-color: #434B5C;\n",
              "      box-shadow: 0px 1px 3px 1px rgba(0, 0, 0, 0.15);\n",
              "      filter: drop-shadow(0px 1px 2px rgba(0, 0, 0, 0.3));\n",
              "      fill: #FFFFFF;\n",
              "    }\n",
              "  </style>\n",
              "\n",
              "      <script>\n",
              "        const buttonEl =\n",
              "          document.querySelector('#df-9bc7c20d-fcf5-4369-8216-410e1a79d249 button.colab-df-convert');\n",
              "        buttonEl.style.display =\n",
              "          google.colab.kernel.accessAllowed ? 'block' : 'none';\n",
              "\n",
              "        async function convertToInteractive(key) {\n",
              "          const element = document.querySelector('#df-9bc7c20d-fcf5-4369-8216-410e1a79d249');\n",
              "          const dataTable =\n",
              "            await google.colab.kernel.invokeFunction('convertToInteractive',\n",
              "                                                     [key], {});\n",
              "          if (!dataTable) return;\n",
              "\n",
              "          const docLinkHtml = 'Like what you see? Visit the ' +\n",
              "            '<a target=\"_blank\" href=https://colab.research.google.com/notebooks/data_table.ipynb>data table notebook</a>'\n",
              "            + ' to learn more about interactive tables.';\n",
              "          element.innerHTML = '';\n",
              "          dataTable['output_type'] = 'display_data';\n",
              "          await google.colab.output.renderOutput(dataTable, element);\n",
              "          const docLink = document.createElement('div');\n",
              "          docLink.innerHTML = docLinkHtml;\n",
              "          element.appendChild(docLink);\n",
              "        }\n",
              "      </script>\n",
              "    </div>\n",
              "  </div>\n",
              "  "
            ]
          },
          "metadata": {},
          "execution_count": 167
        }
      ]
    },
    {
      "cell_type": "markdown",
      "source": [
        "asdvcの値はミニマムでも正になっており、無配当のデータはない。"
      ],
      "metadata": {
        "id": "MTqveqNJAa6m"
      }
    },
    {
      "cell_type": "markdown",
      "metadata": {
        "id": "0iudS5jzX6Ss"
      },
      "source": [
        "# グラフ作成準備"
      ]
    },
    {
      "cell_type": "markdown",
      "source": [
        "グラフ作成ライブラリを読み込む"
      ],
      "metadata": {
        "id": "10a6AjZ8tSVQ"
      }
    },
    {
      "cell_type": "code",
      "source": [
        "import warnings\n",
        "warnings.simplefilter('ignore')\n",
        "import matplotlib.pyplot as plt\n",
        "%matplotlib inline"
      ],
      "metadata": {
        "id": "B5MG8_rbtR-H"
      },
      "execution_count": 181,
      "outputs": []
    },
    {
      "cell_type": "markdown",
      "source": [
        "使用可能なグラフスタイルを一覧表示"
      ],
      "metadata": {
        "id": "wJLPSkC9vJNY"
      }
    },
    {
      "cell_type": "code",
      "source": [
        "plt.style.available"
      ],
      "metadata": {
        "id": "HMEPKpV9m2FR",
        "colab": {
          "base_uri": "https://localhost:8080/"
        },
        "outputId": "d7b4e12d-fde7-427e-893d-8efa9a07b098"
      },
      "execution_count": 182,
      "outputs": [
        {
          "output_type": "execute_result",
          "data": {
            "text/plain": [
              "['Solarize_Light2',\n",
              " '_classic_test_patch',\n",
              " 'bmh',\n",
              " 'classic',\n",
              " 'dark_background',\n",
              " 'fast',\n",
              " 'fivethirtyeight',\n",
              " 'ggplot',\n",
              " 'grayscale',\n",
              " 'seaborn',\n",
              " 'seaborn-bright',\n",
              " 'seaborn-colorblind',\n",
              " 'seaborn-dark',\n",
              " 'seaborn-dark-palette',\n",
              " 'seaborn-darkgrid',\n",
              " 'seaborn-deep',\n",
              " 'seaborn-muted',\n",
              " 'seaborn-notebook',\n",
              " 'seaborn-paper',\n",
              " 'seaborn-pastel',\n",
              " 'seaborn-poster',\n",
              " 'seaborn-talk',\n",
              " 'seaborn-ticks',\n",
              " 'seaborn-white',\n",
              " 'seaborn-whitegrid',\n",
              " 'tableau-colorblind10']"
            ]
          },
          "metadata": {},
          "execution_count": 182
        }
      ]
    },
    {
      "cell_type": "markdown",
      "source": [
        "グラフスタイルを選択"
      ],
      "metadata": {
        "id": "CewA1OQyvP9j"
      }
    },
    {
      "cell_type": "code",
      "source": [
        "plt.style.use('ggplot')"
      ],
      "metadata": {
        "id": "u_FNopAfuqL1"
      },
      "execution_count": 183,
      "outputs": []
    },
    {
      "cell_type": "markdown",
      "source": [
        "# Eually Weighted Average\n"
      ],
      "metadata": {
        "id": "LdpFflADJGVw"
      }
    },
    {
      "cell_type": "markdown",
      "source": [
        "各年ごとの平均データを作成"
      ],
      "metadata": {
        "id": "VgsLapAoE-X5"
      }
    },
    {
      "cell_type": "code",
      "source": [
        "dfe = df[['asdvc/ni', 'asdvc/ta']].mean(level=0)\n",
        "dfe"
      ],
      "metadata": {
        "id": "vzo5qQbmHh6Z",
        "colab": {
          "base_uri": "https://localhost:8080/",
          "height": 0
        },
        "outputId": "c1eefd12-469e-4d27-9dfb-4d1a16b22eea"
      },
      "execution_count": 184,
      "outputs": [
        {
          "output_type": "execute_result",
          "data": {
            "text/plain": [
              "      asdvc/ni  asdvc/ta\n",
              "fy                      \n",
              "2001       NaN       NaN\n",
              "2009       NaN       NaN\n",
              "2003       NaN       NaN\n",
              "2005       NaN       NaN\n",
              "2011       NaN       NaN\n",
              "2012       NaN       NaN\n",
              "2007       NaN       NaN\n",
              "2002       NaN       NaN\n",
              "2008       NaN       NaN\n",
              "2010       NaN       NaN\n",
              "2004       NaN       NaN\n",
              "2006       NaN       NaN"
            ],
            "text/html": [
              "\n",
              "  <div id=\"df-b04dd7fe-fa3b-4ce5-9927-3b7dd484c360\">\n",
              "    <div class=\"colab-df-container\">\n",
              "      <div>\n",
              "<style scoped>\n",
              "    .dataframe tbody tr th:only-of-type {\n",
              "        vertical-align: middle;\n",
              "    }\n",
              "\n",
              "    .dataframe tbody tr th {\n",
              "        vertical-align: top;\n",
              "    }\n",
              "\n",
              "    .dataframe thead th {\n",
              "        text-align: right;\n",
              "    }\n",
              "</style>\n",
              "<table border=\"1\" class=\"dataframe\">\n",
              "  <thead>\n",
              "    <tr style=\"text-align: right;\">\n",
              "      <th></th>\n",
              "      <th>asdvc/ni</th>\n",
              "      <th>asdvc/ta</th>\n",
              "    </tr>\n",
              "    <tr>\n",
              "      <th>fy</th>\n",
              "      <th></th>\n",
              "      <th></th>\n",
              "    </tr>\n",
              "  </thead>\n",
              "  <tbody>\n",
              "    <tr>\n",
              "      <th>2001</th>\n",
              "      <td>NaN</td>\n",
              "      <td>NaN</td>\n",
              "    </tr>\n",
              "    <tr>\n",
              "      <th>2009</th>\n",
              "      <td>NaN</td>\n",
              "      <td>NaN</td>\n",
              "    </tr>\n",
              "    <tr>\n",
              "      <th>2003</th>\n",
              "      <td>NaN</td>\n",
              "      <td>NaN</td>\n",
              "    </tr>\n",
              "    <tr>\n",
              "      <th>2005</th>\n",
              "      <td>NaN</td>\n",
              "      <td>NaN</td>\n",
              "    </tr>\n",
              "    <tr>\n",
              "      <th>2011</th>\n",
              "      <td>NaN</td>\n",
              "      <td>NaN</td>\n",
              "    </tr>\n",
              "    <tr>\n",
              "      <th>2012</th>\n",
              "      <td>NaN</td>\n",
              "      <td>NaN</td>\n",
              "    </tr>\n",
              "    <tr>\n",
              "      <th>2007</th>\n",
              "      <td>NaN</td>\n",
              "      <td>NaN</td>\n",
              "    </tr>\n",
              "    <tr>\n",
              "      <th>2002</th>\n",
              "      <td>NaN</td>\n",
              "      <td>NaN</td>\n",
              "    </tr>\n",
              "    <tr>\n",
              "      <th>2008</th>\n",
              "      <td>NaN</td>\n",
              "      <td>NaN</td>\n",
              "    </tr>\n",
              "    <tr>\n",
              "      <th>2010</th>\n",
              "      <td>NaN</td>\n",
              "      <td>NaN</td>\n",
              "    </tr>\n",
              "    <tr>\n",
              "      <th>2004</th>\n",
              "      <td>NaN</td>\n",
              "      <td>NaN</td>\n",
              "    </tr>\n",
              "    <tr>\n",
              "      <th>2006</th>\n",
              "      <td>NaN</td>\n",
              "      <td>NaN</td>\n",
              "    </tr>\n",
              "  </tbody>\n",
              "</table>\n",
              "</div>\n",
              "      <button class=\"colab-df-convert\" onclick=\"convertToInteractive('df-b04dd7fe-fa3b-4ce5-9927-3b7dd484c360')\"\n",
              "              title=\"Convert this dataframe to an interactive table.\"\n",
              "              style=\"display:none;\">\n",
              "        \n",
              "  <svg xmlns=\"http://www.w3.org/2000/svg\" height=\"24px\"viewBox=\"0 0 24 24\"\n",
              "       width=\"24px\">\n",
              "    <path d=\"M0 0h24v24H0V0z\" fill=\"none\"/>\n",
              "    <path d=\"M18.56 5.44l.94 2.06.94-2.06 2.06-.94-2.06-.94-.94-2.06-.94 2.06-2.06.94zm-11 1L8.5 8.5l.94-2.06 2.06-.94-2.06-.94L8.5 2.5l-.94 2.06-2.06.94zm10 10l.94 2.06.94-2.06 2.06-.94-2.06-.94-.94-2.06-.94 2.06-2.06.94z\"/><path d=\"M17.41 7.96l-1.37-1.37c-.4-.4-.92-.59-1.43-.59-.52 0-1.04.2-1.43.59L10.3 9.45l-7.72 7.72c-.78.78-.78 2.05 0 2.83L4 21.41c.39.39.9.59 1.41.59.51 0 1.02-.2 1.41-.59l7.78-7.78 2.81-2.81c.8-.78.8-2.07 0-2.86zM5.41 20L4 18.59l7.72-7.72 1.47 1.35L5.41 20z\"/>\n",
              "  </svg>\n",
              "      </button>\n",
              "      \n",
              "  <style>\n",
              "    .colab-df-container {\n",
              "      display:flex;\n",
              "      flex-wrap:wrap;\n",
              "      gap: 12px;\n",
              "    }\n",
              "\n",
              "    .colab-df-convert {\n",
              "      background-color: #E8F0FE;\n",
              "      border: none;\n",
              "      border-radius: 50%;\n",
              "      cursor: pointer;\n",
              "      display: none;\n",
              "      fill: #1967D2;\n",
              "      height: 32px;\n",
              "      padding: 0 0 0 0;\n",
              "      width: 32px;\n",
              "    }\n",
              "\n",
              "    .colab-df-convert:hover {\n",
              "      background-color: #E2EBFA;\n",
              "      box-shadow: 0px 1px 2px rgba(60, 64, 67, 0.3), 0px 1px 3px 1px rgba(60, 64, 67, 0.15);\n",
              "      fill: #174EA6;\n",
              "    }\n",
              "\n",
              "    [theme=dark] .colab-df-convert {\n",
              "      background-color: #3B4455;\n",
              "      fill: #D2E3FC;\n",
              "    }\n",
              "\n",
              "    [theme=dark] .colab-df-convert:hover {\n",
              "      background-color: #434B5C;\n",
              "      box-shadow: 0px 1px 3px 1px rgba(0, 0, 0, 0.15);\n",
              "      filter: drop-shadow(0px 1px 2px rgba(0, 0, 0, 0.3));\n",
              "      fill: #FFFFFF;\n",
              "    }\n",
              "  </style>\n",
              "\n",
              "      <script>\n",
              "        const buttonEl =\n",
              "          document.querySelector('#df-b04dd7fe-fa3b-4ce5-9927-3b7dd484c360 button.colab-df-convert');\n",
              "        buttonEl.style.display =\n",
              "          google.colab.kernel.accessAllowed ? 'block' : 'none';\n",
              "\n",
              "        async function convertToInteractive(key) {\n",
              "          const element = document.querySelector('#df-b04dd7fe-fa3b-4ce5-9927-3b7dd484c360');\n",
              "          const dataTable =\n",
              "            await google.colab.kernel.invokeFunction('convertToInteractive',\n",
              "                                                     [key], {});\n",
              "          if (!dataTable) return;\n",
              "\n",
              "          const docLinkHtml = 'Like what you see? Visit the ' +\n",
              "            '<a target=\"_blank\" href=https://colab.research.google.com/notebooks/data_table.ipynb>data table notebook</a>'\n",
              "            + ' to learn more about interactive tables.';\n",
              "          element.innerHTML = '';\n",
              "          dataTable['output_type'] = 'display_data';\n",
              "          await google.colab.output.renderOutput(dataTable, element);\n",
              "          const docLink = document.createElement('div');\n",
              "          docLink.innerHTML = docLinkHtml;\n",
              "          element.appendChild(docLink);\n",
              "        }\n",
              "      </script>\n",
              "    </div>\n",
              "  </div>\n",
              "  "
            ]
          },
          "metadata": {},
          "execution_count": 184
        }
      ]
    },
    {
      "cell_type": "markdown",
      "source": [
        "A. The Ratio of Total Payout to Net Income"
      ],
      "metadata": {
        "id": "6A-2sMWtBRLG"
      }
    },
    {
      "cell_type": "code",
      "source": [
        "dfe[['asdvc/ni']].plot.line(\n",
        "    title='A. The Ratio of Dividends to Net Income', \n",
        "    color = (\"r\") , xlabel = \"\", figsize=(24, 8), rot=-45)"
      ],
      "metadata": {
        "id": "wFvUctFu-2Gq",
        "colab": {
          "base_uri": "https://localhost:8080/",
          "height": 0
        },
        "outputId": "4b51bd7d-7d65-41b6-f571-46d0260aceae"
      },
      "execution_count": 185,
      "outputs": [
        {
          "output_type": "execute_result",
          "data": {
            "text/plain": [
              "<matplotlib.axes._subplots.AxesSubplot at 0x7f790848a8d0>"
            ]
          },
          "metadata": {},
          "execution_count": 185
        },
        {
          "output_type": "display_data",
          "data": {
            "text/plain": [
              "<Figure size 1728x576 with 1 Axes>"
            ],
            "image/png": "[encoded data removed]"
          },
          "metadata": {}
        }
      ]
    },
    {
      "cell_type": "markdown",
      "source": [
        "B. Dividendsut (All as a Fraction of Toatal Assets)"
      ],
      "metadata": {
        "id": "AsvXfUTxBQ9Q"
      }
    },
    {
      "cell_type": "code",
      "source": [
        "dfe[['asdvc/ta']].plot.line(\n",
        "     title='A. The Ratio of Dividends to Total Assets', \n",
        "     color = (\"r\"), xlabel = \"\", figsize=(24, 8), rot=-45)"
      ],
      "metadata": {
        "id": "zKwYi3TDK0Kt",
        "colab": {
          "base_uri": "https://localhost:8080/",
          "height": 0
        },
        "outputId": "36b75f15-d988-412c-bbba-01773de94eb1"
      },
      "execution_count": 186,
      "outputs": [
        {
          "output_type": "execute_result",
          "data": {
            "text/plain": [
              "<matplotlib.axes._subplots.AxesSubplot at 0x7f79083e3f50>"
            ]
          },
          "metadata": {},
          "execution_count": 186
        },
        {
          "output_type": "display_data",
          "data": {
            "text/plain": [
              "<Figure size 1728x576 with 1 Axes>"
            ],
            "image/png": "[encoded data removed]"
          },
          "metadata": {}
        }
      ]
    },
    {
      "cell_type": "markdown",
      "source": [
        "# Asset-Weighted Average"
      ],
      "metadata": {
        "id": "F98xzEkTJ0rU"
      }
    },
    {
      "cell_type": "markdown",
      "source": [
        "必要な項目を抽出し、まず、個々の企業、年度で対応するtaをかける"
      ],
      "metadata": {
        "id": "OFx5aOdqPVq3"
      }
    },
    {
      "cell_type": "code",
      "source": [
        "dfa = df[['ta', 'asdvc/ni', 'asdvc/ta']]"
      ],
      "metadata": {
        "id": "vDFBtP49So8H"
      },
      "execution_count": 174,
      "outputs": []
    },
    {
      "cell_type": "code",
      "source": [
        "for i in range(1,len(dfa.columns)):\n",
        "   dfa.iloc[:,i] = dfa.iloc[:,i] * df['ta']"
      ],
      "metadata": {
        "id": "wGt2R-YxTtBP"
      },
      "execution_count": 175,
      "outputs": []
    },
    {
      "cell_type": "markdown",
      "source": [
        "各企業のデータを年度で合計し、各項目をtaの年度ごとの合計で割る"
      ],
      "metadata": {
        "id": "SsmUN7uxNvs6"
      }
    },
    {
      "cell_type": "code",
      "source": [
        "dfa = dfa.sum(level=0)"
      ],
      "metadata": {
        "id": "Km6XtrH5LbUb"
      },
      "execution_count": 176,
      "outputs": []
    },
    {
      "cell_type": "code",
      "source": [
        "for i in range(len(dfa.columns)):\n",
        "   dfa.iloc[:,i] = dfa.iloc[:,i] / dfa['ta']"
      ],
      "metadata": {
        "id": "GqJ_GoXYnf3q"
      },
      "execution_count": 177,
      "outputs": []
    },
    {
      "cell_type": "code",
      "source": [
        "dfa"
      ],
      "metadata": {
        "colab": {
          "base_uri": "https://localhost:8080/",
          "height": 457
        },
        "id": "WwsiXECtR3rN",
        "outputId": "2ec93917-0e2a-4e5b-80ee-03f9f473873e"
      },
      "execution_count": 178,
      "outputs": [
        {
          "output_type": "execute_result",
          "data": {
            "text/plain": [
              "       ta  asdvc/ni  asdvc/ta\n",
              "fy                           \n",
              "2001  1.0       0.0       0.0\n",
              "2009  1.0       0.0       0.0\n",
              "2003  1.0       0.0       0.0\n",
              "2005  1.0       0.0       0.0\n",
              "2011  1.0       0.0       0.0\n",
              "2012  1.0       0.0       0.0\n",
              "2007  1.0       0.0       0.0\n",
              "2002  1.0       0.0       0.0\n",
              "2008  1.0       0.0       0.0\n",
              "2010  1.0       0.0       0.0\n",
              "2004  1.0       0.0       0.0\n",
              "2006  1.0       0.0       0.0"
            ],
            "text/html": [
              "\n",
              "  <div id=\"df-9230cadc-1e9c-4cac-b57f-49a8da63d89b\">\n",
              "    <div class=\"colab-df-container\">\n",
              "      <div>\n",
              "<style scoped>\n",
              "    .dataframe tbody tr th:only-of-type {\n",
              "        vertical-align: middle;\n",
              "    }\n",
              "\n",
              "    .dataframe tbody tr th {\n",
              "        vertical-align: top;\n",
              "    }\n",
              "\n",
              "    .dataframe thead th {\n",
              "        text-align: right;\n",
              "    }\n",
              "</style>\n",
              "<table border=\"1\" class=\"dataframe\">\n",
              "  <thead>\n",
              "    <tr style=\"text-align: right;\">\n",
              "      <th></th>\n",
              "      <th>ta</th>\n",
              "      <th>asdvc/ni</th>\n",
              "      <th>asdvc/ta</th>\n",
              "    </tr>\n",
              "    <tr>\n",
              "      <th>fy</th>\n",
              "      <th></th>\n",
              "      <th></th>\n",
              "      <th></th>\n",
              "    </tr>\n",
              "  </thead>\n",
              "  <tbody>\n",
              "    <tr>\n",
              "      <th>2001</th>\n",
              "      <td>1.0</td>\n",
              "      <td>0.0</td>\n",
              "      <td>0.0</td>\n",
              "    </tr>\n",
              "    <tr>\n",
              "      <th>2009</th>\n",
              "      <td>1.0</td>\n",
              "      <td>0.0</td>\n",
              "      <td>0.0</td>\n",
              "    </tr>\n",
              "    <tr>\n",
              "      <th>2003</th>\n",
              "      <td>1.0</td>\n",
              "      <td>0.0</td>\n",
              "      <td>0.0</td>\n",
              "    </tr>\n",
              "    <tr>\n",
              "      <th>2005</th>\n",
              "      <td>1.0</td>\n",
              "      <td>0.0</td>\n",
              "      <td>0.0</td>\n",
              "    </tr>\n",
              "    <tr>\n",
              "      <th>2011</th>\n",
              "      <td>1.0</td>\n",
              "      <td>0.0</td>\n",
              "      <td>0.0</td>\n",
              "    </tr>\n",
              "    <tr>\n",
              "      <th>2012</th>\n",
              "      <td>1.0</td>\n",
              "      <td>0.0</td>\n",
              "      <td>0.0</td>\n",
              "    </tr>\n",
              "    <tr>\n",
              "      <th>2007</th>\n",
              "      <td>1.0</td>\n",
              "      <td>0.0</td>\n",
              "      <td>0.0</td>\n",
              "    </tr>\n",
              "    <tr>\n",
              "      <th>2002</th>\n",
              "      <td>1.0</td>\n",
              "      <td>0.0</td>\n",
              "      <td>0.0</td>\n",
              "    </tr>\n",
              "    <tr>\n",
              "      <th>2008</th>\n",
              "      <td>1.0</td>\n",
              "      <td>0.0</td>\n",
              "      <td>0.0</td>\n",
              "    </tr>\n",
              "    <tr>\n",
              "      <th>2010</th>\n",
              "      <td>1.0</td>\n",
              "      <td>0.0</td>\n",
              "      <td>0.0</td>\n",
              "    </tr>\n",
              "    <tr>\n",
              "      <th>2004</th>\n",
              "      <td>1.0</td>\n",
              "      <td>0.0</td>\n",
              "      <td>0.0</td>\n",
              "    </tr>\n",
              "    <tr>\n",
              "      <th>2006</th>\n",
              "      <td>1.0</td>\n",
              "      <td>0.0</td>\n",
              "      <td>0.0</td>\n",
              "    </tr>\n",
              "  </tbody>\n",
              "</table>\n",
              "</div>\n",
              "      <button class=\"colab-df-convert\" onclick=\"convertToInteractive('df-9230cadc-1e9c-4cac-b57f-49a8da63d89b')\"\n",
              "              title=\"Convert this dataframe to an interactive table.\"\n",
              "              style=\"display:none;\">\n",
              "        \n",
              "  <svg xmlns=\"http://www.w3.org/2000/svg\" height=\"24px\"viewBox=\"0 0 24 24\"\n",
              "       width=\"24px\">\n",
              "    <path d=\"M0 0h24v24H0V0z\" fill=\"none\"/>\n",
              "    <path d=\"M18.56 5.44l.94 2.06.94-2.06 2.06-.94-2.06-.94-.94-2.06-.94 2.06-2.06.94zm-11 1L8.5 8.5l.94-2.06 2.06-.94-2.06-.94L8.5 2.5l-.94 2.06-2.06.94zm10 10l.94 2.06.94-2.06 2.06-.94-2.06-.94-.94-2.06-.94 2.06-2.06.94z\"/><path d=\"M17.41 7.96l-1.37-1.37c-.4-.4-.92-.59-1.43-.59-.52 0-1.04.2-1.43.59L10.3 9.45l-7.72 7.72c-.78.78-.78 2.05 0 2.83L4 21.41c.39.39.9.59 1.41.59.51 0 1.02-.2 1.41-.59l7.78-7.78 2.81-2.81c.8-.78.8-2.07 0-2.86zM5.41 20L4 18.59l7.72-7.72 1.47 1.35L5.41 20z\"/>\n",
              "  </svg>\n",
              "      </button>\n",
              "      \n",
              "  <style>\n",
              "    .colab-df-container {\n",
              "      display:flex;\n",
              "      flex-wrap:wrap;\n",
              "      gap: 12px;\n",
              "    }\n",
              "\n",
              "    .colab-df-convert {\n",
              "      background-color: #E8F0FE;\n",
              "      border: none;\n",
              "      border-radius: 50%;\n",
              "      cursor: pointer;\n",
              "      display: none;\n",
              "      fill: #1967D2;\n",
              "      height: 32px;\n",
              "      padding: 0 0 0 0;\n",
              "      width: 32px;\n",
              "    }\n",
              "\n",
              "    .colab-df-convert:hover {\n",
              "      background-color: #E2EBFA;\n",
              "      box-shadow: 0px 1px 2px rgba(60, 64, 67, 0.3), 0px 1px 3px 1px rgba(60, 64, 67, 0.15);\n",
              "      fill: #174EA6;\n",
              "    }\n",
              "\n",
              "    [theme=dark] .colab-df-convert {\n",
              "      background-color: #3B4455;\n",
              "      fill: #D2E3FC;\n",
              "    }\n",
              "\n",
              "    [theme=dark] .colab-df-convert:hover {\n",
              "      background-color: #434B5C;\n",
              "      box-shadow: 0px 1px 3px 1px rgba(0, 0, 0, 0.15);\n",
              "      filter: drop-shadow(0px 1px 2px rgba(0, 0, 0, 0.3));\n",
              "      fill: #FFFFFF;\n",
              "    }\n",
              "  </style>\n",
              "\n",
              "      <script>\n",
              "        const buttonEl =\n",
              "          document.querySelector('#df-9230cadc-1e9c-4cac-b57f-49a8da63d89b button.colab-df-convert');\n",
              "        buttonEl.style.display =\n",
              "          google.colab.kernel.accessAllowed ? 'block' : 'none';\n",
              "\n",
              "        async function convertToInteractive(key) {\n",
              "          const element = document.querySelector('#df-9230cadc-1e9c-4cac-b57f-49a8da63d89b');\n",
              "          const dataTable =\n",
              "            await google.colab.kernel.invokeFunction('convertToInteractive',\n",
              "                                                     [key], {});\n",
              "          if (!dataTable) return;\n",
              "\n",
              "          const docLinkHtml = 'Like what you see? Visit the ' +\n",
              "            '<a target=\"_blank\" href=https://colab.research.google.com/notebooks/data_table.ipynb>data table notebook</a>'\n",
              "            + ' to learn more about interactive tables.';\n",
              "          element.innerHTML = '';\n",
              "          dataTable['output_type'] = 'display_data';\n",
              "          await google.colab.output.renderOutput(dataTable, element);\n",
              "          const docLink = document.createElement('div');\n",
              "          docLink.innerHTML = docLinkHtml;\n",
              "          element.appendChild(docLink);\n",
              "        }\n",
              "      </script>\n",
              "    </div>\n",
              "  </div>\n",
              "  "
            ]
          },
          "metadata": {},
          "execution_count": 178
        }
      ]
    },
    {
      "cell_type": "markdown",
      "source": [
        "A. The Ratio of Total Payout to Net Income"
      ],
      "metadata": {
        "id": "kD2Wzs2cFgU3"
      }
    },
    {
      "cell_type": "code",
      "source": [
        "dfa[['asdvc/ni']].plot.line(\n",
        "    title='A. The Ratio of Dividends to Net Income', \n",
        "    color = (\"r\") , xlabel = \"\", figsize=(24, 8), rot=-45)"
      ],
      "metadata": {
        "id": "l0HrNwx2FgU4",
        "colab": {
          "base_uri": "https://localhost:8080/",
          "height": 532
        },
        "outputId": "8a55a88c-ab87-4630-9334-5557f5e5e6e4"
      },
      "execution_count": 179,
      "outputs": [
        {
          "output_type": "execute_result",
          "data": {
            "text/plain": [
              "<matplotlib.axes._subplots.AxesSubplot at 0x7f7908528910>"
            ]
          },
          "metadata": {},
          "execution_count": 179
        },
        {
          "output_type": "display_data",
          "data": {
            "text/plain": [
              "<Figure size 1728x576 with 1 Axes>"
            ],
            "image/png": "[encoded data removed]"
          },
          "metadata": {}
        }
      ]
    },
    {
      "cell_type": "markdown",
      "source": [
        "B. Dividendsut (All as a Fraction of Toatal Assets)"
      ],
      "metadata": {
        "id": "NwSOKx0sFgU4"
      }
    },
    {
      "cell_type": "code",
      "source": [
        "dfa[['asdvc/ta']].plot.line(\n",
        "     title='A. The Ratio of Dividends to Total Assets', \n",
        "     color = (\"r\"), xlabel = \"\", figsize=(24, 8), rot=-45)"
      ],
      "metadata": {
        "id": "LS17GPT2FgU4",
        "colab": {
          "base_uri": "https://localhost:8080/",
          "height": 532
        },
        "outputId": "392a0ef5-205a-4626-bfc4-7beb802fc4dc"
      },
      "execution_count": 180,
      "outputs": [
        {
          "output_type": "execute_result",
          "data": {
            "text/plain": [
              "<matplotlib.axes._subplots.AxesSubplot at 0x7f7908531250>"
            ]
          },
          "metadata": {},
          "execution_count": 180
        },
        {
          "output_type": "display_data",
          "data": {
            "text/plain": [
              "<Figure size 1728x576 with 1 Axes>"
            ],
            "image/png": "[encoded data removed]"
          },
          "metadata": {}
        }
      ]
    },
    {
      "cell_type": "markdown",
      "metadata": {
        "id": "SeX6PryS6HLn"
      },
      "source": [
        "# 項目名略称一覧"
      ]
    },
    {
      "cell_type": "markdown",
      "metadata": {
        "id": "W9dk6YGc35Lh"
      },
      "source": [
        "日経会社コード　gvkey\n",
        "\n",
        "株式コード　sc\n",
        "\n",
        "決算期　fy\n",
        "\n",
        "**利益処分計算書**\n",
        "\n",
        "　普通株式配当金　asdvc　（配当したら正）\n",
        "\n",
        "**P/L**\n",
        "\n",
        "　利益　ni\n",
        "\n",
        "**B/S**\n",
        "\n",
        "　総資産　ta"
      ]
    }
  ]
}