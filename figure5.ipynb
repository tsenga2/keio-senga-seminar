{
  "nbformat": 4,
  "nbformat_minor": 0,
  "metadata": {
    "colab": {
      "name": "figure5.ipynb",
      "provenance": [],
      "collapsed_sections": [
        "9xRZoxu5Rf6E",
        "TjBlSajL6MPx",
        "71KAmsf8sRoA",
        "0iudS5jzX6Ss",
        "LdpFflADJGVw",
        "F98xzEkTJ0rU",
        "SeX6PryS6HLn"
      ],
      "include_colab_link": true
    },
    "kernelspec": {
      "name": "python3",
      "display_name": "Python 3"
    },
    "language_info": {
      "name": "python"
    }
  },
  "cells": [
    {
      "cell_type": "markdown",
      "metadata": {
        "id": "view-in-github",
        "colab_type": "text"
      },
      "source": [
        "<a href=\"https://colab.research.google.com/github/tsenga2/keio-senga-seminar/blob/main/figure5.ipynb\" target=\"_parent\"><img src=\"https://colab.research.google.com/assets/colab-badge.svg\" alt=\"Open In Colab\"/></a>"
      ]
    },
    {
      "cell_type": "markdown",
      "metadata": {
        "id": "9xRZoxu5Rf6E"
      },
      "source": [
        "**データの準備**\n",
        "---"
      ]
    },
    {
      "cell_type": "markdown",
      "metadata": {
        "id": "fyldZ_6bRf6F"
      },
      "source": [
        "Google Drive のファイルを読み込む準備"
      ]
    },
    {
      "cell_type": "code",
      "metadata": {
        "id": "SC1NvcyCRf6F"
      },
      "source": [
        "!pip install -U -q PyDrive\n",
        "from pydrive.auth import GoogleAuth\n",
        "from pydrive.drive import GoogleDrive\n",
        "from google.colab import auth\n",
        "from oauth2client.client import GoogleCredentials\n",
        "\n",
        "auth.authenticate_user()\n",
        "gauth = GoogleAuth()\n",
        "gauth.credentials = GoogleCredentials.get_application_default()\n",
        "drive = GoogleDrive(gauth)"
      ],
      "execution_count": 1,
      "outputs": []
    },
    {
      "cell_type": "markdown",
      "metadata": {
        "id": "3TuJgs1URf6F"
      },
      "source": [
        "pandasで読み込む準備"
      ]
    },
    {
      "cell_type": "code",
      "metadata": {
        "id": "umpekAeCRf6F"
      },
      "source": [
        "import pandas as pd\n",
        "pd.set_option('display.max_columns', 100)"
      ],
      "execution_count": 2,
      "outputs": []
    },
    {
      "cell_type": "markdown",
      "metadata": {
        "id": "hPq8d8KoRf6H"
      },
      "source": [
        "ファイルをダウンロード"
      ]
    },
    {
      "cell_type": "code",
      "source": [
        "#fileDownloaded = drive.CreateFile({'id': '1cMuRB0GcrqZJgP9q1DBY6TZ52W4pjyS-'})\n",
        "fileDownloaded = drive.CreateFile({'id': '1dDIkc9xJRiSgyj9qq61r89v8hHGVlaLy'})\n",
        "fileDownloaded.GetContentFile('NikkeiNeeds.csv')"
      ],
      "metadata": {
        "id": "PwjMx2HmRlQx"
      },
      "execution_count": 3,
      "outputs": []
    },
    {
      "cell_type": "markdown",
      "source": [
        "# データの整理"
      ],
      "metadata": {
        "id": "TjBlSajL6MPx"
      }
    },
    {
      "cell_type": "markdown",
      "metadata": {
        "id": "2JzQ33-qRf6H"
      },
      "source": [
        "pandasで読み込み"
      ]
    },
    {
      "cell_type": "code",
      "metadata": {
        "id": "V3vhOyFxRf6H"
      },
      "source": [
        "df = pd.read_csv('NikkeiNeeds.csv', encoding = \"cp932\")"
      ],
      "execution_count": 4,
      "outputs": []
    },
    {
      "cell_type": "code",
      "source": [
        "df.info()"
      ],
      "metadata": {
        "colab": {
          "base_uri": "https://localhost:8080/"
        },
        "id": "8bMYxYzAIyn2",
        "outputId": "9e91836d-f5e7-4b75-9585-5c0b455511d5"
      },
      "execution_count": 5,
      "outputs": [
        {
          "output_type": "stream",
          "name": "stdout",
          "text": [
            "<class 'pandas.core.frame.DataFrame'>\n",
            "RangeIndex: 41560 entries, 0 to 41559\n",
            "Data columns (total 25 columns):\n",
            " #   Column                                                         Non-Null Count  Dtype  \n",
            "---  ------                                                         --------------  -----  \n",
            " 0   日経会社コード                                                        41560 non-null  int64  \n",
            " 1   企業名称                                                           41560 non-null  object \n",
            " 2   株式コード                                                          41560 non-null  int64  \n",
            " 3   決算期                                                            41560 non-null  object \n",
            " 4   決算種別                                                           41560 non-null  int64  \n",
            " 5   連結基準                                                           41560 non-null  int64  \n",
            " 6   <【更新中止】連結剰余金計算書>（配当金）(百万円)[L033]                               17 non-null     float64\n",
            " 7   <【更新中止】連結剰余金計算書>（優先株式配当金）(百万円)[L034]                           0 non-null      float64\n",
            " 8   <【更新中止】連結剰余金計算書>（普通株式配当金）(百万円)[L049]                           19701 non-null  float64\n",
            " 9   <【更新中止】連結剰余金計算書>（優先株式配当金）(百万円)[L050]                           5 non-null      float64\n",
            " 10  <貸借対照表（資産）>資産合計(百万円)[B110]                                     41551 non-null  float64\n",
            " 11  <損益計算書（期首からの累計期間）>親会社株主に帰属する当期純利益（連結）／当期利益（単独）［累計］(百万円)[D110]  41553 non-null  float64\n",
            " 12  <【更新中止】利益処分計算書（単独）>普通株式配当金(百万円)[L015]                          0 non-null      float64\n",
            " 13  <株主資本等変動計算書>【純資産合計／資本】剰余金の配当(百万円)[G130]                        15972 non-null  float64\n",
            " 14  <株主資本等変動計算書>【純資産合計／資本】自己株式の取得(百万円)[G132]                       10203 non-null  float64\n",
            " 15  <基本項目>配当性向［累計］(％)[A065]                                        13209 non-null  float64\n",
            " 16  <損益計算書（期首からの累計期間）>売上高・営業収益［累計］(百万円)[D021]                      41551 non-null  float64\n",
            " 17  <貸借対照表（資産）>現金・預金／現金及び現金同等物(百万円)[B022]                          41461 non-null  float64\n",
            " 18  <損益計算書（期首からの累計期間）>経常利益／税金等調整前当期純利益［累計］(百万円)[D066]              41555 non-null  float64\n",
            " 19  <基本項目>自己株式数(株)[A058]                                           36169 non-null  float64\n",
            " 20  <基本項目>自己株式数（遡及調整後）(株)[A160]                                    642 non-null    float64\n",
            " 21  <基本項目>１株当たり配当金（各期末）(円)[A136]                                   39088 non-null  float64\n",
            " 22  <基本項目>１株当たり配当金（累計）(円)[A140]                                    25735 non-null  float64\n",
            " 23  <基本項目>期末発行済株式総数(株)[A057]                                       41560 non-null  int64  \n",
            " 24  <基本項目>期末発行済株式総数（遡及調整後）(株)[A159]                                707 non-null    float64\n",
            "dtypes: float64(18), int64(5), object(2)\n",
            "memory usage: 7.9+ MB\n"
          ]
        }
      ]
    },
    {
      "cell_type": "markdown",
      "metadata": {
        "id": "H-M21RoGCtwO"
      },
      "source": [
        "名前の変更"
      ]
    },
    {
      "cell_type": "code",
      "metadata": {
        "id": "y8mpquiKB5Pe"
      },
      "source": [
        "df = df.rename(columns={'日経会社コード':'gvkey'})\n",
        "df = df.rename(columns={'株式コード':'sc'})\n",
        "df = df.rename(columns={'決算期':'fy'})\n",
        "df = df.rename(columns={'<【更新中止】連結剰余金計算書>（普通株式配当金）(百万円)[L049]':'asdvc'})\n",
        "df = df.rename(columns={'<株主資本等変動計算書>【純資産合計／資本】剰余金の配当(百万円)[G130]':'ssdvc'})\n",
        "df = df.rename(columns={'<貸借対照表（資産）>資産合計(百万円)[B110]':'ta'})\n",
        "df = df.rename(columns={'<損益計算書（期首からの累計期間）>親会社株主に帰属する当期純利益（連結）／当期利益（単独）［累計］(百万円)[D110]':'ni'})"
      ],
      "execution_count": 6,
      "outputs": []
    },
    {
      "cell_type": "markdown",
      "source": [
        "必要な列を抽出"
      ],
      "metadata": {
        "id": "sIswNbfQGfoN"
      }
    },
    {
      "cell_type": "code",
      "source": [
        "df = df[['gvkey', 'sc', 'fy', 'asdvc', 'ta', 'ni']]"
      ],
      "metadata": {
        "id": "kq5SK2ZLGHJx"
      },
      "execution_count": 7,
      "outputs": []
    },
    {
      "cell_type": "markdown",
      "source": [
        "NaNを含む行を削除 <--- row or column?"
      ],
      "metadata": {
        "id": "YJWRbDJJHhHZ"
      }
    },
    {
      "cell_type": "code",
      "source": [
        "df = df.dropna()\n",
        "df"
      ],
      "metadata": {
        "id": "KbccsHhlHdLq",
        "colab": {
          "base_uri": "https://localhost:8080/",
          "height": 0
        },
        "outputId": "0d961389-576d-44a2-d54c-1159091d4861"
      },
      "execution_count": 8,
      "outputs": [
        {
          "output_type": "execute_result",
          "data": {
            "text/plain": [
              "       gvkey    sc       fy   asdvc        ta      ni\n",
              "18        12  9999  1984/03  1897.0  310035.0  2040.0\n",
              "19        12  9999  1985/03  1965.0  327011.0  4484.0\n",
              "20        12  9999  1986/03  2013.0  319110.0  3009.0\n",
              "21        12  9999  1987/03  2015.0  334912.0  4020.0\n",
              "22        12  9999  1988/03  2017.0  359122.0  5011.0\n",
              "...      ...   ...      ...     ...       ...     ...\n",
              "41520  91029  7214  2005/03    56.0   33194.0   987.0\n",
              "41521  91029  7214  2006/03   235.0   37648.0   627.0\n",
              "41537  91104  6639  2005/03   135.0   12555.0    20.0\n",
              "41538  91104  6639  2006/03    81.0   14723.0   734.0\n",
              "41555  91226  9999  2002/03   274.0   40567.0 -4730.0\n",
              "\n",
              "[19701 rows x 6 columns]"
            ],
            "text/html": [
              "\n",
              "  <div id=\"df-2e63ec90-3e3d-47d2-9073-99e9627e153e\">\n",
              "    <div class=\"colab-df-container\">\n",
              "      <div>\n",
              "<style scoped>\n",
              "    .dataframe tbody tr th:only-of-type {\n",
              "        vertical-align: middle;\n",
              "    }\n",
              "\n",
              "    .dataframe tbody tr th {\n",
              "        vertical-align: top;\n",
              "    }\n",
              "\n",
              "    .dataframe thead th {\n",
              "        text-align: right;\n",
              "    }\n",
              "</style>\n",
              "<table border=\"1\" class=\"dataframe\">\n",
              "  <thead>\n",
              "    <tr style=\"text-align: right;\">\n",
              "      <th></th>\n",
              "      <th>gvkey</th>\n",
              "      <th>sc</th>\n",
              "      <th>fy</th>\n",
              "      <th>asdvc</th>\n",
              "      <th>ta</th>\n",
              "      <th>ni</th>\n",
              "    </tr>\n",
              "  </thead>\n",
              "  <tbody>\n",
              "    <tr>\n",
              "      <th>18</th>\n",
              "      <td>12</td>\n",
              "      <td>9999</td>\n",
              "      <td>1984/03</td>\n",
              "      <td>1897.0</td>\n",
              "      <td>310035.0</td>\n",
              "      <td>2040.0</td>\n",
              "    </tr>\n",
              "    <tr>\n",
              "      <th>19</th>\n",
              "      <td>12</td>\n",
              "      <td>9999</td>\n",
              "      <td>1985/03</td>\n",
              "      <td>1965.0</td>\n",
              "      <td>327011.0</td>\n",
              "      <td>4484.0</td>\n",
              "    </tr>\n",
              "    <tr>\n",
              "      <th>20</th>\n",
              "      <td>12</td>\n",
              "      <td>9999</td>\n",
              "      <td>1986/03</td>\n",
              "      <td>2013.0</td>\n",
              "      <td>319110.0</td>\n",
              "      <td>3009.0</td>\n",
              "    </tr>\n",
              "    <tr>\n",
              "      <th>21</th>\n",
              "      <td>12</td>\n",
              "      <td>9999</td>\n",
              "      <td>1987/03</td>\n",
              "      <td>2015.0</td>\n",
              "      <td>334912.0</td>\n",
              "      <td>4020.0</td>\n",
              "    </tr>\n",
              "    <tr>\n",
              "      <th>22</th>\n",
              "      <td>12</td>\n",
              "      <td>9999</td>\n",
              "      <td>1988/03</td>\n",
              "      <td>2017.0</td>\n",
              "      <td>359122.0</td>\n",
              "      <td>5011.0</td>\n",
              "    </tr>\n",
              "    <tr>\n",
              "      <th>...</th>\n",
              "      <td>...</td>\n",
              "      <td>...</td>\n",
              "      <td>...</td>\n",
              "      <td>...</td>\n",
              "      <td>...</td>\n",
              "      <td>...</td>\n",
              "    </tr>\n",
              "    <tr>\n",
              "      <th>41520</th>\n",
              "      <td>91029</td>\n",
              "      <td>7214</td>\n",
              "      <td>2005/03</td>\n",
              "      <td>56.0</td>\n",
              "      <td>33194.0</td>\n",
              "      <td>987.0</td>\n",
              "    </tr>\n",
              "    <tr>\n",
              "      <th>41521</th>\n",
              "      <td>91029</td>\n",
              "      <td>7214</td>\n",
              "      <td>2006/03</td>\n",
              "      <td>235.0</td>\n",
              "      <td>37648.0</td>\n",
              "      <td>627.0</td>\n",
              "    </tr>\n",
              "    <tr>\n",
              "      <th>41537</th>\n",
              "      <td>91104</td>\n",
              "      <td>6639</td>\n",
              "      <td>2005/03</td>\n",
              "      <td>135.0</td>\n",
              "      <td>12555.0</td>\n",
              "      <td>20.0</td>\n",
              "    </tr>\n",
              "    <tr>\n",
              "      <th>41538</th>\n",
              "      <td>91104</td>\n",
              "      <td>6639</td>\n",
              "      <td>2006/03</td>\n",
              "      <td>81.0</td>\n",
              "      <td>14723.0</td>\n",
              "      <td>734.0</td>\n",
              "    </tr>\n",
              "    <tr>\n",
              "      <th>41555</th>\n",
              "      <td>91226</td>\n",
              "      <td>9999</td>\n",
              "      <td>2002/03</td>\n",
              "      <td>274.0</td>\n",
              "      <td>40567.0</td>\n",
              "      <td>-4730.0</td>\n",
              "    </tr>\n",
              "  </tbody>\n",
              "</table>\n",
              "<p>19701 rows × 6 columns</p>\n",
              "</div>\n",
              "      <button class=\"colab-df-convert\" onclick=\"convertToInteractive('df-2e63ec90-3e3d-47d2-9073-99e9627e153e')\"\n",
              "              title=\"Convert this dataframe to an interactive table.\"\n",
              "              style=\"display:none;\">\n",
              "        \n",
              "  <svg xmlns=\"http://www.w3.org/2000/svg\" height=\"24px\"viewBox=\"0 0 24 24\"\n",
              "       width=\"24px\">\n",
              "    <path d=\"M0 0h24v24H0V0z\" fill=\"none\"/>\n",
              "    <path d=\"M18.56 5.44l.94 2.06.94-2.06 2.06-.94-2.06-.94-.94-2.06-.94 2.06-2.06.94zm-11 1L8.5 8.5l.94-2.06 2.06-.94-2.06-.94L8.5 2.5l-.94 2.06-2.06.94zm10 10l.94 2.06.94-2.06 2.06-.94-2.06-.94-.94-2.06-.94 2.06-2.06.94z\"/><path d=\"M17.41 7.96l-1.37-1.37c-.4-.4-.92-.59-1.43-.59-.52 0-1.04.2-1.43.59L10.3 9.45l-7.72 7.72c-.78.78-.78 2.05 0 2.83L4 21.41c.39.39.9.59 1.41.59.51 0 1.02-.2 1.41-.59l7.78-7.78 2.81-2.81c.8-.78.8-2.07 0-2.86zM5.41 20L4 18.59l7.72-7.72 1.47 1.35L5.41 20z\"/>\n",
              "  </svg>\n",
              "      </button>\n",
              "      \n",
              "  <style>\n",
              "    .colab-df-container {\n",
              "      display:flex;\n",
              "      flex-wrap:wrap;\n",
              "      gap: 12px;\n",
              "    }\n",
              "\n",
              "    .colab-df-convert {\n",
              "      background-color: #E8F0FE;\n",
              "      border: none;\n",
              "      border-radius: 50%;\n",
              "      cursor: pointer;\n",
              "      display: none;\n",
              "      fill: #1967D2;\n",
              "      height: 32px;\n",
              "      padding: 0 0 0 0;\n",
              "      width: 32px;\n",
              "    }\n",
              "\n",
              "    .colab-df-convert:hover {\n",
              "      background-color: #E2EBFA;\n",
              "      box-shadow: 0px 1px 2px rgba(60, 64, 67, 0.3), 0px 1px 3px 1px rgba(60, 64, 67, 0.15);\n",
              "      fill: #174EA6;\n",
              "    }\n",
              "\n",
              "    [theme=dark] .colab-df-convert {\n",
              "      background-color: #3B4455;\n",
              "      fill: #D2E3FC;\n",
              "    }\n",
              "\n",
              "    [theme=dark] .colab-df-convert:hover {\n",
              "      background-color: #434B5C;\n",
              "      box-shadow: 0px 1px 3px 1px rgba(0, 0, 0, 0.15);\n",
              "      filter: drop-shadow(0px 1px 2px rgba(0, 0, 0, 0.3));\n",
              "      fill: #FFFFFF;\n",
              "    }\n",
              "  </style>\n",
              "\n",
              "      <script>\n",
              "        const buttonEl =\n",
              "          document.querySelector('#df-2e63ec90-3e3d-47d2-9073-99e9627e153e button.colab-df-convert');\n",
              "        buttonEl.style.display =\n",
              "          google.colab.kernel.accessAllowed ? 'block' : 'none';\n",
              "\n",
              "        async function convertToInteractive(key) {\n",
              "          const element = document.querySelector('#df-2e63ec90-3e3d-47d2-9073-99e9627e153e');\n",
              "          const dataTable =\n",
              "            await google.colab.kernel.invokeFunction('convertToInteractive',\n",
              "                                                     [key], {});\n",
              "          if (!dataTable) return;\n",
              "\n",
              "          const docLinkHtml = 'Like what you see? Visit the ' +\n",
              "            '<a target=\"_blank\" href=https://colab.research.google.com/notebooks/data_table.ipynb>data table notebook</a>'\n",
              "            + ' to learn more about interactive tables.';\n",
              "          element.innerHTML = '';\n",
              "          dataTable['output_type'] = 'display_data';\n",
              "          await google.colab.output.renderOutput(dataTable, element);\n",
              "          const docLink = document.createElement('div');\n",
              "          docLink.innerHTML = docLinkHtml;\n",
              "          element.appendChild(docLink);\n",
              "        }\n",
              "      </script>\n",
              "    </div>\n",
              "  </div>\n",
              "  "
            ]
          },
          "metadata": {},
          "execution_count": 8
        }
      ]
    },
    {
      "cell_type": "markdown",
      "metadata": {
        "id": "K-FEh71qFrIO"
      },
      "source": [
        "fy列の最初の4文字(西暦)を取り出し、indexにする。"
      ]
    },
    {
      "cell_type": "code",
      "metadata": {
        "id": "X_N1_N8B-Qcz"
      },
      "source": [
        "df['fy'] = df['fy'].str[:4]\n",
        "df['fy'] = df['fy'].astype(int)"
      ],
      "execution_count": 9,
      "outputs": []
    },
    {
      "cell_type": "code",
      "source": [
        "df = df.set_index('fy')"
      ],
      "metadata": {
        "id": "sOu3SpjTmbRS"
      },
      "execution_count": 10,
      "outputs": []
    },
    {
      "cell_type": "markdown",
      "source": [
        "グラフ項目の計算"
      ],
      "metadata": {
        "id": "e349QUEDFpZv"
      }
    },
    {
      "cell_type": "code",
      "source": [
        "df['asdvc/ni'] = df['asdvc']/df['ni']\n",
        "df['asdvc/ta'] = df['asdvc']/df['ta']"
      ],
      "metadata": {
        "id": "f6YRuxRBFvIu"
      },
      "execution_count": 11,
      "outputs": []
    },
    {
      "cell_type": "markdown",
      "source": [
        "# データの確認"
      ],
      "metadata": {
        "id": "71KAmsf8sRoA"
      }
    },
    {
      "cell_type": "code",
      "source": [
        "df.head()"
      ],
      "metadata": {
        "id": "Sw_JTx-hsJ2Q",
        "colab": {
          "base_uri": "https://localhost:8080/",
          "height": 0
        },
        "outputId": "579af340-bdae-4a03-bb2a-1af167219376"
      },
      "execution_count": 12,
      "outputs": [
        {
          "output_type": "execute_result",
          "data": {
            "text/plain": [
              "      gvkey    sc   asdvc        ta      ni  asdvc/ni  asdvc/ta\n",
              "fy                                                             \n",
              "1984     12  9999  1897.0  310035.0  2040.0  0.929902  0.006119\n",
              "1985     12  9999  1965.0  327011.0  4484.0  0.438225  0.006009\n",
              "1986     12  9999  2013.0  319110.0  3009.0  0.668993  0.006308\n",
              "1987     12  9999  2015.0  334912.0  4020.0  0.501244  0.006017\n",
              "1988     12  9999  2017.0  359122.0  5011.0  0.402514  0.005616"
            ],
            "text/html": [
              "\n",
              "  <div id=\"df-730b42d1-53d5-4f90-abf7-3f3b7c439f82\">\n",
              "    <div class=\"colab-df-container\">\n",
              "      <div>\n",
              "<style scoped>\n",
              "    .dataframe tbody tr th:only-of-type {\n",
              "        vertical-align: middle;\n",
              "    }\n",
              "\n",
              "    .dataframe tbody tr th {\n",
              "        vertical-align: top;\n",
              "    }\n",
              "\n",
              "    .dataframe thead th {\n",
              "        text-align: right;\n",
              "    }\n",
              "</style>\n",
              "<table border=\"1\" class=\"dataframe\">\n",
              "  <thead>\n",
              "    <tr style=\"text-align: right;\">\n",
              "      <th></th>\n",
              "      <th>gvkey</th>\n",
              "      <th>sc</th>\n",
              "      <th>asdvc</th>\n",
              "      <th>ta</th>\n",
              "      <th>ni</th>\n",
              "      <th>asdvc/ni</th>\n",
              "      <th>asdvc/ta</th>\n",
              "    </tr>\n",
              "    <tr>\n",
              "      <th>fy</th>\n",
              "      <th></th>\n",
              "      <th></th>\n",
              "      <th></th>\n",
              "      <th></th>\n",
              "      <th></th>\n",
              "      <th></th>\n",
              "      <th></th>\n",
              "    </tr>\n",
              "  </thead>\n",
              "  <tbody>\n",
              "    <tr>\n",
              "      <th>1984</th>\n",
              "      <td>12</td>\n",
              "      <td>9999</td>\n",
              "      <td>1897.0</td>\n",
              "      <td>310035.0</td>\n",
              "      <td>2040.0</td>\n",
              "      <td>0.929902</td>\n",
              "      <td>0.006119</td>\n",
              "    </tr>\n",
              "    <tr>\n",
              "      <th>1985</th>\n",
              "      <td>12</td>\n",
              "      <td>9999</td>\n",
              "      <td>1965.0</td>\n",
              "      <td>327011.0</td>\n",
              "      <td>4484.0</td>\n",
              "      <td>0.438225</td>\n",
              "      <td>0.006009</td>\n",
              "    </tr>\n",
              "    <tr>\n",
              "      <th>1986</th>\n",
              "      <td>12</td>\n",
              "      <td>9999</td>\n",
              "      <td>2013.0</td>\n",
              "      <td>319110.0</td>\n",
              "      <td>3009.0</td>\n",
              "      <td>0.668993</td>\n",
              "      <td>0.006308</td>\n",
              "    </tr>\n",
              "    <tr>\n",
              "      <th>1987</th>\n",
              "      <td>12</td>\n",
              "      <td>9999</td>\n",
              "      <td>2015.0</td>\n",
              "      <td>334912.0</td>\n",
              "      <td>4020.0</td>\n",
              "      <td>0.501244</td>\n",
              "      <td>0.006017</td>\n",
              "    </tr>\n",
              "    <tr>\n",
              "      <th>1988</th>\n",
              "      <td>12</td>\n",
              "      <td>9999</td>\n",
              "      <td>2017.0</td>\n",
              "      <td>359122.0</td>\n",
              "      <td>5011.0</td>\n",
              "      <td>0.402514</td>\n",
              "      <td>0.005616</td>\n",
              "    </tr>\n",
              "  </tbody>\n",
              "</table>\n",
              "</div>\n",
              "      <button class=\"colab-df-convert\" onclick=\"convertToInteractive('df-730b42d1-53d5-4f90-abf7-3f3b7c439f82')\"\n",
              "              title=\"Convert this dataframe to an interactive table.\"\n",
              "              style=\"display:none;\">\n",
              "        \n",
              "  <svg xmlns=\"http://www.w3.org/2000/svg\" height=\"24px\"viewBox=\"0 0 24 24\"\n",
              "       width=\"24px\">\n",
              "    <path d=\"M0 0h24v24H0V0z\" fill=\"none\"/>\n",
              "    <path d=\"M18.56 5.44l.94 2.06.94-2.06 2.06-.94-2.06-.94-.94-2.06-.94 2.06-2.06.94zm-11 1L8.5 8.5l.94-2.06 2.06-.94-2.06-.94L8.5 2.5l-.94 2.06-2.06.94zm10 10l.94 2.06.94-2.06 2.06-.94-2.06-.94-.94-2.06-.94 2.06-2.06.94z\"/><path d=\"M17.41 7.96l-1.37-1.37c-.4-.4-.92-.59-1.43-.59-.52 0-1.04.2-1.43.59L10.3 9.45l-7.72 7.72c-.78.78-.78 2.05 0 2.83L4 21.41c.39.39.9.59 1.41.59.51 0 1.02-.2 1.41-.59l7.78-7.78 2.81-2.81c.8-.78.8-2.07 0-2.86zM5.41 20L4 18.59l7.72-7.72 1.47 1.35L5.41 20z\"/>\n",
              "  </svg>\n",
              "      </button>\n",
              "      \n",
              "  <style>\n",
              "    .colab-df-container {\n",
              "      display:flex;\n",
              "      flex-wrap:wrap;\n",
              "      gap: 12px;\n",
              "    }\n",
              "\n",
              "    .colab-df-convert {\n",
              "      background-color: #E8F0FE;\n",
              "      border: none;\n",
              "      border-radius: 50%;\n",
              "      cursor: pointer;\n",
              "      display: none;\n",
              "      fill: #1967D2;\n",
              "      height: 32px;\n",
              "      padding: 0 0 0 0;\n",
              "      width: 32px;\n",
              "    }\n",
              "\n",
              "    .colab-df-convert:hover {\n",
              "      background-color: #E2EBFA;\n",
              "      box-shadow: 0px 1px 2px rgba(60, 64, 67, 0.3), 0px 1px 3px 1px rgba(60, 64, 67, 0.15);\n",
              "      fill: #174EA6;\n",
              "    }\n",
              "\n",
              "    [theme=dark] .colab-df-convert {\n",
              "      background-color: #3B4455;\n",
              "      fill: #D2E3FC;\n",
              "    }\n",
              "\n",
              "    [theme=dark] .colab-df-convert:hover {\n",
              "      background-color: #434B5C;\n",
              "      box-shadow: 0px 1px 3px 1px rgba(0, 0, 0, 0.15);\n",
              "      filter: drop-shadow(0px 1px 2px rgba(0, 0, 0, 0.3));\n",
              "      fill: #FFFFFF;\n",
              "    }\n",
              "  </style>\n",
              "\n",
              "      <script>\n",
              "        const buttonEl =\n",
              "          document.querySelector('#df-730b42d1-53d5-4f90-abf7-3f3b7c439f82 button.colab-df-convert');\n",
              "        buttonEl.style.display =\n",
              "          google.colab.kernel.accessAllowed ? 'block' : 'none';\n",
              "\n",
              "        async function convertToInteractive(key) {\n",
              "          const element = document.querySelector('#df-730b42d1-53d5-4f90-abf7-3f3b7c439f82');\n",
              "          const dataTable =\n",
              "            await google.colab.kernel.invokeFunction('convertToInteractive',\n",
              "                                                     [key], {});\n",
              "          if (!dataTable) return;\n",
              "\n",
              "          const docLinkHtml = 'Like what you see? Visit the ' +\n",
              "            '<a target=\"_blank\" href=https://colab.research.google.com/notebooks/data_table.ipynb>data table notebook</a>'\n",
              "            + ' to learn more about interactive tables.';\n",
              "          element.innerHTML = '';\n",
              "          dataTable['output_type'] = 'display_data';\n",
              "          await google.colab.output.renderOutput(dataTable, element);\n",
              "          const docLink = document.createElement('div');\n",
              "          docLink.innerHTML = docLinkHtml;\n",
              "          element.appendChild(docLink);\n",
              "        }\n",
              "      </script>\n",
              "    </div>\n",
              "  </div>\n",
              "  "
            ]
          },
          "metadata": {},
          "execution_count": 12
        }
      ]
    },
    {
      "cell_type": "code",
      "source": [
        "df.describe()"
      ],
      "metadata": {
        "id": "b4noGV3xsMN8",
        "colab": {
          "base_uri": "https://localhost:8080/",
          "height": 0
        },
        "outputId": "20529f83-7fc0-4494-f722-82396eacda1d"
      },
      "execution_count": 13,
      "outputs": [
        {
          "output_type": "execute_result",
          "data": {
            "text/plain": [
              "              gvkey            sc          asdvc            ta            ni  \\\n",
              "count  19701.000000  19701.000000   19701.000000  1.970100e+04  1.970100e+04   \n",
              "mean    5712.967311   6825.653114    1567.301863  2.657505e+05  5.257289e+03   \n",
              "std     9792.421877   2328.418895    4986.821717  8.520675e+05  2.924193e+04   \n",
              "min       12.000000   1909.000000       1.000000  7.740000e+02 -4.838370e+05   \n",
              "25%      652.000000   5202.000000     156.000000  2.778800e+04  2.760000e+02   \n",
              "50%     1182.000000   6707.000000     390.000000  6.150800e+04  1.042000e+03   \n",
              "75%     6490.000000   9999.000000    1200.000000  1.818650e+05  3.487000e+03   \n",
              "max    91226.000000   9999.000000  244568.000000  2.873160e+07  1.372180e+06   \n",
              "\n",
              "           asdvc/ni      asdvc/ta  \n",
              "count  1.970100e+04  19701.000000  \n",
              "mean            inf      0.006836  \n",
              "std             NaN      0.004123  \n",
              "min   -5.770000e+02      0.000005  \n",
              "25%    1.309614e-01      0.004284  \n",
              "50%    2.562396e-01      0.006190  \n",
              "75%    4.694931e-01      0.008573  \n",
              "max             inf      0.180971  "
            ],
            "text/html": [
              "\n",
              "  <div id=\"df-89771689-5617-4d86-9cff-64ad14661e4e\">\n",
              "    <div class=\"colab-df-container\">\n",
              "      <div>\n",
              "<style scoped>\n",
              "    .dataframe tbody tr th:only-of-type {\n",
              "        vertical-align: middle;\n",
              "    }\n",
              "\n",
              "    .dataframe tbody tr th {\n",
              "        vertical-align: top;\n",
              "    }\n",
              "\n",
              "    .dataframe thead th {\n",
              "        text-align: right;\n",
              "    }\n",
              "</style>\n",
              "<table border=\"1\" class=\"dataframe\">\n",
              "  <thead>\n",
              "    <tr style=\"text-align: right;\">\n",
              "      <th></th>\n",
              "      <th>gvkey</th>\n",
              "      <th>sc</th>\n",
              "      <th>asdvc</th>\n",
              "      <th>ta</th>\n",
              "      <th>ni</th>\n",
              "      <th>asdvc/ni</th>\n",
              "      <th>asdvc/ta</th>\n",
              "    </tr>\n",
              "  </thead>\n",
              "  <tbody>\n",
              "    <tr>\n",
              "      <th>count</th>\n",
              "      <td>19701.000000</td>\n",
              "      <td>19701.000000</td>\n",
              "      <td>19701.000000</td>\n",
              "      <td>1.970100e+04</td>\n",
              "      <td>1.970100e+04</td>\n",
              "      <td>1.970100e+04</td>\n",
              "      <td>19701.000000</td>\n",
              "    </tr>\n",
              "    <tr>\n",
              "      <th>mean</th>\n",
              "      <td>5712.967311</td>\n",
              "      <td>6825.653114</td>\n",
              "      <td>1567.301863</td>\n",
              "      <td>2.657505e+05</td>\n",
              "      <td>5.257289e+03</td>\n",
              "      <td>inf</td>\n",
              "      <td>0.006836</td>\n",
              "    </tr>\n",
              "    <tr>\n",
              "      <th>std</th>\n",
              "      <td>9792.421877</td>\n",
              "      <td>2328.418895</td>\n",
              "      <td>4986.821717</td>\n",
              "      <td>8.520675e+05</td>\n",
              "      <td>2.924193e+04</td>\n",
              "      <td>NaN</td>\n",
              "      <td>0.004123</td>\n",
              "    </tr>\n",
              "    <tr>\n",
              "      <th>min</th>\n",
              "      <td>12.000000</td>\n",
              "      <td>1909.000000</td>\n",
              "      <td>1.000000</td>\n",
              "      <td>7.740000e+02</td>\n",
              "      <td>-4.838370e+05</td>\n",
              "      <td>-5.770000e+02</td>\n",
              "      <td>0.000005</td>\n",
              "    </tr>\n",
              "    <tr>\n",
              "      <th>25%</th>\n",
              "      <td>652.000000</td>\n",
              "      <td>5202.000000</td>\n",
              "      <td>156.000000</td>\n",
              "      <td>2.778800e+04</td>\n",
              "      <td>2.760000e+02</td>\n",
              "      <td>1.309614e-01</td>\n",
              "      <td>0.004284</td>\n",
              "    </tr>\n",
              "    <tr>\n",
              "      <th>50%</th>\n",
              "      <td>1182.000000</td>\n",
              "      <td>6707.000000</td>\n",
              "      <td>390.000000</td>\n",
              "      <td>6.150800e+04</td>\n",
              "      <td>1.042000e+03</td>\n",
              "      <td>2.562396e-01</td>\n",
              "      <td>0.006190</td>\n",
              "    </tr>\n",
              "    <tr>\n",
              "      <th>75%</th>\n",
              "      <td>6490.000000</td>\n",
              "      <td>9999.000000</td>\n",
              "      <td>1200.000000</td>\n",
              "      <td>1.818650e+05</td>\n",
              "      <td>3.487000e+03</td>\n",
              "      <td>4.694931e-01</td>\n",
              "      <td>0.008573</td>\n",
              "    </tr>\n",
              "    <tr>\n",
              "      <th>max</th>\n",
              "      <td>91226.000000</td>\n",
              "      <td>9999.000000</td>\n",
              "      <td>244568.000000</td>\n",
              "      <td>2.873160e+07</td>\n",
              "      <td>1.372180e+06</td>\n",
              "      <td>inf</td>\n",
              "      <td>0.180971</td>\n",
              "    </tr>\n",
              "  </tbody>\n",
              "</table>\n",
              "</div>\n",
              "      <button class=\"colab-df-convert\" onclick=\"convertToInteractive('df-89771689-5617-4d86-9cff-64ad14661e4e')\"\n",
              "              title=\"Convert this dataframe to an interactive table.\"\n",
              "              style=\"display:none;\">\n",
              "        \n",
              "  <svg xmlns=\"http://www.w3.org/2000/svg\" height=\"24px\"viewBox=\"0 0 24 24\"\n",
              "       width=\"24px\">\n",
              "    <path d=\"M0 0h24v24H0V0z\" fill=\"none\"/>\n",
              "    <path d=\"M18.56 5.44l.94 2.06.94-2.06 2.06-.94-2.06-.94-.94-2.06-.94 2.06-2.06.94zm-11 1L8.5 8.5l.94-2.06 2.06-.94-2.06-.94L8.5 2.5l-.94 2.06-2.06.94zm10 10l.94 2.06.94-2.06 2.06-.94-2.06-.94-.94-2.06-.94 2.06-2.06.94z\"/><path d=\"M17.41 7.96l-1.37-1.37c-.4-.4-.92-.59-1.43-.59-.52 0-1.04.2-1.43.59L10.3 9.45l-7.72 7.72c-.78.78-.78 2.05 0 2.83L4 21.41c.39.39.9.59 1.41.59.51 0 1.02-.2 1.41-.59l7.78-7.78 2.81-2.81c.8-.78.8-2.07 0-2.86zM5.41 20L4 18.59l7.72-7.72 1.47 1.35L5.41 20z\"/>\n",
              "  </svg>\n",
              "      </button>\n",
              "      \n",
              "  <style>\n",
              "    .colab-df-container {\n",
              "      display:flex;\n",
              "      flex-wrap:wrap;\n",
              "      gap: 12px;\n",
              "    }\n",
              "\n",
              "    .colab-df-convert {\n",
              "      background-color: #E8F0FE;\n",
              "      border: none;\n",
              "      border-radius: 50%;\n",
              "      cursor: pointer;\n",
              "      display: none;\n",
              "      fill: #1967D2;\n",
              "      height: 32px;\n",
              "      padding: 0 0 0 0;\n",
              "      width: 32px;\n",
              "    }\n",
              "\n",
              "    .colab-df-convert:hover {\n",
              "      background-color: #E2EBFA;\n",
              "      box-shadow: 0px 1px 2px rgba(60, 64, 67, 0.3), 0px 1px 3px 1px rgba(60, 64, 67, 0.15);\n",
              "      fill: #174EA6;\n",
              "    }\n",
              "\n",
              "    [theme=dark] .colab-df-convert {\n",
              "      background-color: #3B4455;\n",
              "      fill: #D2E3FC;\n",
              "    }\n",
              "\n",
              "    [theme=dark] .colab-df-convert:hover {\n",
              "      background-color: #434B5C;\n",
              "      box-shadow: 0px 1px 3px 1px rgba(0, 0, 0, 0.15);\n",
              "      filter: drop-shadow(0px 1px 2px rgba(0, 0, 0, 0.3));\n",
              "      fill: #FFFFFF;\n",
              "    }\n",
              "  </style>\n",
              "\n",
              "      <script>\n",
              "        const buttonEl =\n",
              "          document.querySelector('#df-89771689-5617-4d86-9cff-64ad14661e4e button.colab-df-convert');\n",
              "        buttonEl.style.display =\n",
              "          google.colab.kernel.accessAllowed ? 'block' : 'none';\n",
              "\n",
              "        async function convertToInteractive(key) {\n",
              "          const element = document.querySelector('#df-89771689-5617-4d86-9cff-64ad14661e4e');\n",
              "          const dataTable =\n",
              "            await google.colab.kernel.invokeFunction('convertToInteractive',\n",
              "                                                     [key], {});\n",
              "          if (!dataTable) return;\n",
              "\n",
              "          const docLinkHtml = 'Like what you see? Visit the ' +\n",
              "            '<a target=\"_blank\" href=https://colab.research.google.com/notebooks/data_table.ipynb>data table notebook</a>'\n",
              "            + ' to learn more about interactive tables.';\n",
              "          element.innerHTML = '';\n",
              "          dataTable['output_type'] = 'display_data';\n",
              "          await google.colab.output.renderOutput(dataTable, element);\n",
              "          const docLink = document.createElement('div');\n",
              "          docLink.innerHTML = docLinkHtml;\n",
              "          element.appendChild(docLink);\n",
              "        }\n",
              "      </script>\n",
              "    </div>\n",
              "  </div>\n",
              "  "
            ]
          },
          "metadata": {},
          "execution_count": 13
        }
      ]
    },
    {
      "cell_type": "markdown",
      "source": [
        "asdvcの値はミニマムでも正になっており、無配当のデータはない。"
      ],
      "metadata": {
        "id": "MTqveqNJAa6m"
      }
    },
    {
      "cell_type": "markdown",
      "metadata": {
        "id": "0iudS5jzX6Ss"
      },
      "source": [
        "# グラフ作成準備"
      ]
    },
    {
      "cell_type": "markdown",
      "source": [
        "グラフ作成ライブラリを読み込む"
      ],
      "metadata": {
        "id": "10a6AjZ8tSVQ"
      }
    },
    {
      "cell_type": "code",
      "source": [
        "import warnings\n",
        "warnings.simplefilter('ignore')\n",
        "import matplotlib.pyplot as plt\n",
        "%matplotlib inline"
      ],
      "metadata": {
        "id": "B5MG8_rbtR-H"
      },
      "execution_count": 14,
      "outputs": []
    },
    {
      "cell_type": "markdown",
      "source": [
        "使用可能なグラフスタイルを一覧表示"
      ],
      "metadata": {
        "id": "wJLPSkC9vJNY"
      }
    },
    {
      "cell_type": "code",
      "source": [
        "plt.style.available"
      ],
      "metadata": {
        "id": "HMEPKpV9m2FR",
        "colab": {
          "base_uri": "https://localhost:8080/"
        },
        "outputId": "61a1d68e-5071-4330-e227-d69ecb2e3ed4"
      },
      "execution_count": 15,
      "outputs": [
        {
          "output_type": "execute_result",
          "data": {
            "text/plain": [
              "['Solarize_Light2',\n",
              " '_classic_test_patch',\n",
              " 'bmh',\n",
              " 'classic',\n",
              " 'dark_background',\n",
              " 'fast',\n",
              " 'fivethirtyeight',\n",
              " 'ggplot',\n",
              " 'grayscale',\n",
              " 'seaborn',\n",
              " 'seaborn-bright',\n",
              " 'seaborn-colorblind',\n",
              " 'seaborn-dark',\n",
              " 'seaborn-dark-palette',\n",
              " 'seaborn-darkgrid',\n",
              " 'seaborn-deep',\n",
              " 'seaborn-muted',\n",
              " 'seaborn-notebook',\n",
              " 'seaborn-paper',\n",
              " 'seaborn-pastel',\n",
              " 'seaborn-poster',\n",
              " 'seaborn-talk',\n",
              " 'seaborn-ticks',\n",
              " 'seaborn-white',\n",
              " 'seaborn-whitegrid',\n",
              " 'tableau-colorblind10']"
            ]
          },
          "metadata": {},
          "execution_count": 15
        }
      ]
    },
    {
      "cell_type": "markdown",
      "source": [
        "グラフスタイルを選択"
      ],
      "metadata": {
        "id": "CewA1OQyvP9j"
      }
    },
    {
      "cell_type": "code",
      "source": [
        "plt.style.use('ggplot')"
      ],
      "metadata": {
        "id": "u_FNopAfuqL1"
      },
      "execution_count": 16,
      "outputs": []
    },
    {
      "cell_type": "markdown",
      "source": [
        "# Eually Weighted Average\n"
      ],
      "metadata": {
        "id": "LdpFflADJGVw"
      }
    },
    {
      "cell_type": "markdown",
      "source": [
        "各年ごとの平均データを作成"
      ],
      "metadata": {
        "id": "VgsLapAoE-X5"
      }
    },
    {
      "cell_type": "code",
      "source": [
        "dfe = df[['asdvc/ni', 'asdvc/ta']].mean(level=0)\n",
        "dfe = dfe.sort_values('fy')\n",
        "dfe"
      ],
      "metadata": {
        "id": "vzo5qQbmHh6Z",
        "colab": {
          "base_uri": "https://localhost:8080/",
          "height": 1000
        },
        "outputId": "f46f5821-e78e-45e0-92f8-19825bb2e538"
      },
      "execution_count": 18,
      "outputs": [
        {
          "output_type": "execute_result",
          "data": {
            "text/plain": [
              "      asdvc/ni  asdvc/ta\n",
              "fy                      \n",
              "1974  0.333396  0.008994\n",
              "1975  2.183877  0.007737\n",
              "1976  0.252884  0.008685\n",
              "1977  0.364753  0.009094\n",
              "1978  0.239205  0.009796\n",
              "1979  0.327929  0.009026\n",
              "1980  0.278991  0.008583\n",
              "1981  0.195128  0.008866\n",
              "1982  0.285387  0.008626\n",
              "1983  0.366340  0.008917\n",
              "1984  0.444584  0.007833\n",
              "1985  0.448899  0.007727\n",
              "1986       NaN  0.007948\n",
              "1987       NaN  0.007482\n",
              "1988  0.343371  0.006817\n",
              "1989  0.419265  0.006708\n",
              "1990  0.624002  0.006368\n",
              "1991  0.422603  0.006306\n",
              "1992  0.432143  0.006534\n",
              "1993  0.706207  0.006527\n",
              "1994       NaN  0.006303\n",
              "1995  0.266681  0.006194\n",
              "1996  0.667625  0.006256\n",
              "1997       NaN  0.006327\n",
              "1998  0.991972  0.006532\n",
              "1999  0.718198  0.006559\n",
              "2000  0.519046  0.006178\n",
              "2001  0.743648  0.006361\n",
              "2002  0.450572  0.006740\n",
              "2003  0.598851  0.006755\n",
              "2004  0.482603  0.006956\n",
              "2005  0.285659  0.007674\n",
              "2006  0.252942  0.008297"
            ],
            "text/html": [
              "\n",
              "  <div id=\"df-9b26fb4d-3ff3-42f1-9acf-284d640b744a\">\n",
              "    <div class=\"colab-df-container\">\n",
              "      <div>\n",
              "<style scoped>\n",
              "    .dataframe tbody tr th:only-of-type {\n",
              "        vertical-align: middle;\n",
              "    }\n",
              "\n",
              "    .dataframe tbody tr th {\n",
              "        vertical-align: top;\n",
              "    }\n",
              "\n",
              "    .dataframe thead th {\n",
              "        text-align: right;\n",
              "    }\n",
              "</style>\n",
              "<table border=\"1\" class=\"dataframe\">\n",
              "  <thead>\n",
              "    <tr style=\"text-align: right;\">\n",
              "      <th></th>\n",
              "      <th>asdvc/ni</th>\n",
              "      <th>asdvc/ta</th>\n",
              "    </tr>\n",
              "    <tr>\n",
              "      <th>fy</th>\n",
              "      <th></th>\n",
              "      <th></th>\n",
              "    </tr>\n",
              "  </thead>\n",
              "  <tbody>\n",
              "    <tr>\n",
              "      <th>1974</th>\n",
              "      <td>0.333396</td>\n",
              "      <td>0.008994</td>\n",
              "    </tr>\n",
              "    <tr>\n",
              "      <th>1975</th>\n",
              "      <td>2.183877</td>\n",
              "      <td>0.007737</td>\n",
              "    </tr>\n",
              "    <tr>\n",
              "      <th>1976</th>\n",
              "      <td>0.252884</td>\n",
              "      <td>0.008685</td>\n",
              "    </tr>\n",
              "    <tr>\n",
              "      <th>1977</th>\n",
              "      <td>0.364753</td>\n",
              "      <td>0.009094</td>\n",
              "    </tr>\n",
              "    <tr>\n",
              "      <th>1978</th>\n",
              "      <td>0.239205</td>\n",
              "      <td>0.009796</td>\n",
              "    </tr>\n",
              "    <tr>\n",
              "      <th>1979</th>\n",
              "      <td>0.327929</td>\n",
              "      <td>0.009026</td>\n",
              "    </tr>\n",
              "    <tr>\n",
              "      <th>1980</th>\n",
              "      <td>0.278991</td>\n",
              "      <td>0.008583</td>\n",
              "    </tr>\n",
              "    <tr>\n",
              "      <th>1981</th>\n",
              "      <td>0.195128</td>\n",
              "      <td>0.008866</td>\n",
              "    </tr>\n",
              "    <tr>\n",
              "      <th>1982</th>\n",
              "      <td>0.285387</td>\n",
              "      <td>0.008626</td>\n",
              "    </tr>\n",
              "    <tr>\n",
              "      <th>1983</th>\n",
              "      <td>0.366340</td>\n",
              "      <td>0.008917</td>\n",
              "    </tr>\n",
              "    <tr>\n",
              "      <th>1984</th>\n",
              "      <td>0.444584</td>\n",
              "      <td>0.007833</td>\n",
              "    </tr>\n",
              "    <tr>\n",
              "      <th>1985</th>\n",
              "      <td>0.448899</td>\n",
              "      <td>0.007727</td>\n",
              "    </tr>\n",
              "    <tr>\n",
              "      <th>1986</th>\n",
              "      <td>NaN</td>\n",
              "      <td>0.007948</td>\n",
              "    </tr>\n",
              "    <tr>\n",
              "      <th>1987</th>\n",
              "      <td>NaN</td>\n",
              "      <td>0.007482</td>\n",
              "    </tr>\n",
              "    <tr>\n",
              "      <th>1988</th>\n",
              "      <td>0.343371</td>\n",
              "      <td>0.006817</td>\n",
              "    </tr>\n",
              "    <tr>\n",
              "      <th>1989</th>\n",
              "      <td>0.419265</td>\n",
              "      <td>0.006708</td>\n",
              "    </tr>\n",
              "    <tr>\n",
              "      <th>1990</th>\n",
              "      <td>0.624002</td>\n",
              "      <td>0.006368</td>\n",
              "    </tr>\n",
              "    <tr>\n",
              "      <th>1991</th>\n",
              "      <td>0.422603</td>\n",
              "      <td>0.006306</td>\n",
              "    </tr>\n",
              "    <tr>\n",
              "      <th>1992</th>\n",
              "      <td>0.432143</td>\n",
              "      <td>0.006534</td>\n",
              "    </tr>\n",
              "    <tr>\n",
              "      <th>1993</th>\n",
              "      <td>0.706207</td>\n",
              "      <td>0.006527</td>\n",
              "    </tr>\n",
              "    <tr>\n",
              "      <th>1994</th>\n",
              "      <td>NaN</td>\n",
              "      <td>0.006303</td>\n",
              "    </tr>\n",
              "    <tr>\n",
              "      <th>1995</th>\n",
              "      <td>0.266681</td>\n",
              "      <td>0.006194</td>\n",
              "    </tr>\n",
              "    <tr>\n",
              "      <th>1996</th>\n",
              "      <td>0.667625</td>\n",
              "      <td>0.006256</td>\n",
              "    </tr>\n",
              "    <tr>\n",
              "      <th>1997</th>\n",
              "      <td>NaN</td>\n",
              "      <td>0.006327</td>\n",
              "    </tr>\n",
              "    <tr>\n",
              "      <th>1998</th>\n",
              "      <td>0.991972</td>\n",
              "      <td>0.006532</td>\n",
              "    </tr>\n",
              "    <tr>\n",
              "      <th>1999</th>\n",
              "      <td>0.718198</td>\n",
              "      <td>0.006559</td>\n",
              "    </tr>\n",
              "    <tr>\n",
              "      <th>2000</th>\n",
              "      <td>0.519046</td>\n",
              "      <td>0.006178</td>\n",
              "    </tr>\n",
              "    <tr>\n",
              "      <th>2001</th>\n",
              "      <td>0.743648</td>\n",
              "      <td>0.006361</td>\n",
              "    </tr>\n",
              "    <tr>\n",
              "      <th>2002</th>\n",
              "      <td>0.450572</td>\n",
              "      <td>0.006740</td>\n",
              "    </tr>\n",
              "    <tr>\n",
              "      <th>2003</th>\n",
              "      <td>0.598851</td>\n",
              "      <td>0.006755</td>\n",
              "    </tr>\n",
              "    <tr>\n",
              "      <th>2004</th>\n",
              "      <td>0.482603</td>\n",
              "      <td>0.006956</td>\n",
              "    </tr>\n",
              "    <tr>\n",
              "      <th>2005</th>\n",
              "      <td>0.285659</td>\n",
              "      <td>0.007674</td>\n",
              "    </tr>\n",
              "    <tr>\n",
              "      <th>2006</th>\n",
              "      <td>0.252942</td>\n",
              "      <td>0.008297</td>\n",
              "    </tr>\n",
              "  </tbody>\n",
              "</table>\n",
              "</div>\n",
              "      <button class=\"colab-df-convert\" onclick=\"convertToInteractive('df-9b26fb4d-3ff3-42f1-9acf-284d640b744a')\"\n",
              "              title=\"Convert this dataframe to an interactive table.\"\n",
              "              style=\"display:none;\">\n",
              "        \n",
              "  <svg xmlns=\"http://www.w3.org/2000/svg\" height=\"24px\"viewBox=\"0 0 24 24\"\n",
              "       width=\"24px\">\n",
              "    <path d=\"M0 0h24v24H0V0z\" fill=\"none\"/>\n",
              "    <path d=\"M18.56 5.44l.94 2.06.94-2.06 2.06-.94-2.06-.94-.94-2.06-.94 2.06-2.06.94zm-11 1L8.5 8.5l.94-2.06 2.06-.94-2.06-.94L8.5 2.5l-.94 2.06-2.06.94zm10 10l.94 2.06.94-2.06 2.06-.94-2.06-.94-.94-2.06-.94 2.06-2.06.94z\"/><path d=\"M17.41 7.96l-1.37-1.37c-.4-.4-.92-.59-1.43-.59-.52 0-1.04.2-1.43.59L10.3 9.45l-7.72 7.72c-.78.78-.78 2.05 0 2.83L4 21.41c.39.39.9.59 1.41.59.51 0 1.02-.2 1.41-.59l7.78-7.78 2.81-2.81c.8-.78.8-2.07 0-2.86zM5.41 20L4 18.59l7.72-7.72 1.47 1.35L5.41 20z\"/>\n",
              "  </svg>\n",
              "      </button>\n",
              "      \n",
              "  <style>\n",
              "    .colab-df-container {\n",
              "      display:flex;\n",
              "      flex-wrap:wrap;\n",
              "      gap: 12px;\n",
              "    }\n",
              "\n",
              "    .colab-df-convert {\n",
              "      background-color: #E8F0FE;\n",
              "      border: none;\n",
              "      border-radius: 50%;\n",
              "      cursor: pointer;\n",
              "      display: none;\n",
              "      fill: #1967D2;\n",
              "      height: 32px;\n",
              "      padding: 0 0 0 0;\n",
              "      width: 32px;\n",
              "    }\n",
              "\n",
              "    .colab-df-convert:hover {\n",
              "      background-color: #E2EBFA;\n",
              "      box-shadow: 0px 1px 2px rgba(60, 64, 67, 0.3), 0px 1px 3px 1px rgba(60, 64, 67, 0.15);\n",
              "      fill: #174EA6;\n",
              "    }\n",
              "\n",
              "    [theme=dark] .colab-df-convert {\n",
              "      background-color: #3B4455;\n",
              "      fill: #D2E3FC;\n",
              "    }\n",
              "\n",
              "    [theme=dark] .colab-df-convert:hover {\n",
              "      background-color: #434B5C;\n",
              "      box-shadow: 0px 1px 3px 1px rgba(0, 0, 0, 0.15);\n",
              "      filter: drop-shadow(0px 1px 2px rgba(0, 0, 0, 0.3));\n",
              "      fill: #FFFFFF;\n",
              "    }\n",
              "  </style>\n",
              "\n",
              "      <script>\n",
              "        const buttonEl =\n",
              "          document.querySelector('#df-9b26fb4d-3ff3-42f1-9acf-284d640b744a button.colab-df-convert');\n",
              "        buttonEl.style.display =\n",
              "          google.colab.kernel.accessAllowed ? 'block' : 'none';\n",
              "\n",
              "        async function convertToInteractive(key) {\n",
              "          const element = document.querySelector('#df-9b26fb4d-3ff3-42f1-9acf-284d640b744a');\n",
              "          const dataTable =\n",
              "            await google.colab.kernel.invokeFunction('convertToInteractive',\n",
              "                                                     [key], {});\n",
              "          if (!dataTable) return;\n",
              "\n",
              "          const docLinkHtml = 'Like what you see? Visit the ' +\n",
              "            '<a target=\"_blank\" href=https://colab.research.google.com/notebooks/data_table.ipynb>data table notebook</a>'\n",
              "            + ' to learn more about interactive tables.';\n",
              "          element.innerHTML = '';\n",
              "          dataTable['output_type'] = 'display_data';\n",
              "          await google.colab.output.renderOutput(dataTable, element);\n",
              "          const docLink = document.createElement('div');\n",
              "          docLink.innerHTML = docLinkHtml;\n",
              "          element.appendChild(docLink);\n",
              "        }\n",
              "      </script>\n",
              "    </div>\n",
              "  </div>\n",
              "  "
            ]
          },
          "metadata": {},
          "execution_count": 18
        }
      ]
    },
    {
      "cell_type": "markdown",
      "source": [
        "A. The Ratio of Total Payout to Net Income"
      ],
      "metadata": {
        "id": "6A-2sMWtBRLG"
      }
    },
    {
      "cell_type": "code",
      "source": [
        "dfe[['asdvc/ni']].plot.line(\n",
        "    title='A. The Ratio of Dividends to Net Income', \n",
        "    color = (\"r\") , xlabel = \"\", figsize=(24, 8), rot=-45)"
      ],
      "metadata": {
        "id": "wFvUctFu-2Gq",
        "colab": {
          "base_uri": "https://localhost:8080/",
          "height": 533
        },
        "outputId": "d9f39c6a-9460-41a9-caf3-efbb2c81e624"
      },
      "execution_count": 19,
      "outputs": [
        {
          "output_type": "execute_result",
          "data": {
            "text/plain": [
              "<matplotlib.axes._subplots.AxesSubplot at 0x7fd61dc6a490>"
            ]
          },
          "metadata": {},
          "execution_count": 19
        },
        {
          "output_type": "display_data",
          "data": {
            "text/plain": [
              "<Figure size 1728x576 with 1 Axes>"
            ],
            "image/png": "[encoded data removed]"
          },
          "metadata": {}
        }
      ]
    },
    {
      "cell_type": "markdown",
      "source": [
        "B. Dividendsut (All as a Fraction of Toatal Assets)"
      ],
      "metadata": {
        "id": "AsvXfUTxBQ9Q"
      }
    },
    {
      "cell_type": "code",
      "source": [
        "dfe[['asdvc/ta']].plot.line(\n",
        "     title='A. The Ratio of Dividends to Total Assets', \n",
        "     color = (\"r\"), xlabel = \"\", figsize=(24, 8), rot=-45)"
      ],
      "metadata": {
        "id": "zKwYi3TDK0Kt",
        "colab": {
          "base_uri": "https://localhost:8080/",
          "height": 533
        },
        "outputId": "9afd60b5-54a2-4eac-8f34-58424b50ae4d"
      },
      "execution_count": 20,
      "outputs": [
        {
          "output_type": "execute_result",
          "data": {
            "text/plain": [
              "<matplotlib.axes._subplots.AxesSubplot at 0x7fd61dca95d0>"
            ]
          },
          "metadata": {},
          "execution_count": 20
        },
        {
          "output_type": "display_data",
          "data": {
            "text/plain": [
              "<Figure size 1728x576 with 1 Axes>"
            ],
            "image/png": "[encoded data removed]"
          },
          "metadata": {}
        }
      ]
    },
    {
      "cell_type": "markdown",
      "source": [
        "# Asset-Weighted Average"
      ],
      "metadata": {
        "id": "F98xzEkTJ0rU"
      }
    },
    {
      "cell_type": "markdown",
      "source": [
        "必要な項目を抽出し、まず、個々の企業、年度で対応するtaをかける"
      ],
      "metadata": {
        "id": "OFx5aOdqPVq3"
      }
    },
    {
      "cell_type": "code",
      "source": [
        "dfa = df[['ta', 'asdvc/ni', 'asdvc/ta']]"
      ],
      "metadata": {
        "id": "vDFBtP49So8H"
      },
      "execution_count": 21,
      "outputs": []
    },
    {
      "cell_type": "code",
      "source": [
        "for i in range(1,len(dfa.columns)):\n",
        "   dfa.iloc[:,i] = dfa.iloc[:,i] * df['ta']"
      ],
      "metadata": {
        "id": "wGt2R-YxTtBP"
      },
      "execution_count": 22,
      "outputs": []
    },
    {
      "cell_type": "markdown",
      "source": [
        "各企業のデータを年度で合計し、各項目をtaの年度ごとの合計で割る"
      ],
      "metadata": {
        "id": "SsmUN7uxNvs6"
      }
    },
    {
      "cell_type": "code",
      "source": [
        "dfa = dfa.sum(level=0)"
      ],
      "metadata": {
        "id": "Km6XtrH5LbUb"
      },
      "execution_count": 23,
      "outputs": []
    },
    {
      "cell_type": "code",
      "source": [
        "for i in range(len(dfa.columns)):\n",
        "   dfa.iloc[:,i] = dfa.iloc[:,i] / dfa['ta']"
      ],
      "metadata": {
        "id": "GqJ_GoXYnf3q"
      },
      "execution_count": 24,
      "outputs": []
    },
    {
      "cell_type": "code",
      "source": [
        "dfa = dfa.sort_values('fy')\n",
        "dfa"
      ],
      "metadata": {
        "colab": {
          "base_uri": "https://localhost:8080/",
          "height": 1000
        },
        "id": "WwsiXECtR3rN",
        "outputId": "67bc4fe8-0a1e-4041-e13e-3028a1a87b51"
      },
      "execution_count": 28,
      "outputs": [
        {
          "output_type": "execute_result",
          "data": {
            "text/plain": [
              "       ta      asdvc/ni   asdvc/ta\n",
              "fy                                \n",
              "1974  1.0  3.425748e+06    70422.0\n",
              "1975  1.0  9.483917e+06    62102.0\n",
              "1976  1.0  6.068402e+05    72087.0\n",
              "1977  1.0  7.437452e+06    87302.0\n",
              "1978  1.0  1.345523e+07   145145.0\n",
              "1979  1.0  7.151534e+06   156016.0\n",
              "1980  1.0  6.064190e+06   172541.0\n",
              "1981  1.0  7.906249e+06   212808.0\n",
              "1982  1.0  9.655601e+06   226948.0\n",
              "1983  1.0  1.126728e+07   251178.0\n",
              "1984  1.0  1.438659e+08   666957.0\n",
              "1985  1.0  4.120402e+07   753882.0\n",
              "1986  1.0           NaN   837206.0\n",
              "1987  1.0           NaN   805174.0\n",
              "1988  1.0  5.614821e+07   871295.0\n",
              "1989  1.0  5.264968e+07  1033345.0\n",
              "1990  1.0  7.836652e+07  1160581.0\n",
              "1991  1.0  9.104438e+07  1292332.0\n",
              "1992  1.0  9.561931e+07  1357344.0\n",
              "1993  1.0  3.078410e+08  1345856.0\n",
              "1994  1.0           NaN  1220603.0\n",
              "1995  1.0  1.580279e+08  1174770.0\n",
              "1996  1.0  1.023554e+08  1270809.0\n",
              "1997  1.0           NaN  1368034.0\n",
              "1998  1.0  3.376227e+08  1471546.0\n",
              "1999  1.0  8.389675e+07  1378762.0\n",
              "2000  1.0  9.294183e+07  1250468.0\n",
              "2001  1.0  3.385765e+08  1377567.0\n",
              "2002  1.0  9.536969e+07  1452180.0\n",
              "2003  1.0  7.085008e+07  1372537.0\n",
              "2004  1.0  8.607119e+07  1642535.0\n",
              "2005  1.0  7.917396e+07  1964850.0\n",
              "2006  1.0  8.193726e+07  2352232.0"
            ],
            "text/html": [
              "\n",
              "  <div id=\"df-d97e25b1-e147-4104-8507-b16200030a29\">\n",
              "    <div class=\"colab-df-container\">\n",
              "      <div>\n",
              "<style scoped>\n",
              "    .dataframe tbody tr th:only-of-type {\n",
              "        vertical-align: middle;\n",
              "    }\n",
              "\n",
              "    .dataframe tbody tr th {\n",
              "        vertical-align: top;\n",
              "    }\n",
              "\n",
              "    .dataframe thead th {\n",
              "        text-align: right;\n",
              "    }\n",
              "</style>\n",
              "<table border=\"1\" class=\"dataframe\">\n",
              "  <thead>\n",
              "    <tr style=\"text-align: right;\">\n",
              "      <th></th>\n",
              "      <th>ta</th>\n",
              "      <th>asdvc/ni</th>\n",
              "      <th>asdvc/ta</th>\n",
              "    </tr>\n",
              "    <tr>\n",
              "      <th>fy</th>\n",
              "      <th></th>\n",
              "      <th></th>\n",
              "      <th></th>\n",
              "    </tr>\n",
              "  </thead>\n",
              "  <tbody>\n",
              "    <tr>\n",
              "      <th>1974</th>\n",
              "      <td>1.0</td>\n",
              "      <td>3.425748e+06</td>\n",
              "      <td>70422.0</td>\n",
              "    </tr>\n",
              "    <tr>\n",
              "      <th>1975</th>\n",
              "      <td>1.0</td>\n",
              "      <td>9.483917e+06</td>\n",
              "      <td>62102.0</td>\n",
              "    </tr>\n",
              "    <tr>\n",
              "      <th>1976</th>\n",
              "      <td>1.0</td>\n",
              "      <td>6.068402e+05</td>\n",
              "      <td>72087.0</td>\n",
              "    </tr>\n",
              "    <tr>\n",
              "      <th>1977</th>\n",
              "      <td>1.0</td>\n",
              "      <td>7.437452e+06</td>\n",
              "      <td>87302.0</td>\n",
              "    </tr>\n",
              "    <tr>\n",
              "      <th>1978</th>\n",
              "      <td>1.0</td>\n",
              "      <td>1.345523e+07</td>\n",
              "      <td>145145.0</td>\n",
              "    </tr>\n",
              "    <tr>\n",
              "      <th>1979</th>\n",
              "      <td>1.0</td>\n",
              "      <td>7.151534e+06</td>\n",
              "      <td>156016.0</td>\n",
              "    </tr>\n",
              "    <tr>\n",
              "      <th>1980</th>\n",
              "      <td>1.0</td>\n",
              "      <td>6.064190e+06</td>\n",
              "      <td>172541.0</td>\n",
              "    </tr>\n",
              "    <tr>\n",
              "      <th>1981</th>\n",
              "      <td>1.0</td>\n",
              "      <td>7.906249e+06</td>\n",
              "      <td>212808.0</td>\n",
              "    </tr>\n",
              "    <tr>\n",
              "      <th>1982</th>\n",
              "      <td>1.0</td>\n",
              "      <td>9.655601e+06</td>\n",
              "      <td>226948.0</td>\n",
              "    </tr>\n",
              "    <tr>\n",
              "      <th>1983</th>\n",
              "      <td>1.0</td>\n",
              "      <td>1.126728e+07</td>\n",
              "      <td>251178.0</td>\n",
              "    </tr>\n",
              "    <tr>\n",
              "      <th>1984</th>\n",
              "      <td>1.0</td>\n",
              "      <td>1.438659e+08</td>\n",
              "      <td>666957.0</td>\n",
              "    </tr>\n",
              "    <tr>\n",
              "      <th>1985</th>\n",
              "      <td>1.0</td>\n",
              "      <td>4.120402e+07</td>\n",
              "      <td>753882.0</td>\n",
              "    </tr>\n",
              "    <tr>\n",
              "      <th>1986</th>\n",
              "      <td>1.0</td>\n",
              "      <td>NaN</td>\n",
              "      <td>837206.0</td>\n",
              "    </tr>\n",
              "    <tr>\n",
              "      <th>1987</th>\n",
              "      <td>1.0</td>\n",
              "      <td>NaN</td>\n",
              "      <td>805174.0</td>\n",
              "    </tr>\n",
              "    <tr>\n",
              "      <th>1988</th>\n",
              "      <td>1.0</td>\n",
              "      <td>5.614821e+07</td>\n",
              "      <td>871295.0</td>\n",
              "    </tr>\n",
              "    <tr>\n",
              "      <th>1989</th>\n",
              "      <td>1.0</td>\n",
              "      <td>5.264968e+07</td>\n",
              "      <td>1033345.0</td>\n",
              "    </tr>\n",
              "    <tr>\n",
              "      <th>1990</th>\n",
              "      <td>1.0</td>\n",
              "      <td>7.836652e+07</td>\n",
              "      <td>1160581.0</td>\n",
              "    </tr>\n",
              "    <tr>\n",
              "      <th>1991</th>\n",
              "      <td>1.0</td>\n",
              "      <td>9.104438e+07</td>\n",
              "      <td>1292332.0</td>\n",
              "    </tr>\n",
              "    <tr>\n",
              "      <th>1992</th>\n",
              "      <td>1.0</td>\n",
              "      <td>9.561931e+07</td>\n",
              "      <td>1357344.0</td>\n",
              "    </tr>\n",
              "    <tr>\n",
              "      <th>1993</th>\n",
              "      <td>1.0</td>\n",
              "      <td>3.078410e+08</td>\n",
              "      <td>1345856.0</td>\n",
              "    </tr>\n",
              "    <tr>\n",
              "      <th>1994</th>\n",
              "      <td>1.0</td>\n",
              "      <td>NaN</td>\n",
              "      <td>1220603.0</td>\n",
              "    </tr>\n",
              "    <tr>\n",
              "      <th>1995</th>\n",
              "      <td>1.0</td>\n",
              "      <td>1.580279e+08</td>\n",
              "      <td>1174770.0</td>\n",
              "    </tr>\n",
              "    <tr>\n",
              "      <th>1996</th>\n",
              "      <td>1.0</td>\n",
              "      <td>1.023554e+08</td>\n",
              "      <td>1270809.0</td>\n",
              "    </tr>\n",
              "    <tr>\n",
              "      <th>1997</th>\n",
              "      <td>1.0</td>\n",
              "      <td>NaN</td>\n",
              "      <td>1368034.0</td>\n",
              "    </tr>\n",
              "    <tr>\n",
              "      <th>1998</th>\n",
              "      <td>1.0</td>\n",
              "      <td>3.376227e+08</td>\n",
              "      <td>1471546.0</td>\n",
              "    </tr>\n",
              "    <tr>\n",
              "      <th>1999</th>\n",
              "      <td>1.0</td>\n",
              "      <td>8.389675e+07</td>\n",
              "      <td>1378762.0</td>\n",
              "    </tr>\n",
              "    <tr>\n",
              "      <th>2000</th>\n",
              "      <td>1.0</td>\n",
              "      <td>9.294183e+07</td>\n",
              "      <td>1250468.0</td>\n",
              "    </tr>\n",
              "    <tr>\n",
              "      <th>2001</th>\n",
              "      <td>1.0</td>\n",
              "      <td>3.385765e+08</td>\n",
              "      <td>1377567.0</td>\n",
              "    </tr>\n",
              "    <tr>\n",
              "      <th>2002</th>\n",
              "      <td>1.0</td>\n",
              "      <td>9.536969e+07</td>\n",
              "      <td>1452180.0</td>\n",
              "    </tr>\n",
              "    <tr>\n",
              "      <th>2003</th>\n",
              "      <td>1.0</td>\n",
              "      <td>7.085008e+07</td>\n",
              "      <td>1372537.0</td>\n",
              "    </tr>\n",
              "    <tr>\n",
              "      <th>2004</th>\n",
              "      <td>1.0</td>\n",
              "      <td>8.607119e+07</td>\n",
              "      <td>1642535.0</td>\n",
              "    </tr>\n",
              "    <tr>\n",
              "      <th>2005</th>\n",
              "      <td>1.0</td>\n",
              "      <td>7.917396e+07</td>\n",
              "      <td>1964850.0</td>\n",
              "    </tr>\n",
              "    <tr>\n",
              "      <th>2006</th>\n",
              "      <td>1.0</td>\n",
              "      <td>8.193726e+07</td>\n",
              "      <td>2352232.0</td>\n",
              "    </tr>\n",
              "  </tbody>\n",
              "</table>\n",
              "</div>\n",
              "      <button class=\"colab-df-convert\" onclick=\"convertToInteractive('df-d97e25b1-e147-4104-8507-b16200030a29')\"\n",
              "              title=\"Convert this dataframe to an interactive table.\"\n",
              "              style=\"display:none;\">\n",
              "        \n",
              "  <svg xmlns=\"http://www.w3.org/2000/svg\" height=\"24px\"viewBox=\"0 0 24 24\"\n",
              "       width=\"24px\">\n",
              "    <path d=\"M0 0h24v24H0V0z\" fill=\"none\"/>\n",
              "    <path d=\"M18.56 5.44l.94 2.06.94-2.06 2.06-.94-2.06-.94-.94-2.06-.94 2.06-2.06.94zm-11 1L8.5 8.5l.94-2.06 2.06-.94-2.06-.94L8.5 2.5l-.94 2.06-2.06.94zm10 10l.94 2.06.94-2.06 2.06-.94-2.06-.94-.94-2.06-.94 2.06-2.06.94z\"/><path d=\"M17.41 7.96l-1.37-1.37c-.4-.4-.92-.59-1.43-.59-.52 0-1.04.2-1.43.59L10.3 9.45l-7.72 7.72c-.78.78-.78 2.05 0 2.83L4 21.41c.39.39.9.59 1.41.59.51 0 1.02-.2 1.41-.59l7.78-7.78 2.81-2.81c.8-.78.8-2.07 0-2.86zM5.41 20L4 18.59l7.72-7.72 1.47 1.35L5.41 20z\"/>\n",
              "  </svg>\n",
              "      </button>\n",
              "      \n",
              "  <style>\n",
              "    .colab-df-container {\n",
              "      display:flex;\n",
              "      flex-wrap:wrap;\n",
              "      gap: 12px;\n",
              "    }\n",
              "\n",
              "    .colab-df-convert {\n",
              "      background-color: #E8F0FE;\n",
              "      border: none;\n",
              "      border-radius: 50%;\n",
              "      cursor: pointer;\n",
              "      display: none;\n",
              "      fill: #1967D2;\n",
              "      height: 32px;\n",
              "      padding: 0 0 0 0;\n",
              "      width: 32px;\n",
              "    }\n",
              "\n",
              "    .colab-df-convert:hover {\n",
              "      background-color: #E2EBFA;\n",
              "      box-shadow: 0px 1px 2px rgba(60, 64, 67, 0.3), 0px 1px 3px 1px rgba(60, 64, 67, 0.15);\n",
              "      fill: #174EA6;\n",
              "    }\n",
              "\n",
              "    [theme=dark] .colab-df-convert {\n",
              "      background-color: #3B4455;\n",
              "      fill: #D2E3FC;\n",
              "    }\n",
              "\n",
              "    [theme=dark] .colab-df-convert:hover {\n",
              "      background-color: #434B5C;\n",
              "      box-shadow: 0px 1px 3px 1px rgba(0, 0, 0, 0.15);\n",
              "      filter: drop-shadow(0px 1px 2px rgba(0, 0, 0, 0.3));\n",
              "      fill: #FFFFFF;\n",
              "    }\n",
              "  </style>\n",
              "\n",
              "      <script>\n",
              "        const buttonEl =\n",
              "          document.querySelector('#df-d97e25b1-e147-4104-8507-b16200030a29 button.colab-df-convert');\n",
              "        buttonEl.style.display =\n",
              "          google.colab.kernel.accessAllowed ? 'block' : 'none';\n",
              "\n",
              "        async function convertToInteractive(key) {\n",
              "          const element = document.querySelector('#df-d97e25b1-e147-4104-8507-b16200030a29');\n",
              "          const dataTable =\n",
              "            await google.colab.kernel.invokeFunction('convertToInteractive',\n",
              "                                                     [key], {});\n",
              "          if (!dataTable) return;\n",
              "\n",
              "          const docLinkHtml = 'Like what you see? Visit the ' +\n",
              "            '<a target=\"_blank\" href=https://colab.research.google.com/notebooks/data_table.ipynb>data table notebook</a>'\n",
              "            + ' to learn more about interactive tables.';\n",
              "          element.innerHTML = '';\n",
              "          dataTable['output_type'] = 'display_data';\n",
              "          await google.colab.output.renderOutput(dataTable, element);\n",
              "          const docLink = document.createElement('div');\n",
              "          docLink.innerHTML = docLinkHtml;\n",
              "          element.appendChild(docLink);\n",
              "        }\n",
              "      </script>\n",
              "    </div>\n",
              "  </div>\n",
              "  "
            ]
          },
          "metadata": {},
          "execution_count": 28
        }
      ]
    },
    {
      "cell_type": "markdown",
      "source": [
        "A. The Ratio of Total Payout to Net Income"
      ],
      "metadata": {
        "id": "kD2Wzs2cFgU3"
      }
    },
    {
      "cell_type": "code",
      "source": [
        "dfa[['asdvc/ni']].plot.line(\n",
        "    title='A. The Ratio of Dividends to Net Income', \n",
        "    color = (\"r\") , xlabel = \"\", figsize=(24, 8), rot=-45)"
      ],
      "metadata": {
        "id": "l0HrNwx2FgU4",
        "colab": {
          "base_uri": "https://localhost:8080/",
          "height": 533
        },
        "outputId": "ffcfbac9-caa6-4786-9129-96a1f8ab0dc6"
      },
      "execution_count": 29,
      "outputs": [
        {
          "output_type": "execute_result",
          "data": {
            "text/plain": [
              "<matplotlib.axes._subplots.AxesSubplot at 0x7fd61d52a710>"
            ]
          },
          "metadata": {},
          "execution_count": 29
        },
        {
          "output_type": "display_data",
          "data": {
            "text/plain": [
              "<Figure size 1728x576 with 1 Axes>"
            ],
            "image/png": "[encoded data removed]"
          },
          "metadata": {}
        }
      ]
    },
    {
      "cell_type": "markdown",
      "source": [
        "B. Dividendsut (All as a Fraction of Toatal Assets)"
      ],
      "metadata": {
        "id": "NwSOKx0sFgU4"
      }
    },
    {
      "cell_type": "code",
      "source": [
        "dfa[['asdvc/ta']].plot.line(\n",
        "     title='A. The Ratio of Dividends to Total Assets', \n",
        "     color = (\"r\"), xlabel = \"\", figsize=(24, 8), rot=-45)"
      ],
      "metadata": {
        "id": "LS17GPT2FgU4",
        "colab": {
          "base_uri": "https://localhost:8080/",
          "height": 533
        },
        "outputId": "9b9f1c88-8eb4-4267-be03-b58897982e05"
      },
      "execution_count": 30,
      "outputs": [
        {
          "output_type": "execute_result",
          "data": {
            "text/plain": [
              "<matplotlib.axes._subplots.AxesSubplot at 0x7fd61d463150>"
            ]
          },
          "metadata": {},
          "execution_count": 30
        },
        {
          "output_type": "display_data",
          "data": {
            "text/plain": [
              "<Figure size 1728x576 with 1 Axes>"
            ],
            "image/png": "[encoded data removed]"
          },
          "metadata": {}
        }
      ]
    },
    {
      "cell_type": "markdown",
      "metadata": {
        "id": "SeX6PryS6HLn"
      },
      "source": [
        "# 項目名略称一覧"
      ]
    },
    {
      "cell_type": "markdown",
      "metadata": {
        "id": "W9dk6YGc35Lh"
      },
      "source": [
        "日経会社コード　gvkey\n",
        "\n",
        "株式コード　sc\n",
        "\n",
        "決算期　fy\n",
        "\n",
        "**利益処分計算書**\n",
        "\n",
        "　普通株式配当金　asdvc　（配当したら正）\n",
        "\n",
        "**P/L**\n",
        "\n",
        "　利益　ni\n",
        "\n",
        "**B/S**\n",
        "\n",
        "　総資産　ta"
      ]
    }
  ]
}