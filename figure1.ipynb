{
  "nbformat": 4,
  "nbformat_minor": 0,
  "metadata": {
    "colab": {
      "name": "figure1.ipynb",
      "provenance": [],
      "collapsed_sections": [],
      "include_colab_link": true
    },
    "kernelspec": {
      "name": "python3",
      "display_name": "Python 3"
    },
    "language_info": {
      "name": "python"
    }
  },
  "cells": [
    {
      "cell_type": "markdown",
      "metadata": {
        "id": "view-in-github",
        "colab_type": "text"
      },
      "source": [
        "<a href=\"https://colab.research.google.com/github/tsenga2/keio-senga-seminar/blob/main/figure1.ipynb\" target=\"_parent\"><img src=\"https://colab.research.google.com/assets/colab-badge.svg\" alt=\"Open In Colab\"/></a>"
      ]
    },
    {
      "cell_type": "markdown",
      "source": [
        "# データの準備"
      ],
      "metadata": {
        "id": "y476X6xnEoG0"
      }
    },
    {
      "cell_type": "code",
      "execution_count": 34,
      "metadata": {
        "id": "Yvt5_wzcHxM-"
      },
      "outputs": [],
      "source": [
        "!pip install -U -q PyDrive\n",
        "from pydrive.auth import GoogleAuth\n",
        "from pydrive.drive import GoogleDrive\n",
        "from google.colab import auth\n",
        "from oauth2client.client import GoogleCredentials\n",
        "\n",
        "auth.authenticate_user()\n",
        "gauth = GoogleAuth()\n",
        "gauth.credentials = GoogleCredentials.get_application_default()\n",
        "drive = GoogleDrive(gauth)"
      ]
    },
    {
      "cell_type": "markdown",
      "source": [
        "**ライブラリのインストール**\n",
        "\n",
        "*   Pandas\n",
        "*   Matplotlib\n",
        "*   NmPy\n"
      ],
      "metadata": {
        "id": "a3Dkbci1GrMq"
      }
    },
    {
      "cell_type": "code",
      "source": [
        "import pandas as pd\n",
        "import matplotlib.pyplot as plt\n",
        "from matplotlib import cm\n",
        "import numpy as np"
      ],
      "metadata": {
        "id": "CJc8xTAwH9Pu"
      },
      "execution_count": 35,
      "outputs": []
    },
    {
      "cell_type": "markdown",
      "source": [
        "**ファイルのダウンロード**\n",
        "\n",
        "*   一つ目：東証一部\n",
        "*   二つ目：東証全体\n",
        "\n"
      ],
      "metadata": {
        "id": "eFgAb3-3Exia"
      }
    },
    {
      "cell_type": "code",
      "source": [
        "fileDownloaded = drive.CreateFile({'id': '1PeQWDO2Q4H0UvKrxXpurhDxE8eOf74Ht'})\n",
        "fileDownloaded.GetContentFile('figure1.csv')\n",
        "fileDownloaded = drive.CreateFile({'id': '1WWtjjwneBvK3wP0SEDTW4mjLtF6XQ7_M'})\n",
        "fileDownloaded.GetContentFile('figure1-a.csv')"
      ],
      "metadata": {
        "id": "YxPFq-gJN8j9"
      },
      "execution_count": 36,
      "outputs": []
    },
    {
      "cell_type": "markdown",
      "source": [
        "# データの整理"
      ],
      "metadata": {
        "id": "5cgMcOxaE2FE"
      }
    },
    {
      "cell_type": "markdown",
      "source": [
        "**東証一部のみのデータ**\n",
        "\n",
        "\n"
      ],
      "metadata": {
        "id": "m8V364kOk381"
      }
    },
    {
      "cell_type": "markdown",
      "source": [
        "* 不要な列の消去と名称変更\n"
      ],
      "metadata": {
        "id": "p6Ye0KOELVv4"
      }
    },
    {
      "cell_type": "code",
      "source": [
        "df1 = pd.read_csv('figure1.csv',encoding = \"cp932\")\n",
        "df1 = df1.drop(columns=['株式コード','日経会社コード','上場コード','銘柄名称'])\n",
        "df1 = df1.rename(columns={'期間':'Year'})\n",
        "df1 = df1.rename(columns={'時価総額（発行済み株式数ベース）':'Aggregate market capitalization'})\n",
        "df1.head()"
      ],
      "metadata": {
        "colab": {
          "base_uri": "https://localhost:8080/",
          "height": 0
        },
        "id": "B1bowwbPN_r6",
        "outputId": "c89698be-cf9f-4323-8795-d53cd4ed4f21"
      },
      "execution_count": 37,
      "outputs": [
        {
          "output_type": "execute_result",
          "data": {
            "text/plain": [
              "   Year  Aggregate market capitalization\n",
              "0  1985                     2.639471e+10\n",
              "1  1985                     2.631872e+10\n",
              "2  1985                     8.350418e+10\n",
              "3  1985                     8.040000e+10\n",
              "4  1985                              NaN"
            ],
            "text/html": [
              "\n",
              "  <div id=\"df-13b11701-09d2-4a6b-ab9c-b906f11dd0a1\">\n",
              "    <div class=\"colab-df-container\">\n",
              "      <div>\n",
              "<style scoped>\n",
              "    .dataframe tbody tr th:only-of-type {\n",
              "        vertical-align: middle;\n",
              "    }\n",
              "\n",
              "    .dataframe tbody tr th {\n",
              "        vertical-align: top;\n",
              "    }\n",
              "\n",
              "    .dataframe thead th {\n",
              "        text-align: right;\n",
              "    }\n",
              "</style>\n",
              "<table border=\"1\" class=\"dataframe\">\n",
              "  <thead>\n",
              "    <tr style=\"text-align: right;\">\n",
              "      <th></th>\n",
              "      <th>Year</th>\n",
              "      <th>Aggregate market capitalization</th>\n",
              "    </tr>\n",
              "  </thead>\n",
              "  <tbody>\n",
              "    <tr>\n",
              "      <th>0</th>\n",
              "      <td>1985</td>\n",
              "      <td>2.639471e+10</td>\n",
              "    </tr>\n",
              "    <tr>\n",
              "      <th>1</th>\n",
              "      <td>1985</td>\n",
              "      <td>2.631872e+10</td>\n",
              "    </tr>\n",
              "    <tr>\n",
              "      <th>2</th>\n",
              "      <td>1985</td>\n",
              "      <td>8.350418e+10</td>\n",
              "    </tr>\n",
              "    <tr>\n",
              "      <th>3</th>\n",
              "      <td>1985</td>\n",
              "      <td>8.040000e+10</td>\n",
              "    </tr>\n",
              "    <tr>\n",
              "      <th>4</th>\n",
              "      <td>1985</td>\n",
              "      <td>NaN</td>\n",
              "    </tr>\n",
              "  </tbody>\n",
              "</table>\n",
              "</div>\n",
              "      <button class=\"colab-df-convert\" onclick=\"convertToInteractive('df-13b11701-09d2-4a6b-ab9c-b906f11dd0a1')\"\n",
              "              title=\"Convert this dataframe to an interactive table.\"\n",
              "              style=\"display:none;\">\n",
              "        \n",
              "  <svg xmlns=\"http://www.w3.org/2000/svg\" height=\"24px\"viewBox=\"0 0 24 24\"\n",
              "       width=\"24px\">\n",
              "    <path d=\"M0 0h24v24H0V0z\" fill=\"none\"/>\n",
              "    <path d=\"M18.56 5.44l.94 2.06.94-2.06 2.06-.94-2.06-.94-.94-2.06-.94 2.06-2.06.94zm-11 1L8.5 8.5l.94-2.06 2.06-.94-2.06-.94L8.5 2.5l-.94 2.06-2.06.94zm10 10l.94 2.06.94-2.06 2.06-.94-2.06-.94-.94-2.06-.94 2.06-2.06.94z\"/><path d=\"M17.41 7.96l-1.37-1.37c-.4-.4-.92-.59-1.43-.59-.52 0-1.04.2-1.43.59L10.3 9.45l-7.72 7.72c-.78.78-.78 2.05 0 2.83L4 21.41c.39.39.9.59 1.41.59.51 0 1.02-.2 1.41-.59l7.78-7.78 2.81-2.81c.8-.78.8-2.07 0-2.86zM5.41 20L4 18.59l7.72-7.72 1.47 1.35L5.41 20z\"/>\n",
              "  </svg>\n",
              "      </button>\n",
              "      \n",
              "  <style>\n",
              "    .colab-df-container {\n",
              "      display:flex;\n",
              "      flex-wrap:wrap;\n",
              "      gap: 12px;\n",
              "    }\n",
              "\n",
              "    .colab-df-convert {\n",
              "      background-color: #E8F0FE;\n",
              "      border: none;\n",
              "      border-radius: 50%;\n",
              "      cursor: pointer;\n",
              "      display: none;\n",
              "      fill: #1967D2;\n",
              "      height: 32px;\n",
              "      padding: 0 0 0 0;\n",
              "      width: 32px;\n",
              "    }\n",
              "\n",
              "    .colab-df-convert:hover {\n",
              "      background-color: #E2EBFA;\n",
              "      box-shadow: 0px 1px 2px rgba(60, 64, 67, 0.3), 0px 1px 3px 1px rgba(60, 64, 67, 0.15);\n",
              "      fill: #174EA6;\n",
              "    }\n",
              "\n",
              "    [theme=dark] .colab-df-convert {\n",
              "      background-color: #3B4455;\n",
              "      fill: #D2E3FC;\n",
              "    }\n",
              "\n",
              "    [theme=dark] .colab-df-convert:hover {\n",
              "      background-color: #434B5C;\n",
              "      box-shadow: 0px 1px 3px 1px rgba(0, 0, 0, 0.15);\n",
              "      filter: drop-shadow(0px 1px 2px rgba(0, 0, 0, 0.3));\n",
              "      fill: #FFFFFF;\n",
              "    }\n",
              "  </style>\n",
              "\n",
              "      <script>\n",
              "        const buttonEl =\n",
              "          document.querySelector('#df-13b11701-09d2-4a6b-ab9c-b906f11dd0a1 button.colab-df-convert');\n",
              "        buttonEl.style.display =\n",
              "          google.colab.kernel.accessAllowed ? 'block' : 'none';\n",
              "\n",
              "        async function convertToInteractive(key) {\n",
              "          const element = document.querySelector('#df-13b11701-09d2-4a6b-ab9c-b906f11dd0a1');\n",
              "          const dataTable =\n",
              "            await google.colab.kernel.invokeFunction('convertToInteractive',\n",
              "                                                     [key], {});\n",
              "          if (!dataTable) return;\n",
              "\n",
              "          const docLinkHtml = 'Like what you see? Visit the ' +\n",
              "            '<a target=\"_blank\" href=https://colab.research.google.com/notebooks/data_table.ipynb>data table notebook</a>'\n",
              "            + ' to learn more about interactive tables.';\n",
              "          element.innerHTML = '';\n",
              "          dataTable['output_type'] = 'display_data';\n",
              "          await google.colab.output.renderOutput(dataTable, element);\n",
              "          const docLink = document.createElement('div');\n",
              "          docLink.innerHTML = docLinkHtml;\n",
              "          element.appendChild(docLink);\n",
              "        }\n",
              "      </script>\n",
              "    </div>\n",
              "  </div>\n",
              "  "
            ]
          },
          "metadata": {},
          "execution_count": 37
        }
      ]
    },
    {
      "cell_type": "markdown",
      "source": [
        "* 年ごとの時価総額と上場企業数の計算"
      ],
      "metadata": {
        "id": "JJBSzC1nMXjV"
      }
    },
    {
      "cell_type": "code",
      "source": [
        "Agdata1 = df1.groupby(['Year'],as_index=False)[['Aggregate market capitalization']].sum()\n",
        "Nmdata1 = df1.groupby(['Year'])[['Aggregate market capitalization']].count()"
      ],
      "metadata": {
        "id": "52kVh2HhIGY2"
      },
      "execution_count": 38,
      "outputs": []
    },
    {
      "cell_type": "markdown",
      "source": [
        "**東証全体のデータ**\n",
        "\n",
        "*   東証一部（プライム）\n",
        "*   東証二部（スタンダード）\n",
        "*   東証マザーズ（グロース）\n",
        "\n"
      ],
      "metadata": {
        "id": "puyIgxPqk6kW"
      }
    },
    {
      "cell_type": "markdown",
      "source": [
        "* 不要な列の消去と名称変更"
      ],
      "metadata": {
        "id": "ly24AXNfMgol"
      }
    },
    {
      "cell_type": "code",
      "source": [
        "df2 = pd.read_csv('figure1-a.csv',encoding = \"cp932\")\n",
        "df2 = df2.drop(columns=['株式コード','日経会社コード','上場コード','銘柄名称'])\n",
        "df2 = df2.rename(columns={'期間':'Year'})\n",
        "df2 = df2.rename(columns={'時価総額（発行済み株式数ベース）':'Aggregate market capitalization'})\n",
        "df2.head()"
      ],
      "metadata": {
        "colab": {
          "base_uri": "https://localhost:8080/",
          "height": 0
        },
        "id": "wG1EpD-mIBaY",
        "outputId": "addd5463-8f42-434a-d69e-69ab5041556b"
      },
      "execution_count": 39,
      "outputs": [
        {
          "output_type": "execute_result",
          "data": {
            "text/plain": [
              "   Year  Aggregate market capitalization\n",
              "0  1985                     2.639471e+10\n",
              "1  1986                     9.062560e+10\n",
              "2  1987                     6.219182e+10\n",
              "3  1988                     7.759817e+10\n",
              "4  1989                     2.005091e+11"
            ],
            "text/html": [
              "\n",
              "  <div id=\"df-d15b8be6-19b4-4887-9508-c0efaeec9340\">\n",
              "    <div class=\"colab-df-container\">\n",
              "      <div>\n",
              "<style scoped>\n",
              "    .dataframe tbody tr th:only-of-type {\n",
              "        vertical-align: middle;\n",
              "    }\n",
              "\n",
              "    .dataframe tbody tr th {\n",
              "        vertical-align: top;\n",
              "    }\n",
              "\n",
              "    .dataframe thead th {\n",
              "        text-align: right;\n",
              "    }\n",
              "</style>\n",
              "<table border=\"1\" class=\"dataframe\">\n",
              "  <thead>\n",
              "    <tr style=\"text-align: right;\">\n",
              "      <th></th>\n",
              "      <th>Year</th>\n",
              "      <th>Aggregate market capitalization</th>\n",
              "    </tr>\n",
              "  </thead>\n",
              "  <tbody>\n",
              "    <tr>\n",
              "      <th>0</th>\n",
              "      <td>1985</td>\n",
              "      <td>2.639471e+10</td>\n",
              "    </tr>\n",
              "    <tr>\n",
              "      <th>1</th>\n",
              "      <td>1986</td>\n",
              "      <td>9.062560e+10</td>\n",
              "    </tr>\n",
              "    <tr>\n",
              "      <th>2</th>\n",
              "      <td>1987</td>\n",
              "      <td>6.219182e+10</td>\n",
              "    </tr>\n",
              "    <tr>\n",
              "      <th>3</th>\n",
              "      <td>1988</td>\n",
              "      <td>7.759817e+10</td>\n",
              "    </tr>\n",
              "    <tr>\n",
              "      <th>4</th>\n",
              "      <td>1989</td>\n",
              "      <td>2.005091e+11</td>\n",
              "    </tr>\n",
              "  </tbody>\n",
              "</table>\n",
              "</div>\n",
              "      <button class=\"colab-df-convert\" onclick=\"convertToInteractive('df-d15b8be6-19b4-4887-9508-c0efaeec9340')\"\n",
              "              title=\"Convert this dataframe to an interactive table.\"\n",
              "              style=\"display:none;\">\n",
              "        \n",
              "  <svg xmlns=\"http://www.w3.org/2000/svg\" height=\"24px\"viewBox=\"0 0 24 24\"\n",
              "       width=\"24px\">\n",
              "    <path d=\"M0 0h24v24H0V0z\" fill=\"none\"/>\n",
              "    <path d=\"M18.56 5.44l.94 2.06.94-2.06 2.06-.94-2.06-.94-.94-2.06-.94 2.06-2.06.94zm-11 1L8.5 8.5l.94-2.06 2.06-.94-2.06-.94L8.5 2.5l-.94 2.06-2.06.94zm10 10l.94 2.06.94-2.06 2.06-.94-2.06-.94-.94-2.06-.94 2.06-2.06.94z\"/><path d=\"M17.41 7.96l-1.37-1.37c-.4-.4-.92-.59-1.43-.59-.52 0-1.04.2-1.43.59L10.3 9.45l-7.72 7.72c-.78.78-.78 2.05 0 2.83L4 21.41c.39.39.9.59 1.41.59.51 0 1.02-.2 1.41-.59l7.78-7.78 2.81-2.81c.8-.78.8-2.07 0-2.86zM5.41 20L4 18.59l7.72-7.72 1.47 1.35L5.41 20z\"/>\n",
              "  </svg>\n",
              "      </button>\n",
              "      \n",
              "  <style>\n",
              "    .colab-df-container {\n",
              "      display:flex;\n",
              "      flex-wrap:wrap;\n",
              "      gap: 12px;\n",
              "    }\n",
              "\n",
              "    .colab-df-convert {\n",
              "      background-color: #E8F0FE;\n",
              "      border: none;\n",
              "      border-radius: 50%;\n",
              "      cursor: pointer;\n",
              "      display: none;\n",
              "      fill: #1967D2;\n",
              "      height: 32px;\n",
              "      padding: 0 0 0 0;\n",
              "      width: 32px;\n",
              "    }\n",
              "\n",
              "    .colab-df-convert:hover {\n",
              "      background-color: #E2EBFA;\n",
              "      box-shadow: 0px 1px 2px rgba(60, 64, 67, 0.3), 0px 1px 3px 1px rgba(60, 64, 67, 0.15);\n",
              "      fill: #174EA6;\n",
              "    }\n",
              "\n",
              "    [theme=dark] .colab-df-convert {\n",
              "      background-color: #3B4455;\n",
              "      fill: #D2E3FC;\n",
              "    }\n",
              "\n",
              "    [theme=dark] .colab-df-convert:hover {\n",
              "      background-color: #434B5C;\n",
              "      box-shadow: 0px 1px 3px 1px rgba(0, 0, 0, 0.15);\n",
              "      filter: drop-shadow(0px 1px 2px rgba(0, 0, 0, 0.3));\n",
              "      fill: #FFFFFF;\n",
              "    }\n",
              "  </style>\n",
              "\n",
              "      <script>\n",
              "        const buttonEl =\n",
              "          document.querySelector('#df-d15b8be6-19b4-4887-9508-c0efaeec9340 button.colab-df-convert');\n",
              "        buttonEl.style.display =\n",
              "          google.colab.kernel.accessAllowed ? 'block' : 'none';\n",
              "\n",
              "        async function convertToInteractive(key) {\n",
              "          const element = document.querySelector('#df-d15b8be6-19b4-4887-9508-c0efaeec9340');\n",
              "          const dataTable =\n",
              "            await google.colab.kernel.invokeFunction('convertToInteractive',\n",
              "                                                     [key], {});\n",
              "          if (!dataTable) return;\n",
              "\n",
              "          const docLinkHtml = 'Like what you see? Visit the ' +\n",
              "            '<a target=\"_blank\" href=https://colab.research.google.com/notebooks/data_table.ipynb>data table notebook</a>'\n",
              "            + ' to learn more about interactive tables.';\n",
              "          element.innerHTML = '';\n",
              "          dataTable['output_type'] = 'display_data';\n",
              "          await google.colab.output.renderOutput(dataTable, element);\n",
              "          const docLink = document.createElement('div');\n",
              "          docLink.innerHTML = docLinkHtml;\n",
              "          element.appendChild(docLink);\n",
              "        }\n",
              "      </script>\n",
              "    </div>\n",
              "  </div>\n",
              "  "
            ]
          },
          "metadata": {},
          "execution_count": 39
        }
      ]
    },
    {
      "cell_type": "markdown",
      "source": [
        "* 年ごとの時価総額と上場企業数の計算"
      ],
      "metadata": {
        "id": "9BEGeZN7kfaD"
      }
    },
    {
      "cell_type": "code",
      "source": [
        "Agdata2 = df2.groupby(['Year'],as_index=False)[['Aggregate market capitalization']].sum()\n",
        "Nmdata2 = df2.groupby(['Year'])[['Aggregate market capitalization']].count()"
      ],
      "metadata": {
        "id": "Mc2uBi_7OoYh"
      },
      "execution_count": 40,
      "outputs": []
    },
    {
      "cell_type": "markdown",
      "source": [
        "# グラフ作成"
      ],
      "metadata": {
        "id": "a7I1X5e6kcLs"
      }
    },
    {
      "cell_type": "code",
      "source": [
        "ncols=2\n",
        "nrows=1\n",
        "fig,axes=plt.subplots(figsize=(10*ncols,5*nrows),ncols=ncols,nrows=nrows)\n",
        "axes=np.ravel(axes)\n",
        "\n",
        "x1 = Agdata1['Year']\n",
        "y1 = Agdata1['Aggregate market capitalization']\n",
        "\n",
        "ax1 = axes[0].twinx()\n",
        "axes[0].plot(Nmdata1,marker=\".\",color=cm.Set1.colors[3],label=\"Number of listed firms\")\n",
        "ax1.bar(x1,y1,alpha=0.6,width=0.5,color=cm.Set1.colors[1], label=\"Aggregate market capitalization\")\n",
        "\n",
        "axes[0].set_ylim([0,4000])\n",
        "start0, end0 = axes[0].get_ylim()\n",
        "stepsize=750\n",
        "axes[0].yaxis.set_ticks(np.arange(start0, end0, stepsize))\n",
        "ax1.set_ylim([0,8*10**14])\n",
        "start1, end1 = ax1.get_ylim()\n",
        "stepsize1=10**14\n",
        "ax1.yaxis.set_ticks(np.arange(start1, end1, stepsize1))\n",
        "axes[0].patch.set_alpha(0)\n",
        "axes[0].set_zorder(2)\n",
        "ax1.set_zorder(1)\n",
        "axes[0].grid(axis='y')\n",
        "axes[0].legend(bbox_to_anchor=(0, -0.1), loc='upper left', borderaxespad=0, fontsize=10)\n",
        "ax1.legend(bbox_to_anchor=(0, -0.2), loc='upper left', borderaxespad=0, fontsize=10)\n",
        "axes[0].set_ylabel('Number of listed firms')\n",
        "ax1.set_ylabel('Market capitalization (One hundred trillion of yen)',labelpad=15,rotation=270)\n",
        "\n",
        "x2 = Agdata2['Year']\n",
        "y2 = Agdata2['Aggregate market capitalization']\n",
        "\n",
        "ax2 = axes[1].twinx()\n",
        "axes[1].plot(Nmdata2,marker=\".\",color=cm.Set1.colors[3],label=\"Number of listed firms\")\n",
        "ax2.bar(x2,y2,alpha=0.6,width=0.5,color=cm.Set1.colors[1], label=\"Aggregate market capitalization\")\n",
        "\n",
        "axes[1].set_ylim([0,4000])\n",
        "axes[1].yaxis.set_ticks(np.arange(start0, end0, stepsize))\n",
        "ax2.set_ylim([0,8*10**14])\n",
        "ax2.yaxis.set_ticks(np.arange(start1, end1, stepsize1))\n",
        "axes[1].patch.set_alpha(0)\n",
        "axes[1].set_zorder(2)\n",
        "ax2.set_zorder(1)\n",
        "axes[1].grid(axis='y')\n",
        "axes[1].legend(bbox_to_anchor=(0, -0.1), loc='upper left', borderaxespad=0, fontsize=10)\n",
        "ax2.legend(bbox_to_anchor=(0, -0.2), loc='upper left', borderaxespad=0, fontsize=10)\n",
        "axes[1].set_ylabel('Number of listed firms')\n",
        "ax2.set_ylabel('Market capitalization (One hundred trillion of yen)',labelpad=15,rotation=270)\n",
        "axes[0].set_title('First Section of the Tokyo Stock Exchange',fontsize=18)\n",
        "axes[1].set_title('Whole of the Tokyo Stock Exchange',fontsize=18)"
      ],
      "metadata": {
        "colab": {
          "base_uri": "https://localhost:8080/",
          "height": 413
        },
        "id": "fQXPHxMmIJPX",
        "outputId": "d0b4f146-3b74-4980-9de3-3a138d145e3d"
      },
      "execution_count": 41,
      "outputs": [
        {
          "output_type": "execute_result",
          "data": {
            "text/plain": [
              "Text(0.5, 1.0, 'Whole of the Tokyo Stock Exchange')"
            ]
          },
          "metadata": {},
          "execution_count": 41
        },
        {
          "output_type": "display_data",
          "data": {
            "text/plain": [
              "<Figure size 1440x360 with 4 Axes>"
            ],
            "image/png": "[encoded data removed]"
          },
          "metadata": {
            "needs_background": "light"
          }
        }
      ]
    }
  ]
}