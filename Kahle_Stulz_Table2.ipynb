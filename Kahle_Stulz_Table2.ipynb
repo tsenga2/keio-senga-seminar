{
  "nbformat": 4,
  "nbformat_minor": 0,
  "metadata": {
    "colab": {
      "name": "Kahle Stulz Table2.ipynb",
      "provenance": [],
      "collapsed_sections": [],
      "authorship_tag": "ABX9TyO41H2YoTP6HRQ5UeEs/Yj/",
      "include_colab_link": true
    },
    "kernelspec": {
      "name": "python3",
      "display_name": "Python 3"
    },
    "language_info": {
      "name": "python"
    }
  },
  "cells": [
    {
      "cell_type": "markdown",
      "metadata": {
        "id": "view-in-github",
        "colab_type": "text"
      },
      "source": [
        "<a href=\"https://colab.research.google.com/github/tsenga2/keio-senga-seminar/blob/main/Kahle_Stulz_Table2.ipynb\" target=\"_parent\"><img src=\"https://colab.research.google.com/assets/colab-badge.svg\" alt=\"Open In Colab\"/></a>"
      ]
    },
    {
      "cell_type": "code",
      "source": [
        "!pip install -U -q PyDrive\n",
        "from pydrive.auth import GoogleAuth\n",
        "from pydrive.drive import GoogleDrive\n",
        "from google.colab import auth\n",
        "from oauth2client.client import GoogleCredentials\n",
        "\n",
        "auth.authenticate_user()\n",
        "gauth = GoogleAuth()\n",
        "gauth.credentials = GoogleCredentials.get_application_default()\n",
        "drive = GoogleDrive(gauth)"
      ],
      "metadata": {
        "id": "EuT3z-whk2_t"
      },
      "execution_count": 1,
      "outputs": []
    },
    {
      "cell_type": "code",
      "source": [
        "import pandas as pd\n",
        "pd.set_option('display.max_columns', 100)"
      ],
      "metadata": {
        "id": "WRSaOen4k-FL"
      },
      "execution_count": 2,
      "outputs": []
    },
    {
      "cell_type": "code",
      "source": [
        "fileDownloaded = drive.CreateFile({'id':'118DvToqk7CY98eO_6Y7V6uzuF6jQid-N'})\n",
        "fileDownloaded.GetContentFile('Table2.csv')"
      ],
      "metadata": {
        "id": "4BfJb4aulBcS"
      },
      "execution_count": 3,
      "outputs": []
    },
    {
      "cell_type": "code",
      "source": [
        "df = pd.read_csv('Table2.csv',encoding = \"cp932\")\n",
        "df.head()"
      ],
      "metadata": {
        "colab": {
          "base_uri": "https://localhost:8080/",
          "height": 384
        },
        "id": "kde6VYMev21S",
        "outputId": "3b930aa7-86cb-4881-cb95-bf76f13390f5"
      },
      "execution_count": 4,
      "outputs": [
        {
          "output_type": "execute_result",
          "data": {
            "text/plain": [
              "   日経会社コード 企業名称      決算期  決算種別  連結基準  <損益計算書（期首からの累計期間）>売上高・営業収益［累計］  \\\n",
              "0        1   極洋  1975/10    10     0                         95134.0   \n",
              "1        1   極洋  1976/10    10     0                        114108.0   \n",
              "2        1   極洋  1977/10    10     0                        151255.0   \n",
              "3        1   極洋  1978/10    10     0                        165039.0   \n",
              "4        1   極洋  1979/10    10     0                        202157.0   \n",
              "\n",
              "   <貸借対照表（資産）>資産合計  <貸借対照表（資産）>現金・預金／現金及び現金同等物  \\\n",
              "0          61804.0                     10731.0   \n",
              "1          64419.0                     12180.0   \n",
              "2          76372.0                     12479.0   \n",
              "3          81093.0                     15109.0   \n",
              "4          90545.0                     15776.0   \n",
              "\n",
              "   <損益計算書（期首からの累計期間）>経常利益／税金等調整前当期純利益［累計］  <基本項目>自己株式数  <基本項目>１株当たり配当金（各期末）  \\\n",
              "0                                   368.0          NaN                  3.0   \n",
              "1                                  1433.0          NaN                  4.0   \n",
              "2                                  2251.0          NaN                  4.0   \n",
              "3                                  1269.0          NaN                  3.0   \n",
              "4                                   616.0          NaN                  3.0   \n",
              "\n",
              "   <基本項目>期末発行済株式総数  \n",
              "0      109633000.0  \n",
              "1      109641000.0  \n",
              "2      109642000.0  \n",
              "3      109648000.0  \n",
              "4      110135000.0  "
            ],
            "text/html": [
              "\n",
              "  <div id=\"df-bc823f8d-9251-4426-addb-96fce56a6eb3\">\n",
              "    <div class=\"colab-df-container\">\n",
              "      <div>\n",
              "<style scoped>\n",
              "    .dataframe tbody tr th:only-of-type {\n",
              "        vertical-align: middle;\n",
              "    }\n",
              "\n",
              "    .dataframe tbody tr th {\n",
              "        vertical-align: top;\n",
              "    }\n",
              "\n",
              "    .dataframe thead th {\n",
              "        text-align: right;\n",
              "    }\n",
              "</style>\n",
              "<table border=\"1\" class=\"dataframe\">\n",
              "  <thead>\n",
              "    <tr style=\"text-align: right;\">\n",
              "      <th></th>\n",
              "      <th>日経会社コード</th>\n",
              "      <th>企業名称</th>\n",
              "      <th>決算期</th>\n",
              "      <th>決算種別</th>\n",
              "      <th>連結基準</th>\n",
              "      <th>&lt;損益計算書（期首からの累計期間）&gt;売上高・営業収益［累計］</th>\n",
              "      <th>&lt;貸借対照表（資産）&gt;資産合計</th>\n",
              "      <th>&lt;貸借対照表（資産）&gt;現金・預金／現金及び現金同等物</th>\n",
              "      <th>&lt;損益計算書（期首からの累計期間）&gt;経常利益／税金等調整前当期純利益［累計］</th>\n",
              "      <th>&lt;基本項目&gt;自己株式数</th>\n",
              "      <th>&lt;基本項目&gt;１株当たり配当金（各期末）</th>\n",
              "      <th>&lt;基本項目&gt;期末発行済株式総数</th>\n",
              "    </tr>\n",
              "  </thead>\n",
              "  <tbody>\n",
              "    <tr>\n",
              "      <th>0</th>\n",
              "      <td>1</td>\n",
              "      <td>極洋</td>\n",
              "      <td>1975/10</td>\n",
              "      <td>10</td>\n",
              "      <td>0</td>\n",
              "      <td>95134.0</td>\n",
              "      <td>61804.0</td>\n",
              "      <td>10731.0</td>\n",
              "      <td>368.0</td>\n",
              "      <td>NaN</td>\n",
              "      <td>3.0</td>\n",
              "      <td>109633000.0</td>\n",
              "    </tr>\n",
              "    <tr>\n",
              "      <th>1</th>\n",
              "      <td>1</td>\n",
              "      <td>極洋</td>\n",
              "      <td>1976/10</td>\n",
              "      <td>10</td>\n",
              "      <td>0</td>\n",
              "      <td>114108.0</td>\n",
              "      <td>64419.0</td>\n",
              "      <td>12180.0</td>\n",
              "      <td>1433.0</td>\n",
              "      <td>NaN</td>\n",
              "      <td>4.0</td>\n",
              "      <td>109641000.0</td>\n",
              "    </tr>\n",
              "    <tr>\n",
              "      <th>2</th>\n",
              "      <td>1</td>\n",
              "      <td>極洋</td>\n",
              "      <td>1977/10</td>\n",
              "      <td>10</td>\n",
              "      <td>0</td>\n",
              "      <td>151255.0</td>\n",
              "      <td>76372.0</td>\n",
              "      <td>12479.0</td>\n",
              "      <td>2251.0</td>\n",
              "      <td>NaN</td>\n",
              "      <td>4.0</td>\n",
              "      <td>109642000.0</td>\n",
              "    </tr>\n",
              "    <tr>\n",
              "      <th>3</th>\n",
              "      <td>1</td>\n",
              "      <td>極洋</td>\n",
              "      <td>1978/10</td>\n",
              "      <td>10</td>\n",
              "      <td>0</td>\n",
              "      <td>165039.0</td>\n",
              "      <td>81093.0</td>\n",
              "      <td>15109.0</td>\n",
              "      <td>1269.0</td>\n",
              "      <td>NaN</td>\n",
              "      <td>3.0</td>\n",
              "      <td>109648000.0</td>\n",
              "    </tr>\n",
              "    <tr>\n",
              "      <th>4</th>\n",
              "      <td>1</td>\n",
              "      <td>極洋</td>\n",
              "      <td>1979/10</td>\n",
              "      <td>10</td>\n",
              "      <td>0</td>\n",
              "      <td>202157.0</td>\n",
              "      <td>90545.0</td>\n",
              "      <td>15776.0</td>\n",
              "      <td>616.0</td>\n",
              "      <td>NaN</td>\n",
              "      <td>3.0</td>\n",
              "      <td>110135000.0</td>\n",
              "    </tr>\n",
              "  </tbody>\n",
              "</table>\n",
              "</div>\n",
              "      <button class=\"colab-df-convert\" onclick=\"convertToInteractive('df-bc823f8d-9251-4426-addb-96fce56a6eb3')\"\n",
              "              title=\"Convert this dataframe to an interactive table.\"\n",
              "              style=\"display:none;\">\n",
              "        \n",
              "  <svg xmlns=\"http://www.w3.org/2000/svg\" height=\"24px\"viewBox=\"0 0 24 24\"\n",
              "       width=\"24px\">\n",
              "    <path d=\"M0 0h24v24H0V0z\" fill=\"none\"/>\n",
              "    <path d=\"M18.56 5.44l.94 2.06.94-2.06 2.06-.94-2.06-.94-.94-2.06-.94 2.06-2.06.94zm-11 1L8.5 8.5l.94-2.06 2.06-.94-2.06-.94L8.5 2.5l-.94 2.06-2.06.94zm10 10l.94 2.06.94-2.06 2.06-.94-2.06-.94-.94-2.06-.94 2.06-2.06.94z\"/><path d=\"M17.41 7.96l-1.37-1.37c-.4-.4-.92-.59-1.43-.59-.52 0-1.04.2-1.43.59L10.3 9.45l-7.72 7.72c-.78.78-.78 2.05 0 2.83L4 21.41c.39.39.9.59 1.41.59.51 0 1.02-.2 1.41-.59l7.78-7.78 2.81-2.81c.8-.78.8-2.07 0-2.86zM5.41 20L4 18.59l7.72-7.72 1.47 1.35L5.41 20z\"/>\n",
              "  </svg>\n",
              "      </button>\n",
              "      \n",
              "  <style>\n",
              "    .colab-df-container {\n",
              "      display:flex;\n",
              "      flex-wrap:wrap;\n",
              "      gap: 12px;\n",
              "    }\n",
              "\n",
              "    .colab-df-convert {\n",
              "      background-color: #E8F0FE;\n",
              "      border: none;\n",
              "      border-radius: 50%;\n",
              "      cursor: pointer;\n",
              "      display: none;\n",
              "      fill: #1967D2;\n",
              "      height: 32px;\n",
              "      padding: 0 0 0 0;\n",
              "      width: 32px;\n",
              "    }\n",
              "\n",
              "    .colab-df-convert:hover {\n",
              "      background-color: #E2EBFA;\n",
              "      box-shadow: 0px 1px 2px rgba(60, 64, 67, 0.3), 0px 1px 3px 1px rgba(60, 64, 67, 0.15);\n",
              "      fill: #174EA6;\n",
              "    }\n",
              "\n",
              "    [theme=dark] .colab-df-convert {\n",
              "      background-color: #3B4455;\n",
              "      fill: #D2E3FC;\n",
              "    }\n",
              "\n",
              "    [theme=dark] .colab-df-convert:hover {\n",
              "      background-color: #434B5C;\n",
              "      box-shadow: 0px 1px 3px 1px rgba(0, 0, 0, 0.15);\n",
              "      filter: drop-shadow(0px 1px 2px rgba(0, 0, 0, 0.3));\n",
              "      fill: #FFFFFF;\n",
              "    }\n",
              "  </style>\n",
              "\n",
              "      <script>\n",
              "        const buttonEl =\n",
              "          document.querySelector('#df-bc823f8d-9251-4426-addb-96fce56a6eb3 button.colab-df-convert');\n",
              "        buttonEl.style.display =\n",
              "          google.colab.kernel.accessAllowed ? 'block' : 'none';\n",
              "\n",
              "        async function convertToInteractive(key) {\n",
              "          const element = document.querySelector('#df-bc823f8d-9251-4426-addb-96fce56a6eb3');\n",
              "          const dataTable =\n",
              "            await google.colab.kernel.invokeFunction('convertToInteractive',\n",
              "                                                     [key], {});\n",
              "          if (!dataTable) return;\n",
              "\n",
              "          const docLinkHtml = 'Like what you see? Visit the ' +\n",
              "            '<a target=\"_blank\" href=https://colab.research.google.com/notebooks/data_table.ipynb>data table notebook</a>'\n",
              "            + ' to learn more about interactive tables.';\n",
              "          element.innerHTML = '';\n",
              "          dataTable['output_type'] = 'display_data';\n",
              "          await google.colab.output.renderOutput(dataTable, element);\n",
              "          const docLink = document.createElement('div');\n",
              "          docLink.innerHTML = docLinkHtml;\n",
              "          element.appendChild(docLink);\n",
              "        }\n",
              "      </script>\n",
              "    </div>\n",
              "  </div>\n",
              "  "
            ]
          },
          "metadata": {},
          "execution_count": 4
        }
      ]
    },
    {
      "cell_type": "code",
      "source": [
        "df = pd.read_csv('Table2.csv',encoding = \"cp932\")\n",
        "df = df.drop(columns={'企業名称'})\n",
        "df = df.drop(columns={'決算種別'})\n",
        "df = df.drop(columns={'連結基準'})\n",
        "df = df.drop(columns={'<基本項目>自己株式数'})"
      ],
      "metadata": {
        "id": "FEuzQWh01dcj"
      },
      "execution_count": 5,
      "outputs": []
    },
    {
      "cell_type": "code",
      "source": [
        "df = df.rename(columns={'日経会社コード':'gvkey'})\n",
        "df = df.rename(columns={'決算期':'fy'})\n",
        "df = df.rename(columns={'<貸借対照表（資産）>資産合計':'assets'})\n",
        "df = df.rename(columns={'<貸借対照表（資産）>現金・預金／現金及び現金同等物':'cash'})\n",
        "df = df.rename(columns={'<損益計算書（期首からの累計期間）>売上高・営業収益［累計］':'earning'})\n",
        "df = df.rename(columns={'<損益計算書（期首からの累計期間）>経常利益／税金等調整前当期純利益［累計］':'cash flow'})\n",
        "df = df.rename(columns={'<基本項目>１株当たり配当金（各期末）':'dividends per'})\n",
        "df = df.rename(columns={'<基本項目>期末発行済株式総数':'s number'})"
      ],
      "metadata": {
        "id": "kqzDzEEh1jO0"
      },
      "execution_count": 6,
      "outputs": []
    },
    {
      "cell_type": "code",
      "source": [
        "fileDownloaded = drive.CreateFile({'id':'1cBelPYQ6tPFcK3OcACyR5x5FPp8MCugh'})\n",
        "fileDownloaded.GetContentFile('Table2(consolidation).csv')"
      ],
      "metadata": {
        "id": "dmYRDLOAnANC"
      },
      "execution_count": 7,
      "outputs": []
    },
    {
      "cell_type": "code",
      "source": [
        "dff = pd.read_csv('Table2(consolidation).csv',encoding = \"cp932\")\n",
        "dff = dff.rename(columns={'<基本項目>自己株式数':'s hold'})\n",
        "dff = dff.rename(columns={'決算期':'fy'})\n",
        "dff['fy'] = dff['fy'].str[:4]"
      ],
      "metadata": {
        "id": "AkI9V1oTnO14"
      },
      "execution_count": 8,
      "outputs": []
    },
    {
      "cell_type": "code",
      "source": [
        "df['dividends'] = df['dividends per'] * df['s number']\n",
        "df['total assets'] = df['dividends'] + dff['s hold'] * df['dividends per']"
      ],
      "metadata": {
        "id": "pYT_quZT1zgd"
      },
      "execution_count": 9,
      "outputs": []
    },
    {
      "cell_type": "code",
      "source": [
        "df['fy'] = df['fy'].str[:4]"
      ],
      "metadata": {
        "id": "UJyWSlCg2w35"
      },
      "execution_count": 10,
      "outputs": []
    },
    {
      "cell_type": "code",
      "source": [
        "df.head()"
      ],
      "metadata": {
        "colab": {
          "base_uri": "https://localhost:8080/",
          "height": 204
        },
        "id": "5w-btgYV1lqa",
        "outputId": "c6c0860c-120f-4c5b-e9de-b5824c67d150"
      },
      "execution_count": 11,
      "outputs": [
        {
          "output_type": "execute_result",
          "data": {
            "text/plain": [
              "   gvkey    fy   earning   assets     cash  cash flow  dividends per  \\\n",
              "0      1  1975   95134.0  61804.0  10731.0      368.0            3.0   \n",
              "1      1  1976  114108.0  64419.0  12180.0     1433.0            4.0   \n",
              "2      1  1977  151255.0  76372.0  12479.0     2251.0            4.0   \n",
              "3      1  1978  165039.0  81093.0  15109.0     1269.0            3.0   \n",
              "4      1  1979  202157.0  90545.0  15776.0      616.0            3.0   \n",
              "\n",
              "      s number    dividends  total assets  \n",
              "0  109633000.0  328899000.0           NaN  \n",
              "1  109641000.0  438564000.0           NaN  \n",
              "2  109642000.0  438568000.0   438572000.0  \n",
              "3  109648000.0  328944000.0           NaN  \n",
              "4  110135000.0  330405000.0           NaN  "
            ],
            "text/html": [
              "\n",
              "  <div id=\"df-46efc57a-6602-4f1d-8d99-d9e69dd51970\">\n",
              "    <div class=\"colab-df-container\">\n",
              "      <div>\n",
              "<style scoped>\n",
              "    .dataframe tbody tr th:only-of-type {\n",
              "        vertical-align: middle;\n",
              "    }\n",
              "\n",
              "    .dataframe tbody tr th {\n",
              "        vertical-align: top;\n",
              "    }\n",
              "\n",
              "    .dataframe thead th {\n",
              "        text-align: right;\n",
              "    }\n",
              "</style>\n",
              "<table border=\"1\" class=\"dataframe\">\n",
              "  <thead>\n",
              "    <tr style=\"text-align: right;\">\n",
              "      <th></th>\n",
              "      <th>gvkey</th>\n",
              "      <th>fy</th>\n",
              "      <th>earning</th>\n",
              "      <th>assets</th>\n",
              "      <th>cash</th>\n",
              "      <th>cash flow</th>\n",
              "      <th>dividends per</th>\n",
              "      <th>s number</th>\n",
              "      <th>dividends</th>\n",
              "      <th>total assets</th>\n",
              "    </tr>\n",
              "  </thead>\n",
              "  <tbody>\n",
              "    <tr>\n",
              "      <th>0</th>\n",
              "      <td>1</td>\n",
              "      <td>1975</td>\n",
              "      <td>95134.0</td>\n",
              "      <td>61804.0</td>\n",
              "      <td>10731.0</td>\n",
              "      <td>368.0</td>\n",
              "      <td>3.0</td>\n",
              "      <td>109633000.0</td>\n",
              "      <td>328899000.0</td>\n",
              "      <td>NaN</td>\n",
              "    </tr>\n",
              "    <tr>\n",
              "      <th>1</th>\n",
              "      <td>1</td>\n",
              "      <td>1976</td>\n",
              "      <td>114108.0</td>\n",
              "      <td>64419.0</td>\n",
              "      <td>12180.0</td>\n",
              "      <td>1433.0</td>\n",
              "      <td>4.0</td>\n",
              "      <td>109641000.0</td>\n",
              "      <td>438564000.0</td>\n",
              "      <td>NaN</td>\n",
              "    </tr>\n",
              "    <tr>\n",
              "      <th>2</th>\n",
              "      <td>1</td>\n",
              "      <td>1977</td>\n",
              "      <td>151255.0</td>\n",
              "      <td>76372.0</td>\n",
              "      <td>12479.0</td>\n",
              "      <td>2251.0</td>\n",
              "      <td>4.0</td>\n",
              "      <td>109642000.0</td>\n",
              "      <td>438568000.0</td>\n",
              "      <td>438572000.0</td>\n",
              "    </tr>\n",
              "    <tr>\n",
              "      <th>3</th>\n",
              "      <td>1</td>\n",
              "      <td>1978</td>\n",
              "      <td>165039.0</td>\n",
              "      <td>81093.0</td>\n",
              "      <td>15109.0</td>\n",
              "      <td>1269.0</td>\n",
              "      <td>3.0</td>\n",
              "      <td>109648000.0</td>\n",
              "      <td>328944000.0</td>\n",
              "      <td>NaN</td>\n",
              "    </tr>\n",
              "    <tr>\n",
              "      <th>4</th>\n",
              "      <td>1</td>\n",
              "      <td>1979</td>\n",
              "      <td>202157.0</td>\n",
              "      <td>90545.0</td>\n",
              "      <td>15776.0</td>\n",
              "      <td>616.0</td>\n",
              "      <td>3.0</td>\n",
              "      <td>110135000.0</td>\n",
              "      <td>330405000.0</td>\n",
              "      <td>NaN</td>\n",
              "    </tr>\n",
              "  </tbody>\n",
              "</table>\n",
              "</div>\n",
              "      <button class=\"colab-df-convert\" onclick=\"convertToInteractive('df-46efc57a-6602-4f1d-8d99-d9e69dd51970')\"\n",
              "              title=\"Convert this dataframe to an interactive table.\"\n",
              "              style=\"display:none;\">\n",
              "        \n",
              "  <svg xmlns=\"http://www.w3.org/2000/svg\" height=\"24px\"viewBox=\"0 0 24 24\"\n",
              "       width=\"24px\">\n",
              "    <path d=\"M0 0h24v24H0V0z\" fill=\"none\"/>\n",
              "    <path d=\"M18.56 5.44l.94 2.06.94-2.06 2.06-.94-2.06-.94-.94-2.06-.94 2.06-2.06.94zm-11 1L8.5 8.5l.94-2.06 2.06-.94-2.06-.94L8.5 2.5l-.94 2.06-2.06.94zm10 10l.94 2.06.94-2.06 2.06-.94-2.06-.94-.94-2.06-.94 2.06-2.06.94z\"/><path d=\"M17.41 7.96l-1.37-1.37c-.4-.4-.92-.59-1.43-.59-.52 0-1.04.2-1.43.59L10.3 9.45l-7.72 7.72c-.78.78-.78 2.05 0 2.83L4 21.41c.39.39.9.59 1.41.59.51 0 1.02-.2 1.41-.59l7.78-7.78 2.81-2.81c.8-.78.8-2.07 0-2.86zM5.41 20L4 18.59l7.72-7.72 1.47 1.35L5.41 20z\"/>\n",
              "  </svg>\n",
              "      </button>\n",
              "      \n",
              "  <style>\n",
              "    .colab-df-container {\n",
              "      display:flex;\n",
              "      flex-wrap:wrap;\n",
              "      gap: 12px;\n",
              "    }\n",
              "\n",
              "    .colab-df-convert {\n",
              "      background-color: #E8F0FE;\n",
              "      border: none;\n",
              "      border-radius: 50%;\n",
              "      cursor: pointer;\n",
              "      display: none;\n",
              "      fill: #1967D2;\n",
              "      height: 32px;\n",
              "      padding: 0 0 0 0;\n",
              "      width: 32px;\n",
              "    }\n",
              "\n",
              "    .colab-df-convert:hover {\n",
              "      background-color: #E2EBFA;\n",
              "      box-shadow: 0px 1px 2px rgba(60, 64, 67, 0.3), 0px 1px 3px 1px rgba(60, 64, 67, 0.15);\n",
              "      fill: #174EA6;\n",
              "    }\n",
              "\n",
              "    [theme=dark] .colab-df-convert {\n",
              "      background-color: #3B4455;\n",
              "      fill: #D2E3FC;\n",
              "    }\n",
              "\n",
              "    [theme=dark] .colab-df-convert:hover {\n",
              "      background-color: #434B5C;\n",
              "      box-shadow: 0px 1px 3px 1px rgba(0, 0, 0, 0.15);\n",
              "      filter: drop-shadow(0px 1px 2px rgba(0, 0, 0, 0.3));\n",
              "      fill: #FFFFFF;\n",
              "    }\n",
              "  </style>\n",
              "\n",
              "      <script>\n",
              "        const buttonEl =\n",
              "          document.querySelector('#df-46efc57a-6602-4f1d-8d99-d9e69dd51970 button.colab-df-convert');\n",
              "        buttonEl.style.display =\n",
              "          google.colab.kernel.accessAllowed ? 'block' : 'none';\n",
              "\n",
              "        async function convertToInteractive(key) {\n",
              "          const element = document.querySelector('#df-46efc57a-6602-4f1d-8d99-d9e69dd51970');\n",
              "          const dataTable =\n",
              "            await google.colab.kernel.invokeFunction('convertToInteractive',\n",
              "                                                     [key], {});\n",
              "          if (!dataTable) return;\n",
              "\n",
              "          const docLinkHtml = 'Like what you see? Visit the ' +\n",
              "            '<a target=\"_blank\" href=https://colab.research.google.com/notebooks/data_table.ipynb>data table notebook</a>'\n",
              "            + ' to learn more about interactive tables.';\n",
              "          element.innerHTML = '';\n",
              "          dataTable['output_type'] = 'display_data';\n",
              "          await google.colab.output.renderOutput(dataTable, element);\n",
              "          const docLink = document.createElement('div');\n",
              "          docLink.innerHTML = docLinkHtml;\n",
              "          element.appendChild(docLink);\n",
              "        }\n",
              "      </script>\n",
              "    </div>\n",
              "  </div>\n",
              "  "
            ]
          },
          "metadata": {},
          "execution_count": 11
        }
      ]
    },
    {
      "cell_type": "code",
      "source": [
        "df1 = df.groupby('fy').get_group('1975')\n",
        "df1 = df1.fillna(0)"
      ],
      "metadata": {
        "id": "PbBpzFyECO7q"
      },
      "execution_count": 12,
      "outputs": []
    },
    {
      "cell_type": "code",
      "source": [
        "df1.head()"
      ],
      "metadata": {
        "colab": {
          "base_uri": "https://localhost:8080/",
          "height": 204
        },
        "id": "BXn8CvsaTWWJ",
        "outputId": "e28685d6-296f-4a7f-ed9a-a428631c3e49"
      },
      "execution_count": 13,
      "outputs": [
        {
          "output_type": "execute_result",
          "data": {
            "text/plain": [
              "     gvkey    fy   earning    assets     cash  cash flow  dividends per  \\\n",
              "0        1  1975   95134.0   61804.0  10731.0      368.0            3.0   \n",
              "41       2  1975  141362.0  136559.0  10236.0    -8307.0            0.0   \n",
              "77       3  1975   80224.0  111801.0  13303.0      165.0            2.5   \n",
              "78       3  1975  103903.0  126615.0  17238.0     1926.0            2.0   \n",
              "119      4  1975  412887.0  219746.0  17858.0    -1315.0            3.0   \n",
              "\n",
              "        s number    dividends  total assets  \n",
              "0    109633000.0  328899000.0           0.0  \n",
              "41   163896000.0          0.0           0.0  \n",
              "77   200000000.0  500000000.0   501504850.0  \n",
              "78   200000000.0  400000000.0   401350624.0  \n",
              "119  300000000.0  900000000.0           0.0  "
            ],
            "text/html": [
              "\n",
              "  <div id=\"df-d55fda40-f0e7-4670-977c-8f39d51e3358\">\n",
              "    <div class=\"colab-df-container\">\n",
              "      <div>\n",
              "<style scoped>\n",
              "    .dataframe tbody tr th:only-of-type {\n",
              "        vertical-align: middle;\n",
              "    }\n",
              "\n",
              "    .dataframe tbody tr th {\n",
              "        vertical-align: top;\n",
              "    }\n",
              "\n",
              "    .dataframe thead th {\n",
              "        text-align: right;\n",
              "    }\n",
              "</style>\n",
              "<table border=\"1\" class=\"dataframe\">\n",
              "  <thead>\n",
              "    <tr style=\"text-align: right;\">\n",
              "      <th></th>\n",
              "      <th>gvkey</th>\n",
              "      <th>fy</th>\n",
              "      <th>earning</th>\n",
              "      <th>assets</th>\n",
              "      <th>cash</th>\n",
              "      <th>cash flow</th>\n",
              "      <th>dividends per</th>\n",
              "      <th>s number</th>\n",
              "      <th>dividends</th>\n",
              "      <th>total assets</th>\n",
              "    </tr>\n",
              "  </thead>\n",
              "  <tbody>\n",
              "    <tr>\n",
              "      <th>0</th>\n",
              "      <td>1</td>\n",
              "      <td>1975</td>\n",
              "      <td>95134.0</td>\n",
              "      <td>61804.0</td>\n",
              "      <td>10731.0</td>\n",
              "      <td>368.0</td>\n",
              "      <td>3.0</td>\n",
              "      <td>109633000.0</td>\n",
              "      <td>328899000.0</td>\n",
              "      <td>0.0</td>\n",
              "    </tr>\n",
              "    <tr>\n",
              "      <th>41</th>\n",
              "      <td>2</td>\n",
              "      <td>1975</td>\n",
              "      <td>141362.0</td>\n",
              "      <td>136559.0</td>\n",
              "      <td>10236.0</td>\n",
              "      <td>-8307.0</td>\n",
              "      <td>0.0</td>\n",
              "      <td>163896000.0</td>\n",
              "      <td>0.0</td>\n",
              "      <td>0.0</td>\n",
              "    </tr>\n",
              "    <tr>\n",
              "      <th>77</th>\n",
              "      <td>3</td>\n",
              "      <td>1975</td>\n",
              "      <td>80224.0</td>\n",
              "      <td>111801.0</td>\n",
              "      <td>13303.0</td>\n",
              "      <td>165.0</td>\n",
              "      <td>2.5</td>\n",
              "      <td>200000000.0</td>\n",
              "      <td>500000000.0</td>\n",
              "      <td>501504850.0</td>\n",
              "    </tr>\n",
              "    <tr>\n",
              "      <th>78</th>\n",
              "      <td>3</td>\n",
              "      <td>1975</td>\n",
              "      <td>103903.0</td>\n",
              "      <td>126615.0</td>\n",
              "      <td>17238.0</td>\n",
              "      <td>1926.0</td>\n",
              "      <td>2.0</td>\n",
              "      <td>200000000.0</td>\n",
              "      <td>400000000.0</td>\n",
              "      <td>401350624.0</td>\n",
              "    </tr>\n",
              "    <tr>\n",
              "      <th>119</th>\n",
              "      <td>4</td>\n",
              "      <td>1975</td>\n",
              "      <td>412887.0</td>\n",
              "      <td>219746.0</td>\n",
              "      <td>17858.0</td>\n",
              "      <td>-1315.0</td>\n",
              "      <td>3.0</td>\n",
              "      <td>300000000.0</td>\n",
              "      <td>900000000.0</td>\n",
              "      <td>0.0</td>\n",
              "    </tr>\n",
              "  </tbody>\n",
              "</table>\n",
              "</div>\n",
              "      <button class=\"colab-df-convert\" onclick=\"convertToInteractive('df-d55fda40-f0e7-4670-977c-8f39d51e3358')\"\n",
              "              title=\"Convert this dataframe to an interactive table.\"\n",
              "              style=\"display:none;\">\n",
              "        \n",
              "  <svg xmlns=\"http://www.w3.org/2000/svg\" height=\"24px\"viewBox=\"0 0 24 24\"\n",
              "       width=\"24px\">\n",
              "    <path d=\"M0 0h24v24H0V0z\" fill=\"none\"/>\n",
              "    <path d=\"M18.56 5.44l.94 2.06.94-2.06 2.06-.94-2.06-.94-.94-2.06-.94 2.06-2.06.94zm-11 1L8.5 8.5l.94-2.06 2.06-.94-2.06-.94L8.5 2.5l-.94 2.06-2.06.94zm10 10l.94 2.06.94-2.06 2.06-.94-2.06-.94-.94-2.06-.94 2.06-2.06.94z\"/><path d=\"M17.41 7.96l-1.37-1.37c-.4-.4-.92-.59-1.43-.59-.52 0-1.04.2-1.43.59L10.3 9.45l-7.72 7.72c-.78.78-.78 2.05 0 2.83L4 21.41c.39.39.9.59 1.41.59.51 0 1.02-.2 1.41-.59l7.78-7.78 2.81-2.81c.8-.78.8-2.07 0-2.86zM5.41 20L4 18.59l7.72-7.72 1.47 1.35L5.41 20z\"/>\n",
              "  </svg>\n",
              "      </button>\n",
              "      \n",
              "  <style>\n",
              "    .colab-df-container {\n",
              "      display:flex;\n",
              "      flex-wrap:wrap;\n",
              "      gap: 12px;\n",
              "    }\n",
              "\n",
              "    .colab-df-convert {\n",
              "      background-color: #E8F0FE;\n",
              "      border: none;\n",
              "      border-radius: 50%;\n",
              "      cursor: pointer;\n",
              "      display: none;\n",
              "      fill: #1967D2;\n",
              "      height: 32px;\n",
              "      padding: 0 0 0 0;\n",
              "      width: 32px;\n",
              "    }\n",
              "\n",
              "    .colab-df-convert:hover {\n",
              "      background-color: #E2EBFA;\n",
              "      box-shadow: 0px 1px 2px rgba(60, 64, 67, 0.3), 0px 1px 3px 1px rgba(60, 64, 67, 0.15);\n",
              "      fill: #174EA6;\n",
              "    }\n",
              "\n",
              "    [theme=dark] .colab-df-convert {\n",
              "      background-color: #3B4455;\n",
              "      fill: #D2E3FC;\n",
              "    }\n",
              "\n",
              "    [theme=dark] .colab-df-convert:hover {\n",
              "      background-color: #434B5C;\n",
              "      box-shadow: 0px 1px 3px 1px rgba(0, 0, 0, 0.15);\n",
              "      filter: drop-shadow(0px 1px 2px rgba(0, 0, 0, 0.3));\n",
              "      fill: #FFFFFF;\n",
              "    }\n",
              "  </style>\n",
              "\n",
              "      <script>\n",
              "        const buttonEl =\n",
              "          document.querySelector('#df-d55fda40-f0e7-4670-977c-8f39d51e3358 button.colab-df-convert');\n",
              "        buttonEl.style.display =\n",
              "          google.colab.kernel.accessAllowed ? 'block' : 'none';\n",
              "\n",
              "        async function convertToInteractive(key) {\n",
              "          const element = document.querySelector('#df-d55fda40-f0e7-4670-977c-8f39d51e3358');\n",
              "          const dataTable =\n",
              "            await google.colab.kernel.invokeFunction('convertToInteractive',\n",
              "                                                     [key], {});\n",
              "          if (!dataTable) return;\n",
              "\n",
              "          const docLinkHtml = 'Like what you see? Visit the ' +\n",
              "            '<a target=\"_blank\" href=https://colab.research.google.com/notebooks/data_table.ipynb>data table notebook</a>'\n",
              "            + ' to learn more about interactive tables.';\n",
              "          element.innerHTML = '';\n",
              "          dataTable['output_type'] = 'display_data';\n",
              "          await google.colab.output.renderOutput(dataTable, element);\n",
              "          const docLink = document.createElement('div');\n",
              "          docLink.innerHTML = docLinkHtml;\n",
              "          element.appendChild(docLink);\n",
              "        }\n",
              "      </script>\n",
              "    </div>\n",
              "  </div>\n",
              "  "
            ]
          },
          "metadata": {},
          "execution_count": 13
        }
      ]
    },
    {
      "cell_type": "code",
      "source": [
        "l1 = sorted(df1.loc[:,'earning'].to_list(),reverse=True)\n",
        "total = l1[0]\n",
        "n_1a = 0\n",
        "while total <= sum(l1) * 0.5:\n",
        "  n_1a += 1\n",
        "  total += l1[n_1a]\n",
        "print(f'n_1a={n_1a},total={total}')\n",
        "n_1b = 100 * sum(l1[0:100]) / sum(l1)\n",
        "print(f'n_1b={n_1b}')\n",
        "print(l1[n_1a])"
      ],
      "metadata": {
        "colab": {
          "base_uri": "https://localhost:8080/"
        },
        "id": "a9PirjX8V_Wp",
        "outputId": "6aa9b031-df39-4df1-8d21-0e7c085870a6"
      },
      "execution_count": 14,
      "outputs": [
        {
          "output_type": "stream",
          "name": "stdout",
          "text": [
            "n_1a=65,total=48509382.0\n",
            "n_1b=57.28091344176578\n",
            "250371.0\n"
          ]
        }
      ]
    },
    {
      "cell_type": "code",
      "source": [
        "l1 = sorted(df1.loc[:,'assets'].to_list(),reverse=True)\n",
        "total = l1[0]\n",
        "n_2a = 0\n",
        "while total <= sum(l1) * 0.5:\n",
        "  n_2a += 1\n",
        "  total += l1[n_2a]\n",
        "print(f'n_2a={n_2a},total={total}')\n",
        "n_2b = 100 * sum(l1[0:100]) / sum(l1)\n",
        "print(f'n_2b={n_2b}')"
      ],
      "metadata": {
        "colab": {
          "base_uri": "https://localhost:8080/"
        },
        "id": "9lxEgFxAZJIT",
        "outputId": "f5a0b6ac-2606-4db1-9d39-141129fe62f9"
      },
      "execution_count": 15,
      "outputs": [
        {
          "output_type": "stream",
          "name": "stdout",
          "text": [
            "n_2a=72,total=67565556.0\n",
            "n_2b=56.43709483235851\n"
          ]
        }
      ]
    },
    {
      "cell_type": "code",
      "source": [
        "l1 = sorted(df1.loc[:,'cash'].to_list(),reverse=True)\n",
        "total = l1[0]\n",
        "n_3a = 0\n",
        "while total <= sum(l1) * 0.5:\n",
        "  n_3a += 1\n",
        "  total += l1[n_3a]\n",
        "print(f'n_3a={n_3a},total={total}')\n",
        "n_3b = 100 * sum(l1[0:100]) / sum(l1)\n",
        "print(f'n_3b={n_3b}')"
      ],
      "metadata": {
        "colab": {
          "base_uri": "https://localhost:8080/"
        },
        "id": "kYgzU2j7lem8",
        "outputId": "c6701413-ea69-4851-86df-45a5d171ba67"
      },
      "execution_count": 16,
      "outputs": [
        {
          "output_type": "stream",
          "name": "stdout",
          "text": [
            "n_3a=138,total=7109015.0\n",
            "n_3b=43.233415328834226\n"
          ]
        }
      ]
    },
    {
      "cell_type": "code",
      "source": [
        "l1 = sorted(df1.loc[:,'cash flow'].to_list(),reverse=True)\n",
        "total = l1[0]\n",
        "n_4a = 0\n",
        "while total <= sum(l1) * 0.5:\n",
        "  n_4a += 1\n",
        "  total += l1[n_4a]\n",
        "print(f'n_4a={n_4a},total={total}')\n",
        "n_4b = 100 * sum(l1[0:100]) / sum(l1)\n",
        "print(f'n_4b={n_4b}')"
      ],
      "metadata": {
        "colab": {
          "base_uri": "https://localhost:8080/"
        },
        "id": "1gSKXnU6ltA4",
        "outputId": "81b3ec9e-3489-49b4-a4ca-8aecacb68962"
      },
      "execution_count": 17,
      "outputs": [
        {
          "output_type": "stream",
          "name": "stdout",
          "text": [
            "n_4a=29,total=933339.0\n",
            "n_4b=78.269064116575\n"
          ]
        }
      ]
    },
    {
      "cell_type": "code",
      "source": [
        "l1 = sorted(df1.loc[:,'dividends'].to_list(),reverse=True)\n",
        "total = l1[0]\n",
        "n_5a = 0\n",
        "while total <= sum(l1) * 0.5:\n",
        "  n_5a += 1\n",
        "  total += l1[n_5a]\n",
        "print(f'n_5a={n_5a},total={total}')\n",
        "n_5b = 100 * sum(l1[0:100]) / sum(l1)\n",
        "print(f'n_5b={n_5b}')"
      ],
      "metadata": {
        "colab": {
          "base_uri": "https://localhost:8080/"
        },
        "id": "MttjezG7l-H_",
        "outputId": "e6692d69-a206-4f4a-8918-e1be95c5894f"
      },
      "execution_count": 18,
      "outputs": [
        {
          "output_type": "stream",
          "name": "stdout",
          "text": [
            "n_5a=79,total=281101685250.0\n",
            "n_5b=54.327030853954575\n"
          ]
        }
      ]
    },
    {
      "cell_type": "code",
      "source": [
        "l1 = sorted(df1.loc[:,'total assets'].to_list(),reverse=True)\n",
        "total = l1[0]\n",
        "n_6a = 0\n",
        "while total <= sum(l1) * 0.5:\n",
        "  n_6a += 1\n",
        "  total += l1[n_6a]\n",
        "print(f'n_6a={n_6a},total={total}')\n",
        "n_6b = 100 * sum(l1[0:100]) / sum(l1)\n",
        "print(f'n_6b={n_6b}')"
      ],
      "metadata": {
        "colab": {
          "base_uri": "https://localhost:8080/"
        },
        "id": "QPzYuoW15lld",
        "outputId": "102acace-5481-4183-d537-ee81822c9212"
      },
      "execution_count": 19,
      "outputs": [
        {
          "output_type": "stream",
          "name": "stdout",
          "text": [
            "n_6a=76,total=227838068197.72998\n",
            "n_6b=55.09719823005891\n"
          ]
        }
      ]
    },
    {
      "cell_type": "code",
      "source": [
        "df2 = df.groupby('fy').get_group('1995')\n",
        "df2 = df2.fillna(0)"
      ],
      "metadata": {
        "id": "GKdo2AedmbUX"
      },
      "execution_count": 20,
      "outputs": []
    },
    {
      "cell_type": "code",
      "source": [
        "df2.head()"
      ],
      "metadata": {
        "colab": {
          "base_uri": "https://localhost:8080/",
          "height": 204
        },
        "id": "xJHsZYydmx0s",
        "outputId": "c464d5db-51ad-4c9d-9d87-765927008c98"
      },
      "execution_count": 21,
      "outputs": [
        {
          "output_type": "execute_result",
          "data": {
            "text/plain": [
              "     gvkey    fy   earning    assets    cash  cash flow  dividends per  \\\n",
              "20       1  1995  161431.0   56110.0  4534.0      635.0            0.0   \n",
              "61       2  1995  173152.0   95557.0  3963.0     2961.0            3.0   \n",
              "98       3  1995  400869.0  224873.0  7579.0      539.0            0.0   \n",
              "140      4  1995  420802.0  230828.0  3343.0     2413.0            0.0   \n",
              "178      5  1995   71860.0   39176.0  1589.0      844.0            0.0   \n",
              "\n",
              "        s number    dividends  total assets  \n",
              "20   113283000.0          0.0           0.0  \n",
              "61   164492000.0  493476000.0   493773000.0  \n",
              "98   297012000.0          0.0           0.0  \n",
              "140  300000000.0          0.0           0.0  \n",
              "178   60000000.0          0.0           0.0  "
            ],
            "text/html": [
              "\n",
              "  <div id=\"df-3b2bcfc3-c282-4727-81cb-b96afbd2cb4b\">\n",
              "    <div class=\"colab-df-container\">\n",
              "      <div>\n",
              "<style scoped>\n",
              "    .dataframe tbody tr th:only-of-type {\n",
              "        vertical-align: middle;\n",
              "    }\n",
              "\n",
              "    .dataframe tbody tr th {\n",
              "        vertical-align: top;\n",
              "    }\n",
              "\n",
              "    .dataframe thead th {\n",
              "        text-align: right;\n",
              "    }\n",
              "</style>\n",
              "<table border=\"1\" class=\"dataframe\">\n",
              "  <thead>\n",
              "    <tr style=\"text-align: right;\">\n",
              "      <th></th>\n",
              "      <th>gvkey</th>\n",
              "      <th>fy</th>\n",
              "      <th>earning</th>\n",
              "      <th>assets</th>\n",
              "      <th>cash</th>\n",
              "      <th>cash flow</th>\n",
              "      <th>dividends per</th>\n",
              "      <th>s number</th>\n",
              "      <th>dividends</th>\n",
              "      <th>total assets</th>\n",
              "    </tr>\n",
              "  </thead>\n",
              "  <tbody>\n",
              "    <tr>\n",
              "      <th>20</th>\n",
              "      <td>1</td>\n",
              "      <td>1995</td>\n",
              "      <td>161431.0</td>\n",
              "      <td>56110.0</td>\n",
              "      <td>4534.0</td>\n",
              "      <td>635.0</td>\n",
              "      <td>0.0</td>\n",
              "      <td>113283000.0</td>\n",
              "      <td>0.0</td>\n",
              "      <td>0.0</td>\n",
              "    </tr>\n",
              "    <tr>\n",
              "      <th>61</th>\n",
              "      <td>2</td>\n",
              "      <td>1995</td>\n",
              "      <td>173152.0</td>\n",
              "      <td>95557.0</td>\n",
              "      <td>3963.0</td>\n",
              "      <td>2961.0</td>\n",
              "      <td>3.0</td>\n",
              "      <td>164492000.0</td>\n",
              "      <td>493476000.0</td>\n",
              "      <td>493773000.0</td>\n",
              "    </tr>\n",
              "    <tr>\n",
              "      <th>98</th>\n",
              "      <td>3</td>\n",
              "      <td>1995</td>\n",
              "      <td>400869.0</td>\n",
              "      <td>224873.0</td>\n",
              "      <td>7579.0</td>\n",
              "      <td>539.0</td>\n",
              "      <td>0.0</td>\n",
              "      <td>297012000.0</td>\n",
              "      <td>0.0</td>\n",
              "      <td>0.0</td>\n",
              "    </tr>\n",
              "    <tr>\n",
              "      <th>140</th>\n",
              "      <td>4</td>\n",
              "      <td>1995</td>\n",
              "      <td>420802.0</td>\n",
              "      <td>230828.0</td>\n",
              "      <td>3343.0</td>\n",
              "      <td>2413.0</td>\n",
              "      <td>0.0</td>\n",
              "      <td>300000000.0</td>\n",
              "      <td>0.0</td>\n",
              "      <td>0.0</td>\n",
              "    </tr>\n",
              "    <tr>\n",
              "      <th>178</th>\n",
              "      <td>5</td>\n",
              "      <td>1995</td>\n",
              "      <td>71860.0</td>\n",
              "      <td>39176.0</td>\n",
              "      <td>1589.0</td>\n",
              "      <td>844.0</td>\n",
              "      <td>0.0</td>\n",
              "      <td>60000000.0</td>\n",
              "      <td>0.0</td>\n",
              "      <td>0.0</td>\n",
              "    </tr>\n",
              "  </tbody>\n",
              "</table>\n",
              "</div>\n",
              "      <button class=\"colab-df-convert\" onclick=\"convertToInteractive('df-3b2bcfc3-c282-4727-81cb-b96afbd2cb4b')\"\n",
              "              title=\"Convert this dataframe to an interactive table.\"\n",
              "              style=\"display:none;\">\n",
              "        \n",
              "  <svg xmlns=\"http://www.w3.org/2000/svg\" height=\"24px\"viewBox=\"0 0 24 24\"\n",
              "       width=\"24px\">\n",
              "    <path d=\"M0 0h24v24H0V0z\" fill=\"none\"/>\n",
              "    <path d=\"M18.56 5.44l.94 2.06.94-2.06 2.06-.94-2.06-.94-.94-2.06-.94 2.06-2.06.94zm-11 1L8.5 8.5l.94-2.06 2.06-.94-2.06-.94L8.5 2.5l-.94 2.06-2.06.94zm10 10l.94 2.06.94-2.06 2.06-.94-2.06-.94-.94-2.06-.94 2.06-2.06.94z\"/><path d=\"M17.41 7.96l-1.37-1.37c-.4-.4-.92-.59-1.43-.59-.52 0-1.04.2-1.43.59L10.3 9.45l-7.72 7.72c-.78.78-.78 2.05 0 2.83L4 21.41c.39.39.9.59 1.41.59.51 0 1.02-.2 1.41-.59l7.78-7.78 2.81-2.81c.8-.78.8-2.07 0-2.86zM5.41 20L4 18.59l7.72-7.72 1.47 1.35L5.41 20z\"/>\n",
              "  </svg>\n",
              "      </button>\n",
              "      \n",
              "  <style>\n",
              "    .colab-df-container {\n",
              "      display:flex;\n",
              "      flex-wrap:wrap;\n",
              "      gap: 12px;\n",
              "    }\n",
              "\n",
              "    .colab-df-convert {\n",
              "      background-color: #E8F0FE;\n",
              "      border: none;\n",
              "      border-radius: 50%;\n",
              "      cursor: pointer;\n",
              "      display: none;\n",
              "      fill: #1967D2;\n",
              "      height: 32px;\n",
              "      padding: 0 0 0 0;\n",
              "      width: 32px;\n",
              "    }\n",
              "\n",
              "    .colab-df-convert:hover {\n",
              "      background-color: #E2EBFA;\n",
              "      box-shadow: 0px 1px 2px rgba(60, 64, 67, 0.3), 0px 1px 3px 1px rgba(60, 64, 67, 0.15);\n",
              "      fill: #174EA6;\n",
              "    }\n",
              "\n",
              "    [theme=dark] .colab-df-convert {\n",
              "      background-color: #3B4455;\n",
              "      fill: #D2E3FC;\n",
              "    }\n",
              "\n",
              "    [theme=dark] .colab-df-convert:hover {\n",
              "      background-color: #434B5C;\n",
              "      box-shadow: 0px 1px 3px 1px rgba(0, 0, 0, 0.15);\n",
              "      filter: drop-shadow(0px 1px 2px rgba(0, 0, 0, 0.3));\n",
              "      fill: #FFFFFF;\n",
              "    }\n",
              "  </style>\n",
              "\n",
              "      <script>\n",
              "        const buttonEl =\n",
              "          document.querySelector('#df-3b2bcfc3-c282-4727-81cb-b96afbd2cb4b button.colab-df-convert');\n",
              "        buttonEl.style.display =\n",
              "          google.colab.kernel.accessAllowed ? 'block' : 'none';\n",
              "\n",
              "        async function convertToInteractive(key) {\n",
              "          const element = document.querySelector('#df-3b2bcfc3-c282-4727-81cb-b96afbd2cb4b');\n",
              "          const dataTable =\n",
              "            await google.colab.kernel.invokeFunction('convertToInteractive',\n",
              "                                                     [key], {});\n",
              "          if (!dataTable) return;\n",
              "\n",
              "          const docLinkHtml = 'Like what you see? Visit the ' +\n",
              "            '<a target=\"_blank\" href=https://colab.research.google.com/notebooks/data_table.ipynb>data table notebook</a>'\n",
              "            + ' to learn more about interactive tables.';\n",
              "          element.innerHTML = '';\n",
              "          dataTable['output_type'] = 'display_data';\n",
              "          await google.colab.output.renderOutput(dataTable, element);\n",
              "          const docLink = document.createElement('div');\n",
              "          docLink.innerHTML = docLinkHtml;\n",
              "          element.appendChild(docLink);\n",
              "        }\n",
              "      </script>\n",
              "    </div>\n",
              "  </div>\n",
              "  "
            ]
          },
          "metadata": {},
          "execution_count": 21
        }
      ]
    },
    {
      "cell_type": "code",
      "source": [
        "l2 = sorted(df2.loc[:,'earning'].to_list(),reverse=True)\n",
        "total = l2[0]\n",
        "n_7a = 0\n",
        "while total <= sum(l2) * 0.5:\n",
        "  n_7a += 1\n",
        "  total += l2[n_7a]\n",
        "print(f'n_7a={n_7a},total={total}')\n",
        "n_7b = 100 * sum(l2[0:100]) / sum(l2)\n",
        "print(f'n_7b={n_7b}')"
      ],
      "metadata": {
        "colab": {
          "base_uri": "https://localhost:8080/"
        },
        "id": "zn02tF9Hm2TI",
        "outputId": "f67ca2b6-eeef-4407-f16a-91a20c234c02"
      },
      "execution_count": 22,
      "outputs": [
        {
          "output_type": "stream",
          "name": "stdout",
          "text": [
            "n_7a=91,total=231763813.0\n",
            "n_7b=51.221756612192024\n"
          ]
        }
      ]
    },
    {
      "cell_type": "code",
      "source": [
        "l2 = sorted(df2.loc[:,'assets'].to_list(),reverse=True)\n",
        "total = l2[0]\n",
        "n_8a = 0\n",
        "while total <= sum(l2) * 0.5:\n",
        "  n_8a += 1\n",
        "  total += l2[n_8a]\n",
        "print(f'n_8a={n_8a},total={total}')\n",
        "n_8b = 100 * sum(l2[0:100]) / sum(l2)\n",
        "print(f'n_8b={n_8b}')"
      ],
      "metadata": {
        "colab": {
          "base_uri": "https://localhost:8080/"
        },
        "id": "BOBZT7yNnLLn",
        "outputId": "9225b431-b4b8-48e4-cec0-ff49da92e28a"
      },
      "execution_count": 23,
      "outputs": [
        {
          "output_type": "stream",
          "name": "stdout",
          "text": [
            "n_8a=108,total=259045320.0\n",
            "n_8b=48.37085670437315\n"
          ]
        }
      ]
    },
    {
      "cell_type": "code",
      "source": [
        "l2 = sorted(df2.loc[:,'cash'].to_list(),reverse=True)\n",
        "total = l2[0]\n",
        "n_9a = 0\n",
        "while total <= sum(l2) * 0.5:\n",
        "  n_9a += 1\n",
        "  total += l2[n_9a]\n",
        "print(f'n_9a={n_9a},total={total}')\n",
        "n_9b = 100 * sum(l2[0:100]) / sum(l2)\n",
        "print(f'n_9b={n_9b}')"
      ],
      "metadata": {
        "colab": {
          "base_uri": "https://localhost:8080/"
        },
        "id": "KgurYFgQonHG",
        "outputId": "cd761302-42c9-43dd-d260-1d09e254058b"
      },
      "execution_count": 24,
      "outputs": [
        {
          "output_type": "stream",
          "name": "stdout",
          "text": [
            "n_9a=125,total=23129419.0\n",
            "n_9b=45.9248738808049\n"
          ]
        }
      ]
    },
    {
      "cell_type": "code",
      "source": [
        "l2 = sorted(df2.loc[:,'cash flow'].to_list(),reverse=True)\n",
        "total = l2[0]\n",
        "n_10a = 0\n",
        "while total <= sum(l2) * 0.5:\n",
        "  n_10a += 1\n",
        "  total += l2[n_10a]\n",
        "print(f'n_10a={n_10a},total={total}')\n",
        "n_10b = 100 * sum(l2[0:100]) / sum(l2)\n",
        "print(f'n_10b={n_10b}')"
      ],
      "metadata": {
        "colab": {
          "base_uri": "https://localhost:8080/"
        },
        "id": "RnHs6qqWoyqR",
        "outputId": "3fb0d17d-5781-4fc4-9188-7dafec15f67a"
      },
      "execution_count": 25,
      "outputs": [
        {
          "output_type": "stream",
          "name": "stdout",
          "text": [
            "n_10a=111,total=5771164.0\n",
            "n_10b=47.5750462482379\n"
          ]
        }
      ]
    },
    {
      "cell_type": "code",
      "source": [
        "l2 = sorted(df2.loc[:,'dividends'].to_list(),reverse=True)\n",
        "total = l2[0]\n",
        "n_11a = 0\n",
        "while total <= sum(l2) * 0.5:\n",
        "  n_11a += 1\n",
        "  total += l2[n_11a]\n",
        "print(f'n_11a={n_11a},total={total}')\n",
        "n_11b = 100 * sum(l2[0:100]) / sum(l2)\n",
        "print(f'n_11b={n_11b}')"
      ],
      "metadata": {
        "colab": {
          "base_uri": "https://localhost:8080/"
        },
        "id": "K4x_eRM5pXNN",
        "outputId": "cc2e38ad-40ab-4920-c513-ea08626a94f0"
      },
      "execution_count": 26,
      "outputs": [
        {
          "output_type": "stream",
          "name": "stdout",
          "text": [
            "n_11a=102,total=776943215750.0\n",
            "n_11b=49.41650415972782\n"
          ]
        }
      ]
    },
    {
      "cell_type": "code",
      "source": [
        "l2 = sorted(df2.loc[:,'total assets'].to_list(),reverse=True)\n",
        "total = l2[0]\n",
        "n_12a = 0\n",
        "while total <= sum(l2) * 0.5:\n",
        "  n_12a += 1\n",
        "  total += l2[n_12a]\n",
        "print(f'n_12a={n_12a},total={total}')\n",
        "n_12b = 100 * sum(l2[0:100]) / sum(l2)\n",
        "print(f'n_12b={n_12b}')"
      ],
      "metadata": {
        "colab": {
          "base_uri": "https://localhost:8080/"
        },
        "id": "vVC6mVUouKmK",
        "outputId": "9f113660-938e-4986-f64c-0b6ab9c7c327"
      },
      "execution_count": 27,
      "outputs": [
        {
          "output_type": "stream",
          "name": "stdout",
          "text": [
            "n_12a=82,total=458152093248.25\n",
            "n_12b=54.83189364225138\n"
          ]
        }
      ]
    },
    {
      "cell_type": "code",
      "source": [
        "df3 = df.groupby('fy').get_group('2015')\n",
        "df3 = df3.fillna(0)"
      ],
      "metadata": {
        "id": "KcCiV0UPuYdg"
      },
      "execution_count": 28,
      "outputs": []
    },
    {
      "cell_type": "code",
      "source": [
        "df3.head()"
      ],
      "metadata": {
        "colab": {
          "base_uri": "https://localhost:8080/",
          "height": 204
        },
        "id": "rkA66PmbusOq",
        "outputId": "375ebba4-a00d-4a65-ed37-07a94e94f47e"
      },
      "execution_count": 29,
      "outputs": [
        {
          "output_type": "execute_result",
          "data": {
            "text/plain": [
              "     gvkey    fy   earning    assets    cash  cash flow  dividends per  \\\n",
              "40       1  2015  212086.0   73519.0  1635.0     2042.0            5.0   \n",
              "118      3  2015  350683.0  298391.0   141.0     5857.0            3.0   \n",
              "156      4  2015  414626.0  332052.0  1921.0     3486.0           30.0   \n",
              "225      6  2015   19556.0   17541.0   342.0      267.0            2.0   \n",
              "365     15  2015   46087.0   55694.0  6666.0     1172.0            2.0   \n",
              "\n",
              "        s number     dividends  total assets  \n",
              "40   109282837.0  5.464142e+08  5.464192e+08  \n",
              "118  277210277.0  8.316308e+08  0.000000e+00  \n",
              "156   52656910.0  1.579707e+09  1.579797e+09  \n",
              "225   83790000.0  1.675800e+08  1.679203e+08  \n",
              "365   88087784.0  1.761756e+08  1.761936e+08  "
            ],
            "text/html": [
              "\n",
              "  <div id=\"df-f368410a-5ced-4d09-9e8d-b37fea489333\">\n",
              "    <div class=\"colab-df-container\">\n",
              "      <div>\n",
              "<style scoped>\n",
              "    .dataframe tbody tr th:only-of-type {\n",
              "        vertical-align: middle;\n",
              "    }\n",
              "\n",
              "    .dataframe tbody tr th {\n",
              "        vertical-align: top;\n",
              "    }\n",
              "\n",
              "    .dataframe thead th {\n",
              "        text-align: right;\n",
              "    }\n",
              "</style>\n",
              "<table border=\"1\" class=\"dataframe\">\n",
              "  <thead>\n",
              "    <tr style=\"text-align: right;\">\n",
              "      <th></th>\n",
              "      <th>gvkey</th>\n",
              "      <th>fy</th>\n",
              "      <th>earning</th>\n",
              "      <th>assets</th>\n",
              "      <th>cash</th>\n",
              "      <th>cash flow</th>\n",
              "      <th>dividends per</th>\n",
              "      <th>s number</th>\n",
              "      <th>dividends</th>\n",
              "      <th>total assets</th>\n",
              "    </tr>\n",
              "  </thead>\n",
              "  <tbody>\n",
              "    <tr>\n",
              "      <th>40</th>\n",
              "      <td>1</td>\n",
              "      <td>2015</td>\n",
              "      <td>212086.0</td>\n",
              "      <td>73519.0</td>\n",
              "      <td>1635.0</td>\n",
              "      <td>2042.0</td>\n",
              "      <td>5.0</td>\n",
              "      <td>109282837.0</td>\n",
              "      <td>5.464142e+08</td>\n",
              "      <td>5.464192e+08</td>\n",
              "    </tr>\n",
              "    <tr>\n",
              "      <th>118</th>\n",
              "      <td>3</td>\n",
              "      <td>2015</td>\n",
              "      <td>350683.0</td>\n",
              "      <td>298391.0</td>\n",
              "      <td>141.0</td>\n",
              "      <td>5857.0</td>\n",
              "      <td>3.0</td>\n",
              "      <td>277210277.0</td>\n",
              "      <td>8.316308e+08</td>\n",
              "      <td>0.000000e+00</td>\n",
              "    </tr>\n",
              "    <tr>\n",
              "      <th>156</th>\n",
              "      <td>4</td>\n",
              "      <td>2015</td>\n",
              "      <td>414626.0</td>\n",
              "      <td>332052.0</td>\n",
              "      <td>1921.0</td>\n",
              "      <td>3486.0</td>\n",
              "      <td>30.0</td>\n",
              "      <td>52656910.0</td>\n",
              "      <td>1.579707e+09</td>\n",
              "      <td>1.579797e+09</td>\n",
              "    </tr>\n",
              "    <tr>\n",
              "      <th>225</th>\n",
              "      <td>6</td>\n",
              "      <td>2015</td>\n",
              "      <td>19556.0</td>\n",
              "      <td>17541.0</td>\n",
              "      <td>342.0</td>\n",
              "      <td>267.0</td>\n",
              "      <td>2.0</td>\n",
              "      <td>83790000.0</td>\n",
              "      <td>1.675800e+08</td>\n",
              "      <td>1.679203e+08</td>\n",
              "    </tr>\n",
              "    <tr>\n",
              "      <th>365</th>\n",
              "      <td>15</td>\n",
              "      <td>2015</td>\n",
              "      <td>46087.0</td>\n",
              "      <td>55694.0</td>\n",
              "      <td>6666.0</td>\n",
              "      <td>1172.0</td>\n",
              "      <td>2.0</td>\n",
              "      <td>88087784.0</td>\n",
              "      <td>1.761756e+08</td>\n",
              "      <td>1.761936e+08</td>\n",
              "    </tr>\n",
              "  </tbody>\n",
              "</table>\n",
              "</div>\n",
              "      <button class=\"colab-df-convert\" onclick=\"convertToInteractive('df-f368410a-5ced-4d09-9e8d-b37fea489333')\"\n",
              "              title=\"Convert this dataframe to an interactive table.\"\n",
              "              style=\"display:none;\">\n",
              "        \n",
              "  <svg xmlns=\"http://www.w3.org/2000/svg\" height=\"24px\"viewBox=\"0 0 24 24\"\n",
              "       width=\"24px\">\n",
              "    <path d=\"M0 0h24v24H0V0z\" fill=\"none\"/>\n",
              "    <path d=\"M18.56 5.44l.94 2.06.94-2.06 2.06-.94-2.06-.94-.94-2.06-.94 2.06-2.06.94zm-11 1L8.5 8.5l.94-2.06 2.06-.94-2.06-.94L8.5 2.5l-.94 2.06-2.06.94zm10 10l.94 2.06.94-2.06 2.06-.94-2.06-.94-.94-2.06-.94 2.06-2.06.94z\"/><path d=\"M17.41 7.96l-1.37-1.37c-.4-.4-.92-.59-1.43-.59-.52 0-1.04.2-1.43.59L10.3 9.45l-7.72 7.72c-.78.78-.78 2.05 0 2.83L4 21.41c.39.39.9.59 1.41.59.51 0 1.02-.2 1.41-.59l7.78-7.78 2.81-2.81c.8-.78.8-2.07 0-2.86zM5.41 20L4 18.59l7.72-7.72 1.47 1.35L5.41 20z\"/>\n",
              "  </svg>\n",
              "      </button>\n",
              "      \n",
              "  <style>\n",
              "    .colab-df-container {\n",
              "      display:flex;\n",
              "      flex-wrap:wrap;\n",
              "      gap: 12px;\n",
              "    }\n",
              "\n",
              "    .colab-df-convert {\n",
              "      background-color: #E8F0FE;\n",
              "      border: none;\n",
              "      border-radius: 50%;\n",
              "      cursor: pointer;\n",
              "      display: none;\n",
              "      fill: #1967D2;\n",
              "      height: 32px;\n",
              "      padding: 0 0 0 0;\n",
              "      width: 32px;\n",
              "    }\n",
              "\n",
              "    .colab-df-convert:hover {\n",
              "      background-color: #E2EBFA;\n",
              "      box-shadow: 0px 1px 2px rgba(60, 64, 67, 0.3), 0px 1px 3px 1px rgba(60, 64, 67, 0.15);\n",
              "      fill: #174EA6;\n",
              "    }\n",
              "\n",
              "    [theme=dark] .colab-df-convert {\n",
              "      background-color: #3B4455;\n",
              "      fill: #D2E3FC;\n",
              "    }\n",
              "\n",
              "    [theme=dark] .colab-df-convert:hover {\n",
              "      background-color: #434B5C;\n",
              "      box-shadow: 0px 1px 3px 1px rgba(0, 0, 0, 0.15);\n",
              "      filter: drop-shadow(0px 1px 2px rgba(0, 0, 0, 0.3));\n",
              "      fill: #FFFFFF;\n",
              "    }\n",
              "  </style>\n",
              "\n",
              "      <script>\n",
              "        const buttonEl =\n",
              "          document.querySelector('#df-f368410a-5ced-4d09-9e8d-b37fea489333 button.colab-df-convert');\n",
              "        buttonEl.style.display =\n",
              "          google.colab.kernel.accessAllowed ? 'block' : 'none';\n",
              "\n",
              "        async function convertToInteractive(key) {\n",
              "          const element = document.querySelector('#df-f368410a-5ced-4d09-9e8d-b37fea489333');\n",
              "          const dataTable =\n",
              "            await google.colab.kernel.invokeFunction('convertToInteractive',\n",
              "                                                     [key], {});\n",
              "          if (!dataTable) return;\n",
              "\n",
              "          const docLinkHtml = 'Like what you see? Visit the ' +\n",
              "            '<a target=\"_blank\" href=https://colab.research.google.com/notebooks/data_table.ipynb>data table notebook</a>'\n",
              "            + ' to learn more about interactive tables.';\n",
              "          element.innerHTML = '';\n",
              "          dataTable['output_type'] = 'display_data';\n",
              "          await google.colab.output.renderOutput(dataTable, element);\n",
              "          const docLink = document.createElement('div');\n",
              "          docLink.innerHTML = docLinkHtml;\n",
              "          element.appendChild(docLink);\n",
              "        }\n",
              "      </script>\n",
              "    </div>\n",
              "  </div>\n",
              "  "
            ]
          },
          "metadata": {},
          "execution_count": 29
        }
      ]
    },
    {
      "cell_type": "code",
      "source": [
        "l3 = sorted(df3.loc[:,'earning'].to_list(),reverse=True)\n",
        "total = l3[0]\n",
        "n_13a = 0\n",
        "while total <= sum(l3) * 0.5:\n",
        "  n_13a += 1\n",
        "  total += l3[n_13a]\n",
        "print(f'n_13a={n_13a},total={total}')\n",
        "n_13b = 100 * sum(l3[0:100]) / sum(l3)\n",
        "print(f'n_13b={n_13b}')"
      ],
      "metadata": {
        "colab": {
          "base_uri": "https://localhost:8080/"
        },
        "id": "l-_yXp6EuwbP",
        "outputId": "46c5ec17-4b2e-4ab9-f070-a5e4c9d48c0d"
      },
      "execution_count": 30,
      "outputs": [
        {
          "output_type": "stream",
          "name": "stdout",
          "text": [
            "n_13a=102,total=198217904.0\n",
            "n_13b=49.544915982992805\n"
          ]
        }
      ]
    },
    {
      "cell_type": "code",
      "source": [
        "l3 = sorted(df3.loc[:,'assets'].to_list(),reverse=True)\n",
        "total = l3[0]\n",
        "n_14a = 0\n",
        "while total <= sum(l3) * 0.5:\n",
        "  n_14a += 1\n",
        "  total += l3[n_14a]\n",
        "print(f'n_14a={n_14a},total={total}')\n",
        "n_14b = 100 * sum(l3[0:100]) / sum(l3)\n",
        "print(f'n_14b={n_14b}')"
      ],
      "metadata": {
        "colab": {
          "base_uri": "https://localhost:8080/"
        },
        "id": "cofcZW27vDL-",
        "outputId": "1387f944-b9e4-4415-db54-40511d83f686"
      },
      "execution_count": 31,
      "outputs": [
        {
          "output_type": "stream",
          "name": "stdout",
          "text": [
            "n_14a=108,total=328230469.0\n",
            "n_14b=48.263523983393654\n"
          ]
        }
      ]
    },
    {
      "cell_type": "code",
      "source": [
        "l3 = sorted(df3.loc[:,'cash'].to_list(),reverse=True)\n",
        "total = l3[0]\n",
        "n_15a = 0\n",
        "while total <= sum(l3) * 0.5:\n",
        "  n_15a += 1\n",
        "  total += l3[n_15a]\n",
        "print(f'n_15a={n_15a},total={total}')\n",
        "n_15b = 100 * sum(l3[0:100]) / sum(l3)\n",
        "print(f'n_15b={n_15b}')"
      ],
      "metadata": {
        "colab": {
          "base_uri": "https://localhost:8080/"
        },
        "id": "sJRSjfsIvWUl",
        "outputId": "a0e8b3bc-cc7a-48c4-e3c6-6898506e9e35"
      },
      "execution_count": 32,
      "outputs": [
        {
          "output_type": "stream",
          "name": "stdout",
          "text": [
            "n_15a=121,total=23016412.0\n",
            "n_15b=46.91699918557517\n"
          ]
        }
      ]
    },
    {
      "cell_type": "code",
      "source": [
        "l3 = sorted(df3.loc[:,'cash flow'].to_list(),reverse=True)\n",
        "total = l3[0]\n",
        "n_16a = 0\n",
        "while total <= sum(l3) * 0.5:\n",
        "  n_16a += 1\n",
        "  total += l3[n_16a]\n",
        "print(f'n_16a={n_16a},total={total}')\n",
        "n_16b = 100 * sum(l3[0:100]) / sum(l3)\n",
        "print(f'n_16b={n_16b}')"
      ],
      "metadata": {
        "colab": {
          "base_uri": "https://localhost:8080/"
        },
        "id": "u0-zTEd7vnZv",
        "outputId": "c6846426-a081-4cc7-bf92-60a76b72d144"
      },
      "execution_count": 33,
      "outputs": [
        {
          "output_type": "stream",
          "name": "stdout",
          "text": [
            "n_16a=70,total=14632886.0\n",
            "n_16b=56.34686643297412\n"
          ]
        }
      ]
    },
    {
      "cell_type": "code",
      "source": [
        "l3 = sorted(df3.loc[:,'dividends'].to_list(),reverse=True)\n",
        "total = l3[0]\n",
        "n_17a = 0\n",
        "while total <= sum(l3) * 0.5:\n",
        "  n_17a += 1\n",
        "  total += l3[n_17a]\n",
        "print(f'n_17a={n_17a},total={total}')\n",
        "n_17b = 100 * sum(l3[0:100]) / sum(l3)\n",
        "print(f'n_17b={n_17b}')"
      ],
      "metadata": {
        "colab": {
          "base_uri": "https://localhost:8080/"
        },
        "id": "HzUZIOXAvw8w",
        "outputId": "cff9fad2-29eb-4ecd-fc46-2cca2cfe0da0"
      },
      "execution_count": 34,
      "outputs": [
        {
          "output_type": "stream",
          "name": "stdout",
          "text": [
            "n_17a=31,total=3646306994033.31\n",
            "n_17b=64.87316729619614\n"
          ]
        }
      ]
    },
    {
      "cell_type": "code",
      "source": [
        "l3 = sorted(df3.loc[:,'total assets'].to_list(),reverse=True)\n",
        "total = l3[0]\n",
        "n_18a = 0\n",
        "while total <= sum(l3) * 0.5:\n",
        "  n_18a += 1\n",
        "  total += l3[n_18a]\n",
        "print(f'n_18a={n_18a},total={total}')\n",
        "n_18b = 100 * sum(l3[0:100]) / sum(l3)\n",
        "print(f'n_18b={n_18b}')"
      ],
      "metadata": {
        "colab": {
          "base_uri": "https://localhost:8080/"
        },
        "id": "S3dhxzdOv_pM",
        "outputId": "60580760-6bb7-4b6e-ca76-b9c8abfe6886"
      },
      "execution_count": 35,
      "outputs": [
        {
          "output_type": "stream",
          "name": "stdout",
          "text": [
            "n_18a=23,total=1464614340164.05\n",
            "n_18b=77.44885485887364\n"
          ]
        }
      ]
    },
    {
      "cell_type": "code",
      "source": [
        "list = [[n_1a,n_7a,n_13a,n_1b,n_7b,n_13b],[n_2a,n_8a,n_14a,n_2b,n_8b,n_14b],[n_3a,n_9a,n_15a,n_3b,n_9b,n_15b],\n",
        "        [n_4a,n_10a,n_16a,n_4b,n_10b,n_16b],[n_5a,n_11a,n_17a,n_5b,n_11b,n_17b],[n_6a,n_12a,n_18a,n_6b,n_12b,n_18b]]\n",
        "df = pd.DataFrame(list)\n",
        "df.index = ['earning','assets','cash','cash flow','dividends','total assets']\n",
        "df.columns=['1975','1995','2015','1975','1995','2015']\n",
        "df"
      ],
      "metadata": {
        "colab": {
          "base_uri": "https://localhost:8080/",
          "height": 235
        },
        "id": "HOCb9zjtynjH",
        "outputId": "21968be5-6cc5-4207-c883-f6e776926d01"
      },
      "execution_count": 36,
      "outputs": [
        {
          "output_type": "execute_result",
          "data": {
            "text/plain": [
              "              1975  1995  2015       1975       1995       2015\n",
              "earning         65    91   102  57.280913  51.221757  49.544916\n",
              "assets          72   108   108  56.437095  48.370857  48.263524\n",
              "cash           138   125   121  43.233415  45.924874  46.916999\n",
              "cash flow       29   111    70  78.269064  47.575046  56.346866\n",
              "dividends       79   102    31  54.327031  49.416504  64.873167\n",
              "total assets    76    82    23  55.097198  54.831894  77.448855"
            ],
            "text/html": [
              "\n",
              "  <div id=\"df-3a1b1f05-dc5a-463d-a482-f2853cf7c8b2\">\n",
              "    <div class=\"colab-df-container\">\n",
              "      <div>\n",
              "<style scoped>\n",
              "    .dataframe tbody tr th:only-of-type {\n",
              "        vertical-align: middle;\n",
              "    }\n",
              "\n",
              "    .dataframe tbody tr th {\n",
              "        vertical-align: top;\n",
              "    }\n",
              "\n",
              "    .dataframe thead th {\n",
              "        text-align: right;\n",
              "    }\n",
              "</style>\n",
              "<table border=\"1\" class=\"dataframe\">\n",
              "  <thead>\n",
              "    <tr style=\"text-align: right;\">\n",
              "      <th></th>\n",
              "      <th>1975</th>\n",
              "      <th>1995</th>\n",
              "      <th>2015</th>\n",
              "      <th>1975</th>\n",
              "      <th>1995</th>\n",
              "      <th>2015</th>\n",
              "    </tr>\n",
              "  </thead>\n",
              "  <tbody>\n",
              "    <tr>\n",
              "      <th>earning</th>\n",
              "      <td>65</td>\n",
              "      <td>91</td>\n",
              "      <td>102</td>\n",
              "      <td>57.280913</td>\n",
              "      <td>51.221757</td>\n",
              "      <td>49.544916</td>\n",
              "    </tr>\n",
              "    <tr>\n",
              "      <th>assets</th>\n",
              "      <td>72</td>\n",
              "      <td>108</td>\n",
              "      <td>108</td>\n",
              "      <td>56.437095</td>\n",
              "      <td>48.370857</td>\n",
              "      <td>48.263524</td>\n",
              "    </tr>\n",
              "    <tr>\n",
              "      <th>cash</th>\n",
              "      <td>138</td>\n",
              "      <td>125</td>\n",
              "      <td>121</td>\n",
              "      <td>43.233415</td>\n",
              "      <td>45.924874</td>\n",
              "      <td>46.916999</td>\n",
              "    </tr>\n",
              "    <tr>\n",
              "      <th>cash flow</th>\n",
              "      <td>29</td>\n",
              "      <td>111</td>\n",
              "      <td>70</td>\n",
              "      <td>78.269064</td>\n",
              "      <td>47.575046</td>\n",
              "      <td>56.346866</td>\n",
              "    </tr>\n",
              "    <tr>\n",
              "      <th>dividends</th>\n",
              "      <td>79</td>\n",
              "      <td>102</td>\n",
              "      <td>31</td>\n",
              "      <td>54.327031</td>\n",
              "      <td>49.416504</td>\n",
              "      <td>64.873167</td>\n",
              "    </tr>\n",
              "    <tr>\n",
              "      <th>total assets</th>\n",
              "      <td>76</td>\n",
              "      <td>82</td>\n",
              "      <td>23</td>\n",
              "      <td>55.097198</td>\n",
              "      <td>54.831894</td>\n",
              "      <td>77.448855</td>\n",
              "    </tr>\n",
              "  </tbody>\n",
              "</table>\n",
              "</div>\n",
              "      <button class=\"colab-df-convert\" onclick=\"convertToInteractive('df-3a1b1f05-dc5a-463d-a482-f2853cf7c8b2')\"\n",
              "              title=\"Convert this dataframe to an interactive table.\"\n",
              "              style=\"display:none;\">\n",
              "        \n",
              "  <svg xmlns=\"http://www.w3.org/2000/svg\" height=\"24px\"viewBox=\"0 0 24 24\"\n",
              "       width=\"24px\">\n",
              "    <path d=\"M0 0h24v24H0V0z\" fill=\"none\"/>\n",
              "    <path d=\"M18.56 5.44l.94 2.06.94-2.06 2.06-.94-2.06-.94-.94-2.06-.94 2.06-2.06.94zm-11 1L8.5 8.5l.94-2.06 2.06-.94-2.06-.94L8.5 2.5l-.94 2.06-2.06.94zm10 10l.94 2.06.94-2.06 2.06-.94-2.06-.94-.94-2.06-.94 2.06-2.06.94z\"/><path d=\"M17.41 7.96l-1.37-1.37c-.4-.4-.92-.59-1.43-.59-.52 0-1.04.2-1.43.59L10.3 9.45l-7.72 7.72c-.78.78-.78 2.05 0 2.83L4 21.41c.39.39.9.59 1.41.59.51 0 1.02-.2 1.41-.59l7.78-7.78 2.81-2.81c.8-.78.8-2.07 0-2.86zM5.41 20L4 18.59l7.72-7.72 1.47 1.35L5.41 20z\"/>\n",
              "  </svg>\n",
              "      </button>\n",
              "      \n",
              "  <style>\n",
              "    .colab-df-container {\n",
              "      display:flex;\n",
              "      flex-wrap:wrap;\n",
              "      gap: 12px;\n",
              "    }\n",
              "\n",
              "    .colab-df-convert {\n",
              "      background-color: #E8F0FE;\n",
              "      border: none;\n",
              "      border-radius: 50%;\n",
              "      cursor: pointer;\n",
              "      display: none;\n",
              "      fill: #1967D2;\n",
              "      height: 32px;\n",
              "      padding: 0 0 0 0;\n",
              "      width: 32px;\n",
              "    }\n",
              "\n",
              "    .colab-df-convert:hover {\n",
              "      background-color: #E2EBFA;\n",
              "      box-shadow: 0px 1px 2px rgba(60, 64, 67, 0.3), 0px 1px 3px 1px rgba(60, 64, 67, 0.15);\n",
              "      fill: #174EA6;\n",
              "    }\n",
              "\n",
              "    [theme=dark] .colab-df-convert {\n",
              "      background-color: #3B4455;\n",
              "      fill: #D2E3FC;\n",
              "    }\n",
              "\n",
              "    [theme=dark] .colab-df-convert:hover {\n",
              "      background-color: #434B5C;\n",
              "      box-shadow: 0px 1px 3px 1px rgba(0, 0, 0, 0.15);\n",
              "      filter: drop-shadow(0px 1px 2px rgba(0, 0, 0, 0.3));\n",
              "      fill: #FFFFFF;\n",
              "    }\n",
              "  </style>\n",
              "\n",
              "      <script>\n",
              "        const buttonEl =\n",
              "          document.querySelector('#df-3a1b1f05-dc5a-463d-a482-f2853cf7c8b2 button.colab-df-convert');\n",
              "        buttonEl.style.display =\n",
              "          google.colab.kernel.accessAllowed ? 'block' : 'none';\n",
              "\n",
              "        async function convertToInteractive(key) {\n",
              "          const element = document.querySelector('#df-3a1b1f05-dc5a-463d-a482-f2853cf7c8b2');\n",
              "          const dataTable =\n",
              "            await google.colab.kernel.invokeFunction('convertToInteractive',\n",
              "                                                     [key], {});\n",
              "          if (!dataTable) return;\n",
              "\n",
              "          const docLinkHtml = 'Like what you see? Visit the ' +\n",
              "            '<a target=\"_blank\" href=https://colab.research.google.com/notebooks/data_table.ipynb>data table notebook</a>'\n",
              "            + ' to learn more about interactive tables.';\n",
              "          element.innerHTML = '';\n",
              "          dataTable['output_type'] = 'display_data';\n",
              "          await google.colab.output.renderOutput(dataTable, element);\n",
              "          const docLink = document.createElement('div');\n",
              "          docLink.innerHTML = docLinkHtml;\n",
              "          element.appendChild(docLink);\n",
              "        }\n",
              "      </script>\n",
              "    </div>\n",
              "  </div>\n",
              "  "
            ]
          },
          "metadata": {},
          "execution_count": 36
        }
      ]
    }
  ]
}