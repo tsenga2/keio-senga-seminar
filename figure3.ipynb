{
  "cells": [
    {
      "cell_type": "markdown",
      "metadata": {
        "id": "view-in-github",
        "colab_type": "text"
      },
      "source": [
        "<a href=\"https://colab.research.google.com/github/tsenga2/keio-senga-seminar/blob/main/figure3.ipynb\" target=\"_parent\"><img src=\"https://colab.research.google.com/assets/colab-badge.svg\" alt=\"Open In Colab\"/></a>"
      ]
    },
    {
      "cell_type": "code",
      "execution_count": null,
      "metadata": {
        "id": "bpZUAO4hB-3m",
        "outputId": "f84d25a0-e8d9-47d4-c45b-acf102ecb525"
      },
      "outputs": [
        {
          "name": "stdout",
          "output_type": "stream",
          "text": [
            "Requirement already satisfied: matplotlib in c:\\users\\ichirokozakai\\anaconda3\\lib\\site-packages (3.5.1)\n",
            "Requirement already satisfied: fonttools>=4.22.0 in c:\\users\\ichirokozakai\\anaconda3\\lib\\site-packages (from matplotlib) (4.25.0)\n",
            "Note: you may need to restart the kernel to use updated packages.Requirement already satisfied: numpy>=1.17 in c:\\users\\ichirokozakai\\anaconda3\\lib\\site-packages (from matplotlib) (1.21.5)\n",
            "Requirement already satisfied: pyparsing>=2.2.1 in c:\\users\\ichirokozakai\\anaconda3\\lib\\site-packages (from matplotlib) (3.0.4)\n",
            "Requirement already satisfied: packaging>=20.0 in c:\\users\\ichirokozakai\\anaconda3\\lib\\site-packages (from matplotlib) (21.3)\n",
            "Requirement already satisfied: cycler>=0.10 in c:\\users\\ichirokozakai\\anaconda3\\lib\\site-packages (from matplotlib) (0.11.0)\n",
            "Requirement already satisfied: kiwisolver>=1.0.1 in c:\\users\\ichirokozakai\\anaconda3\\lib\\site-packages (from matplotlib) (1.3.2)\n",
            "Requirement already satisfied: pillow>=6.2.0 in c:\\users\\ichirokozakai\\anaconda3\\lib\\site-packages (from matplotlib) (9.0.1)\n",
            "Requirement already satisfied: python-dateutil>=2.7 in c:\\users\\ichirokozakai\\anaconda3\\lib\\site-packages (from matplotlib) (2.8.2)\n",
            "Requirement already satisfied: six>=1.5 in c:\\users\\ichirokozakai\\anaconda3\\lib\\site-packages (from python-dateutil>=2.7->matplotlib) (1.16.0)\n",
            "\n"
          ]
        }
      ],
      "source": [
        "%pip install matplotlib\n",
        "import pandas as pd\n",
        "import numpy as np\n",
        "import matplotlib.pyplot as plt\n",
        "from matplotlib.ticker import AutoMinorLocator\n",
        "import seaborn\n",
        "import collections\n",
        "import math\n",
        "import statistics\n",
        "import requests\n",
        "import io"
      ]
    },
    {
      "cell_type": "code",
      "execution_count": null,
      "metadata": {
        "id": "Es6IzfIXB-3r"
      },
      "outputs": [],
      "source": [
        "pd.set_option('display.max_columns',None)\n",
        "pd.set_option('display.max_rows',None)"
      ]
    },
    {
      "cell_type": "code",
      "execution_count": null,
      "metadata": {
        "id": "TMzVXaByB-3s"
      },
      "outputs": [],
      "source": [
        "url1=\"https://raw.githubusercontent.com/Icchi-Koza/seminar/master/Python%20in%20VScode/Kahle%20and%20Stultz/figure3.csv\"\n",
        "url2=\"https://raw.githubusercontent.com/Icchi-Koza/seminar/master/Python%20in%20VScode/Kahle%20and%20Stultz/figure3_2.csv\"\n",
        "dat1=pd.read_csv(url1,encoding='cp932')\n",
        "dat2=pd.read_csv(url2,encoding='cp932')"
      ]
    },
    {
      "cell_type": "code",
      "execution_count": null,
      "metadata": {
        "id": "jnaYB9AuB-3t"
      },
      "outputs": [],
      "source": [
        "list1=[1, 2, 5, 6, 7, 9, 10]\n",
        "col1=dat1.columns.tolist()\n",
        "col2=[]\n",
        "for i in list1:\n",
        "  col2.append(col1[i])\n",
        "dat1=dat1.loc[:,col2]"
      ]
    },
    {
      "cell_type": "code",
      "execution_count": null,
      "metadata": {
        "id": "liN-MvKdB-3t"
      },
      "outputs": [],
      "source": [
        "list2=[1,2,5,6,7,8]\n",
        "col3=dat2.columns.tolist()\n",
        "col4=[]\n",
        "for i in list2:\n",
        "          col4.append(col3[i])\n",
        "dat2=dat2.loc[:,col4]"
      ]
    },
    {
      "cell_type": "code",
      "execution_count": null,
      "metadata": {
        "id": "GCq4FxRWB-3u"
      },
      "outputs": [],
      "source": [
        "dat1.columns=['Name','FY','A(¥M)','FA(¥M)','PP&E(¥M)','Cash(¥M)','Inventory1(¥M)']\n",
        "def f(a):\n",
        "  return(a[:4])\n",
        "dat1['FY']=dat1['FY'].apply(f)\n",
        "dat2.columns=['Name','FY','M&FG(¥M)','Semi-FG&WIP(¥M)','Raw materials&P/M s(¥M)','REFS(¥M)']\n",
        "dat2['FY']=dat2['FY'].apply(f)\n",
        "dat3=dat1.set_index(['Name','FY'])\n",
        "dat4=dat2.set_index(['Name','FY'])"
      ]
    },
    {
      "cell_type": "code",
      "execution_count": null,
      "metadata": {
        "id": "F_p6rQsqB-3u"
      },
      "outputs": [],
      "source": [
        "dat5=dat3.groupby('FY').sum()\n",
        "dat5['FA/A']=dat5['FA(¥M)']/dat5['A(¥M)']\n",
        "dat5['Cash/A']=dat5['Cash(¥M)']/dat5['A(¥M)']\n",
        "dat5['Inventory1/A']=dat5['Inventory1(¥M)']/dat5['A(¥M)']\n",
        "list3=list(range(1975,2021))\n",
        "\n",
        "dat6=dat4.groupby('FY').sum()\n",
        "dat6['Inventory2(¥M)']=dat6['M&FG(¥M)']+dat6['Semi-FG&WIP(¥M)']+dat6['REFS(¥M)']\n",
        "dat7=pd.merge(dat5,dat6,how='outer',left_index=True,right_index=True)\n",
        "dat7['Inventory2/A']=dat7['Inventory2(¥M)']/dat7['A(¥M)']\n",
        "dat7['Inventory2/A']=dat7['Inventory2/A'].replace(0,np.nan)"
      ]
    },
    {
      "cell_type": "markdown",
      "metadata": {
        "id": "EV5gvFEVB-3v"
      },
      "source": [
        "* Refer [here](https://kentaro-wada.com/uscpa-8-inventory/) on the def. of Inventory2"
      ]
    },
    {
      "cell_type": "code",
      "execution_count": null,
      "metadata": {
        "id": "bLNtfdN-B-3x",
        "outputId": "c3dea5ec-f3dc-43f7-ba11-1a9905ee3eed"
      },
      "outputs": [
        {
          "data": {
            "image/png": "[encoded data removed]",
            "text/plain": [
              "<Figure size 432x288 with 1 Axes>"
            ]
          },
          "metadata": {
            "needs_background": "light"
          },
          "output_type": "display_data"
        }
      ],
      "source": [
        "%matplotlib inline\n",
        "Figure, ax=plt.subplots()\n",
        "ax.set_title('Evolution of Fixed Assets, Inventory, \\nand Cash Holdings in Japan', fontsize=15.0, loc='center')\n",
        "ax.spines['top'].set_visible(False)\n",
        "ax.spines['right'].set_visible(False)\n",
        "ax.set_yticks([0,0.05,0.1,0.15,0.2,0.25,0.3,0.35,0.4,0.45,0.5,0.55,0.6])\n",
        "minor_locater=AutoMinorLocator(5)\n",
        "ax.xaxis.set_minor_locator(minor_locater)\n",
        "ax.grid(axis=\"y\", alpha=0.3)\n",
        "ax.plot(list3,dat7['FA/A'],c='dimgrey',label='FA/A',ls='-',lw=2.5)\n",
        "ax.plot(list3,dat7['Cash/A'],c='grey',label='Cash/A',ls=':',lw=2.5)\n",
        "ax.plot(list3,dat7['Inventory1/A'],c='k',label='Inventory1/A',ls='--',lw=2.5)\n",
        "ax.plot(list3,dat7['Inventory2/A'],c='tab:brown',label='Inventory2/A',ls='--',lw=2.5)\n",
        "ax.legend(fontsize='small')\n",
        "plt.show()"
      ]
    },
    {
      "cell_type": "code",
      "execution_count": null,
      "metadata": {
        "id": "SEi6EDM7B-3x"
      },
      "outputs": [],
      "source": [
        ""
      ]
    }
  ],
  "metadata": {
    "kernelspec": {
      "display_name": "Python 3.9.12 ('base')",
      "language": "python",
      "name": "python3"
    },
    "language_info": {
      "codemirror_mode": {
        "name": "ipython",
        "version": 3
      },
      "file_extension": ".py",
      "mimetype": "text/x-python",
      "name": "python",
      "nbconvert_exporter": "python",
      "pygments_lexer": "ipython3",
      "version": "3.9.12"
    },
    "orig_nbformat": 4,
    "vscode": {
      "interpreter": {
        "hash": "9d1581b4deb543ea57f8fe0835880a0095a6b9499b728d4219ab9c6a42d1a626"
      }
    },
    "colab": {
      "name": "figure3.ipynb",
      "provenance": [],
      "include_colab_link": true
    }
  },
  "nbformat": 4,
  "nbformat_minor": 0
}